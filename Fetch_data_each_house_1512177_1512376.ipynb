{
 "cells": [
  {
   "cell_type": "markdown",
   "metadata": {},
   "source": [
    "# Lấy thông tin từng ngôi nhà"
   ]
  },
  {
   "cell_type": "code",
   "execution_count": 25,
   "metadata": {},
   "outputs": [],
   "source": [
    "from selenium import webdriver\n",
    "from selenium.webdriver.common.by import By\n",
    "from selenium.webdriver.support.ui import WebDriverWait\n",
    "from selenium.webdriver.support import expected_conditions as EC\n",
    "from selenium.common.exceptions import NoSuchElementException, ElementClickInterceptedException, TimeoutException\n",
    "import string\n",
    "import unidecode\n",
    "import csv\n",
    "import re # getting numbers from string"
   ]
  },
  {
   "cell_type": "code",
   "execution_count": 26,
   "metadata": {},
   "outputs": [],
   "source": [
    "#support method:\n",
    "def is_number(s):\n",
    "    try:\n",
    "        float(s)\n",
    "        return True\n",
    "    except ValueError:\n",
    "        return False\n",
    "    \n",
    "def remove_accent(text):\n",
    "    return unidecode.unidecode(text)\n",
    "\n",
    "def convert_price(value, unit):\n",
    "    units = {\n",
    "        'ty': 9,\n",
    "        'trieu': 6\n",
    "    }\n",
    "    # remove accent vietnamese\n",
    "    unit = remove_accent(unit)\n",
    "    try:\n",
    "        exponential = units[unit]\n",
    "        value_number = float(value)\n",
    "        price = int(value_number) * pow(10, exponential)\n",
    "        return price\n",
    "    except ValueError:\n",
    "        return 0\n",
    "    except:\n",
    "        return 0"
   ]
  },
  {
   "cell_type": "code",
   "execution_count": 27,
   "metadata": {},
   "outputs": [],
   "source": [
    "class House:\n",
    "    #attributes:\n",
    "    def __init__(self):    \n",
    "        self.__id = \"\"\n",
    "        self.__price = 0 # VND\n",
    "        self.__area = 0 # Đơn vị: m2\n",
    "        self.__floorCount = 1\n",
    "        self.__roomCount = 0\n",
    "        self.__bedRoomCount = 0\n",
    "        self.__toiletCount = 0\n",
    "        self.__furniture = \"\" #\n",
    "        self.__facade = 0\n",
    "        self.__view = \"\"\n",
    "        self.__direction = 0 # 0: Non-determined, 1: Bac, 2: DB, 3:Dong, 4:DN, 5:Nam, 6:TN, 7:Tay, 8:TB}\n",
    "        self.__distanceToMainRoad = 0 # Đơn vị: m\n",
    "        self.__ownershipCertification = \"\"\n",
    "        self.__landOwnershipCertification = 0 #False\n",
    "        self.__houseOwnershipCertification = 0 #False\n",
    "        self.__location = \"\"\n",
    "        self.__type = \"\"\n",
    "#         self.__type = 0 #0: Nhà riêng, 1: dự án\n",
    "    \n",
    "    # Set attribute function\n",
    "    def __set_id(self, value):\n",
    "        self.__id = value\n",
    "        \n",
    "    def __set_price(self, value):\n",
    "        self.__price = value\n",
    "        \n",
    "    def __set_landOwnershipCertificate(self, value):\n",
    "        self.__landOwnershipCertificate = value\n",
    "        \n",
    "    def __set_houseOwnershipCertification(self, value):\n",
    "        self.__houseOwnershipCertification = value\n",
    "        \n",
    "    def __set_id_from_string(self, string):\n",
    "        #process string\n",
    "        id = string\n",
    "        self.__set_id(id)\n",
    "                   \n",
    "    def __set_price_from_string(self, string):\n",
    "        price = 0;\n",
    "        if is_number(string):\n",
    "            price = int(string)\n",
    "        else:\n",
    "            x = string.split()\n",
    "            value = x[0]\n",
    "            unit = x[len(x)-1]\n",
    "            if is_number(value):\n",
    "                price = convert_price(value, unit)\n",
    "        self.__set_price(price)\n",
    "    \n",
    "    def set_area_from_string(self, string):   \n",
    "        temp = re.findall(r'\\d+', string)\n",
    "        self.__area = temp[0]\n",
    "        \n",
    "    def set_roomCount_from_string(self, string):\n",
    "        temp = re.findall(r'\\d+', string)\n",
    "        self.__roomCount = temp[0]\n",
    "        \n",
    "    def set_type_from_string(self, string):\n",
    "        temp = string.split('\\n')\n",
    "        self.__type = temp[1]\n",
    "    \n",
    "    def set_location_from_string(self, string):\n",
    "        temp = string.split('\\n')\n",
    "        self.__location = temp[1]\n",
    "        \n",
    "    def set_direction_from_string(self, string):\n",
    "        if string == 'Bắc': \n",
    "            self.__direction = 1 \n",
    "            return\n",
    "        if string == 'Đông Bắc': \n",
    "            self.__direction = 2 \n",
    "            return\n",
    "        if string == 'Đông': \n",
    "            self.__direction = 3 \n",
    "            return\n",
    "        if string == 'Đông Nam': \n",
    "            self.__direction = 4 \n",
    "            return\n",
    "        if string == 'Nam': \n",
    "            self.__direction = 5 \n",
    "            return\n",
    "        if string == 'Tây Nam': \n",
    "            self.__direction = 6 \n",
    "            return\n",
    "        if string == 'Tây': \n",
    "            self.__direction = 7 \n",
    "            return\n",
    "        if string == 'Tây Bắc': \n",
    "            self.__direction = 8 \n",
    "            return \n",
    "        self.__direction = 0 \n",
    "        return\n",
    "    \n",
    "    def __set_floorCount_from_string(self, string):\n",
    "        temp = re.findall(r'\\d+', string)\n",
    "        self.__floorCount = temp[0]\n",
    "        \n",
    "    def __set_furniture_from_string(self, string):\n",
    "        self.__furniture = string.split(\"\\n\")[1]\n",
    "        \n",
    "    def __set_ownershipCertification_from_string(self, string):\n",
    "        self.__ownershipCertification = string.split(\"\\n\")[1]\n",
    "        if (\"sổ hồng\" in string) or (\"Sổ hồng\" in string):\n",
    "            self.__set_landOwnershipCertificate(0)\n",
    "            self.__set_houseOwnershipCertification(1)\n",
    "        elif (\"sổ đỏ\" in string) or (\"Sổ đỏ\" in string):\n",
    "            self.__set_landOwnershipCertificate(1)\n",
    "            self.__set_houseOwnershipCertification(0)\n",
    "            \n",
    "    def __set_bedRoomCount_from_string(self, string):\n",
    "        temp = re.findall(r'\\d+', string)\n",
    "        self.__bedRoomCount = temp[0]\n",
    "        \n",
    "#     def set_direction_from_string(self, string):\n",
    "#         self.__direction = string\n",
    "        \n",
    "    def set_attribute(self, keyword, string):\n",
    "        if keyword == 'id':\n",
    "            self.__set_id_from_string(string)\n",
    "            return\n",
    "        if keyword == 'price':\n",
    "            self.__set_price_from_string(string)\n",
    "            return\n",
    "        if keyword == 'area':\n",
    "            self.set_area_from_string(string)\n",
    "            return\n",
    "        if keyword == 'roomcount':\n",
    "            self.set_roomCount_from_string(string)\n",
    "            return\n",
    "        if keyword == 'type':\n",
    "            self.set_type_from_string(string)\n",
    "            return\n",
    "        if keyword == 'location':\n",
    "            self.set_location_from_string(string)\n",
    "            return\n",
    "        if keyword == 'direction':\n",
    "            self.set_direction_from_string(string)\n",
    "            return\n",
    "        \n",
    "        if keyword == 'floorCount':\n",
    "            self.__set_floorCount_from_string(string)\n",
    "        \n",
    "        if keyword == 'furniture':\n",
    "            self.__set_furniture_from_string(string)\n",
    "        \n",
    "        if keyword == 'ownershipCertification':\n",
    "            self.__set_ownershipCertification_from_string(string)\n",
    "        \n",
    "        if keyword == 'bedRoomCount':\n",
    "            self.__set_bedRoomCount_from_string(string)\n",
    "        \n",
    "    #Get function\n",
    "#     def __get_attribute(self, keyword)\n",
    "\n",
    "    def get_id(self):\n",
    "        return self.__id\n",
    "    \n",
    "    def get_price(self):\n",
    "        return self.__price\n",
    "    \n",
    "    def get_area(self):\n",
    "        return self.__area\n",
    "    \n",
    "    def get_floorCount(self):\n",
    "        return self.__floorCount\n",
    "    \n",
    "    def get_roomCount(self):\n",
    "        return self.__roomCount\n",
    "    \n",
    "    def get_bedRoomCount(self):\n",
    "        return self.__bedRoomCount\n",
    "    \n",
    "    def get_toiletCount(self):\n",
    "        return self.__toiletCount\n",
    "    \n",
    "    def get_furniture(self):\n",
    "        return self.__furniture\n",
    "    \n",
    "    def get_facade(self):\n",
    "        return self.__facade\n",
    "    \n",
    "    def get_view(self):\n",
    "        return self.__view\n",
    "    \n",
    "    def get_direction(self):\n",
    "        return self.__direction\n",
    "    \n",
    "    def get_distanceToMainRoad(self):\n",
    "        return self.__distanceToMainRoad\n",
    "    \n",
    "    def get_ownershipCertification(self):\n",
    "        return self.__ownershipCertification\n",
    "    \n",
    "    def get_landOwnershipCertification(self):\n",
    "        return self.__landOwnershipCertification\n",
    "    \n",
    "    def get_houseOwnershipCertification(self):\n",
    "        return self.__houseOwnershipCertification\n",
    "    \n",
    "    def get_location(self):\n",
    "        return self.__location\n",
    "    \n",
    "    def get_type(self):\n",
    "        return self.__type\n",
    "        \n",
    "    \n",
    "    def __del__(self):\n",
    "        self.__id = None\n",
    "        self.__price = None\n",
    "        self.__area = None\n",
    "        self.__floorCount = None\n",
    "        self.__roomCount = None\n",
    "        self.__bedRoomCount = None\n",
    "        self.__toiletCount = None\n",
    "        self.__furniture = None\n",
    "        self.__facade = None\n",
    "        self.__view = None\n",
    "        self.__direction = None\n",
    "        self = None\n",
    "        self.__ownershipCertification = None\n",
    "        self.__landOwnershipCertification = None\n",
    "        self.__houseOwnershipCertification = None\n",
    "        self.__location = None\n",
    "        self.__type = None\n",
    "        \n",
    "    #---------------print object house--------------\n",
    "    def __str__(self):\n",
    "        return \"id = %s\\n\" \\\n",
    "            \"price = %d\\n\" \\\n",
    "            \"area = %s\\n\" \\\n",
    "            \"roomCount = %s\\n\" \\\n",
    "            \"bedRoomCount = %s\\n\" \\\n",
    "            \"toiletCount = %s\\n\" \\\n",
    "            \"floorCount = %s\\n\" \\\n",
    "            \"furniture = %s\\n\" \\\n",
    "            \"facade = %s\\n\" \\\n",
    "            \"view = %s\\n\" \\\n",
    "            \"direction = %s\\n\" \\\n",
    "            \"distanceToMainRoad = %s\\n\" \\\n",
    "            \"ownershipCertification = %s\\n\" \\\n",
    "            \"landOwnershipCertification = %s\\n\" \\\n",
    "            \"houseOwnershipCertification = %s\\n\" \\\n",
    "            \"location = %s\\n\" \\\n",
    "            \"type = %s\"% (\n",
    "                self.__id, self.__price, self.__area, self.__roomCount, \n",
    "                self.__bedRoomCount, self.__toiletCount, self.__floorCount, self.__furniture,\n",
    "                self.__facade, self.__view,\n",
    "                self.__direction, self.__distanceToMainRoad, self.__ownershipCertification,\n",
    "                self.__landOwnershipCertification,\n",
    "                self.__houseOwnershipCertification, self.__location, self.__type)\n",
    "        \n",
    "    #public method"
   ]
  },
  {
   "cell_type": "code",
   "execution_count": 28,
   "metadata": {},
   "outputs": [],
   "source": [
    "def get_detail_first(house):\n",
    "    wait = WebDriverWait(browser, 2000)\n",
    "    element = wait.until(EC.presence_of_all_elements_located((By.CLASS_NAME, 'short-detail-2')))\n",
    "    short_detail_2 = browser.find_element_by_class_name('short-detail-2')\n",
    "    short_detail_2_values = short_detail_2.find_elements_by_tag_name('li')\n",
    "    for value in short_detail_2_values:\n",
    "        if 'giá' in value.text:\n",
    "            price = value.find_elements_by_tag_name('span')[1].text\n",
    "            house.set_attribute('price', price)\n",
    "        if 'Diện tích' in value.text:\n",
    "            house.set_attribute('area', value.text)\n",
    "        if 'Phòng ngủ' in value.text:\n",
    "            house.set_attribute('roomcount', value.text)"
   ]
  },
  {
   "cell_type": "code",
   "execution_count": 29,
   "metadata": {},
   "outputs": [],
   "source": [
    "def get_detail_second(house):\n",
    "    detail_2 = browser.find_element_by_class_name('detail-2')\n",
    "    detail_2_values = detail_2.find_element_by_class_name('box-round-grey3').find_elements_by_tag_name('div')\n",
    "\n",
    "    for value in detail_2_values:\n",
    "        if 'Loại' in value.text:\n",
    "            house.set_attribute('type', value.text)\n",
    "        if 'Địa chỉ' in value.text:\n",
    "            house.set_attribute('location', value.text)\n",
    "        if 'Hướng' in value.text:\n",
    "            house.set_attribute('direction', value.text)\n",
    "        if 'Số tầng' in value.text:\n",
    "            house.set_attribute('floorCount', value.text)\n",
    "        if 'Nội thất' in value.text:\n",
    "            house.set_attribute('furniture', value.text)\n",
    "        if 'Pháp lý' in value.text:\n",
    "            house.set_attribute('ownershipCertification', value.text)\n",
    "        if 'phòng ngủ' in value.text:\n",
    "            house.set_attribute('bedRoomCount', value.text)"
   ]
  },
  {
   "cell_type": "code",
   "execution_count": 30,
   "metadata": {},
   "outputs": [],
   "source": [
    "def init_out_file_header():\n",
    "    header = [\n",
    "        'ID',\n",
    "    #     'Giá'\n",
    "        'Price',\n",
    "    #     'Diện tích',\n",
    "        'Area',\n",
    "    #     Số tầng\n",
    "        'floorCount',\n",
    "    #     'Số Phòng',\n",
    "        'RoomCount',\n",
    "    #     'Số Phòng Ngủ'\n",
    "        'BedRoomCount',\n",
    "    #     'Số Phòng VS'\n",
    "        'ToiletCount',\n",
    "    #     Mức độ hoàn thiện đồ nội thất, đơn vị: %\n",
    "        'Furniture',\n",
    "    #     'Mặt Tiền'\n",
    "        'Facade',\n",
    "    #     Khung cảnh\n",
    "        'View',\n",
    "    #     'Hướng nhà'\n",
    "        'Direction',\n",
    "    #     'khoảng cách đến trục đường chính'\n",
    "        'DistanceToMainRoad',\n",
    "    #     Pháp lý\n",
    "        'OwnershipCertification',\n",
    "    #     'Sổ đỏ'\n",
    "        'LandOwnershipCertification',\n",
    "    #     'Sổ hồng'\n",
    "        'houseOwnershipCertification',\n",
    "        #Vị trí, dia chi\n",
    "        'Location',\n",
    "        # Project type\n",
    "        'Type',\n",
    "    #     now: string\n",
    "    #     'DatNhaRieng': 0 after processing\n",
    "    #     'DatDuAn': 1\n",
    "    ]\n",
    "    return header"
   ]
  },
  {
   "cell_type": "code",
   "execution_count": 31,
   "metadata": {},
   "outputs": [],
   "source": [
    "def get_all_house_information(n, outFilePath):\n",
    "    count = 500;\n",
    "    \n",
    "    outF = open(outFilePath, 'w', encoding='utf-8')\n",
    "    header = init_out_file_header()\n",
    "    writer = csv.DictWriter(outF, fieldnames=header)\n",
    "    \n",
    "    with outF:\n",
    "        writer.writeheader()\n",
    "    \n",
    "        while count < n:\n",
    "            print(count, '\\n')\n",
    "            count += 1\n",
    "            inFilePath = 'Data' + '\\\\' + 'house_links_' + str(count) + '.txt'\n",
    "            inF = open(inFilePath, 'r', encoding='utf-8')\n",
    "            lines = inF.readlines()\n",
    "            inF.close()\n",
    "\n",
    "            stt = 0;\n",
    "            for line in lines:\n",
    "                stt += 1\n",
    "                url = line\n",
    "                browser.get(url)\n",
    "                #FID: file id\n",
    "                #STTIF: stt in file\n",
    "                hid = 'FID' + str(count) + 'STTIF' + str(stt)\n",
    "\n",
    "                house = House()\n",
    "                house.set_attribute('id', hid)\n",
    "\n",
    "                get_detail_first(house)\n",
    "                get_detail_second(house)\n",
    "                \n",
    "                writer.writerow({\n",
    "                    'ID': house.get_id(),\n",
    "                    'Price': house.get_price(),\n",
    "                    'Area': house.get_area(),\n",
    "                    'floorCount': house.get_floorCount(),\n",
    "                    'RoomCount': house.get_roomCount(),\n",
    "                    'BedRoomCount': house.get_bedRoomCount(),\n",
    "                    'ToiletCount': house.get_toiletCount(),\n",
    "                    'Furniture': house.get_furniture(),\n",
    "                    'Facade': house.get_facade(),\n",
    "                    'View': house.get_view(),\n",
    "                    'Direction': house.get_direction(),\n",
    "                    'DistanceToMainRoad': house.get_distanceToMainRoad(),\n",
    "                    'OwnershipCertification': house.get_ownershipCertification(),\n",
    "                    'LandOwnershipCertification': house.get_landOwnershipCertification(),\n",
    "                    'houseOwnershipCertification': house.get_houseOwnershipCertification(),\n",
    "                    'Location': house.get_location(),\n",
    "                    'Type': house.get_type(),\n",
    "                })\n",
    "                print (stt)\n",
    "                \n",
    "    outF.close()"
   ]
  },
  {
   "cell_type": "code",
   "execution_count": 32,
   "metadata": {
    "scrolled": true
   },
   "outputs": [
    {
     "name": "stdout",
     "output_type": "stream",
     "text": [
      "500 \n",
      "\n",
      "1\n"
     ]
    },
    {
     "name": "stderr",
     "output_type": "stream",
     "text": [
      "Exception ignored in: <function House.__del__ at 0x00000213575B1550>\n",
      "Traceback (most recent call last):\n",
      "  File \"<ipython-input-27-0e9bb8cdab4c>\", line 223, in __del__\n",
      "AttributeError: 'NoneType' object has no attribute '_House__ownershipCertification'\n"
     ]
    },
    {
     "name": "stdout",
     "output_type": "stream",
     "text": [
      "2\n"
     ]
    },
    {
     "name": "stderr",
     "output_type": "stream",
     "text": [
      "Exception ignored in: <function House.__del__ at 0x00000213575B1550>\n",
      "Traceback (most recent call last):\n",
      "  File \"<ipython-input-27-0e9bb8cdab4c>\", line 223, in __del__\n",
      "AttributeError: 'NoneType' object has no attribute '_House__ownershipCertification'\n"
     ]
    },
    {
     "name": "stdout",
     "output_type": "stream",
     "text": [
      "3\n"
     ]
    },
    {
     "name": "stderr",
     "output_type": "stream",
     "text": [
      "Exception ignored in: <function House.__del__ at 0x00000213575B1550>\n",
      "Traceback (most recent call last):\n",
      "  File \"<ipython-input-27-0e9bb8cdab4c>\", line 223, in __del__\n",
      "AttributeError: 'NoneType' object has no attribute '_House__ownershipCertification'\n"
     ]
    },
    {
     "name": "stdout",
     "output_type": "stream",
     "text": [
      "4\n"
     ]
    },
    {
     "name": "stderr",
     "output_type": "stream",
     "text": [
      "Exception ignored in: <function House.__del__ at 0x00000213575B1550>\n",
      "Traceback (most recent call last):\n",
      "  File \"<ipython-input-27-0e9bb8cdab4c>\", line 223, in __del__\n",
      "AttributeError: 'NoneType' object has no attribute '_House__ownershipCertification'\n"
     ]
    },
    {
     "name": "stdout",
     "output_type": "stream",
     "text": [
      "5\n"
     ]
    },
    {
     "name": "stderr",
     "output_type": "stream",
     "text": [
      "Exception ignored in: <function House.__del__ at 0x00000213575B1550>\n",
      "Traceback (most recent call last):\n",
      "  File \"<ipython-input-27-0e9bb8cdab4c>\", line 223, in __del__\n",
      "AttributeError: 'NoneType' object has no attribute '_House__ownershipCertification'\n"
     ]
    },
    {
     "name": "stdout",
     "output_type": "stream",
     "text": [
      "6\n"
     ]
    },
    {
     "name": "stderr",
     "output_type": "stream",
     "text": [
      "Exception ignored in: <function House.__del__ at 0x00000213575B1550>\n",
      "Traceback (most recent call last):\n",
      "  File \"<ipython-input-27-0e9bb8cdab4c>\", line 223, in __del__\n",
      "AttributeError: 'NoneType' object has no attribute '_House__ownershipCertification'\n"
     ]
    },
    {
     "name": "stdout",
     "output_type": "stream",
     "text": [
      "7\n"
     ]
    },
    {
     "name": "stderr",
     "output_type": "stream",
     "text": [
      "Exception ignored in: <function House.__del__ at 0x00000213575B1550>\n",
      "Traceback (most recent call last):\n",
      "  File \"<ipython-input-27-0e9bb8cdab4c>\", line 223, in __del__\n",
      "AttributeError: 'NoneType' object has no attribute '_House__ownershipCertification'\n"
     ]
    },
    {
     "name": "stdout",
     "output_type": "stream",
     "text": [
      "8\n"
     ]
    },
    {
     "name": "stderr",
     "output_type": "stream",
     "text": [
      "Exception ignored in: <function House.__del__ at 0x00000213575B1550>\n",
      "Traceback (most recent call last):\n",
      "  File \"<ipython-input-27-0e9bb8cdab4c>\", line 223, in __del__\n",
      "AttributeError: 'NoneType' object has no attribute '_House__ownershipCertification'\n"
     ]
    },
    {
     "name": "stdout",
     "output_type": "stream",
     "text": [
      "9\n"
     ]
    },
    {
     "name": "stderr",
     "output_type": "stream",
     "text": [
      "Exception ignored in: <function House.__del__ at 0x00000213575B1550>\n",
      "Traceback (most recent call last):\n",
      "  File \"<ipython-input-27-0e9bb8cdab4c>\", line 223, in __del__\n",
      "AttributeError: 'NoneType' object has no attribute '_House__ownershipCertification'\n"
     ]
    },
    {
     "name": "stdout",
     "output_type": "stream",
     "text": [
      "10\n"
     ]
    },
    {
     "name": "stderr",
     "output_type": "stream",
     "text": [
      "Exception ignored in: <function House.__del__ at 0x00000213575B1550>\n",
      "Traceback (most recent call last):\n",
      "  File \"<ipython-input-27-0e9bb8cdab4c>\", line 223, in __del__\n",
      "AttributeError: 'NoneType' object has no attribute '_House__ownershipCertification'\n"
     ]
    },
    {
     "name": "stdout",
     "output_type": "stream",
     "text": [
      "11\n"
     ]
    },
    {
     "name": "stderr",
     "output_type": "stream",
     "text": [
      "Exception ignored in: <function House.__del__ at 0x00000213575B1550>\n",
      "Traceback (most recent call last):\n",
      "  File \"<ipython-input-27-0e9bb8cdab4c>\", line 223, in __del__\n",
      "AttributeError: 'NoneType' object has no attribute '_House__ownershipCertification'\n"
     ]
    },
    {
     "name": "stdout",
     "output_type": "stream",
     "text": [
      "12\n"
     ]
    },
    {
     "name": "stderr",
     "output_type": "stream",
     "text": [
      "Exception ignored in: <function House.__del__ at 0x00000213575B1550>\n",
      "Traceback (most recent call last):\n",
      "  File \"<ipython-input-27-0e9bb8cdab4c>\", line 223, in __del__\n",
      "AttributeError: 'NoneType' object has no attribute '_House__ownershipCertification'\n"
     ]
    },
    {
     "name": "stdout",
     "output_type": "stream",
     "text": [
      "13\n"
     ]
    },
    {
     "name": "stderr",
     "output_type": "stream",
     "text": [
      "Exception ignored in: <function House.__del__ at 0x00000213575B1550>\n",
      "Traceback (most recent call last):\n",
      "  File \"<ipython-input-27-0e9bb8cdab4c>\", line 223, in __del__\n",
      "AttributeError: 'NoneType' object has no attribute '_House__ownershipCertification'\n"
     ]
    },
    {
     "name": "stdout",
     "output_type": "stream",
     "text": [
      "14\n"
     ]
    },
    {
     "name": "stderr",
     "output_type": "stream",
     "text": [
      "Exception ignored in: <function House.__del__ at 0x00000213575B1550>\n",
      "Traceback (most recent call last):\n",
      "  File \"<ipython-input-27-0e9bb8cdab4c>\", line 223, in __del__\n",
      "AttributeError: 'NoneType' object has no attribute '_House__ownershipCertification'\n"
     ]
    },
    {
     "name": "stdout",
     "output_type": "stream",
     "text": [
      "15\n"
     ]
    },
    {
     "name": "stderr",
     "output_type": "stream",
     "text": [
      "Exception ignored in: <function House.__del__ at 0x00000213575B1550>\n",
      "Traceback (most recent call last):\n",
      "  File \"<ipython-input-27-0e9bb8cdab4c>\", line 223, in __del__\n",
      "AttributeError: 'NoneType' object has no attribute '_House__ownershipCertification'\n"
     ]
    },
    {
     "name": "stdout",
     "output_type": "stream",
     "text": [
      "16\n"
     ]
    },
    {
     "name": "stderr",
     "output_type": "stream",
     "text": [
      "Exception ignored in: <function House.__del__ at 0x00000213575B1550>\n",
      "Traceback (most recent call last):\n",
      "  File \"<ipython-input-27-0e9bb8cdab4c>\", line 223, in __del__\n",
      "AttributeError: 'NoneType' object has no attribute '_House__ownershipCertification'\n"
     ]
    },
    {
     "name": "stdout",
     "output_type": "stream",
     "text": [
      "17\n"
     ]
    },
    {
     "name": "stderr",
     "output_type": "stream",
     "text": [
      "Exception ignored in: <function House.__del__ at 0x00000213575B1550>\n",
      "Traceback (most recent call last):\n",
      "  File \"<ipython-input-27-0e9bb8cdab4c>\", line 223, in __del__\n",
      "AttributeError: 'NoneType' object has no attribute '_House__ownershipCertification'\n"
     ]
    },
    {
     "name": "stdout",
     "output_type": "stream",
     "text": [
      "18\n"
     ]
    },
    {
     "name": "stderr",
     "output_type": "stream",
     "text": [
      "Exception ignored in: <function House.__del__ at 0x00000213575B1550>\n",
      "Traceback (most recent call last):\n",
      "  File \"<ipython-input-27-0e9bb8cdab4c>\", line 223, in __del__\n",
      "AttributeError: 'NoneType' object has no attribute '_House__ownershipCertification'\n"
     ]
    },
    {
     "name": "stdout",
     "output_type": "stream",
     "text": [
      "19\n"
     ]
    },
    {
     "name": "stderr",
     "output_type": "stream",
     "text": [
      "Exception ignored in: <function House.__del__ at 0x00000213575B1550>\n",
      "Traceback (most recent call last):\n",
      "  File \"<ipython-input-27-0e9bb8cdab4c>\", line 223, in __del__\n",
      "AttributeError: 'NoneType' object has no attribute '_House__ownershipCertification'\n"
     ]
    },
    {
     "name": "stdout",
     "output_type": "stream",
     "text": [
      "20\n",
      "501 \n",
      "\n"
     ]
    },
    {
     "name": "stderr",
     "output_type": "stream",
     "text": [
      "Exception ignored in: <function House.__del__ at 0x00000213575B1550>\n",
      "Traceback (most recent call last):\n",
      "  File \"<ipython-input-27-0e9bb8cdab4c>\", line 223, in __del__\n",
      "AttributeError: 'NoneType' object has no attribute '_House__ownershipCertification'\n"
     ]
    },
    {
     "name": "stdout",
     "output_type": "stream",
     "text": [
      "1\n"
     ]
    },
    {
     "name": "stderr",
     "output_type": "stream",
     "text": [
      "Exception ignored in: <function House.__del__ at 0x00000213575B1550>\n",
      "Traceback (most recent call last):\n",
      "  File \"<ipython-input-27-0e9bb8cdab4c>\", line 223, in __del__\n",
      "AttributeError: 'NoneType' object has no attribute '_House__ownershipCertification'\n"
     ]
    },
    {
     "name": "stdout",
     "output_type": "stream",
     "text": [
      "2\n"
     ]
    },
    {
     "name": "stderr",
     "output_type": "stream",
     "text": [
      "Exception ignored in: <function House.__del__ at 0x00000213575B1550>\n",
      "Traceback (most recent call last):\n",
      "  File \"<ipython-input-27-0e9bb8cdab4c>\", line 223, in __del__\n",
      "AttributeError: 'NoneType' object has no attribute '_House__ownershipCertification'\n"
     ]
    },
    {
     "name": "stdout",
     "output_type": "stream",
     "text": [
      "3\n"
     ]
    },
    {
     "name": "stderr",
     "output_type": "stream",
     "text": [
      "Exception ignored in: <function House.__del__ at 0x00000213575B1550>\n",
      "Traceback (most recent call last):\n",
      "  File \"<ipython-input-27-0e9bb8cdab4c>\", line 223, in __del__\n",
      "AttributeError: 'NoneType' object has no attribute '_House__ownershipCertification'\n"
     ]
    },
    {
     "name": "stdout",
     "output_type": "stream",
     "text": [
      "4\n"
     ]
    },
    {
     "name": "stderr",
     "output_type": "stream",
     "text": [
      "Exception ignored in: <function House.__del__ at 0x00000213575B1550>\n",
      "Traceback (most recent call last):\n",
      "  File \"<ipython-input-27-0e9bb8cdab4c>\", line 223, in __del__\n",
      "AttributeError: 'NoneType' object has no attribute '_House__ownershipCertification'\n"
     ]
    },
    {
     "name": "stdout",
     "output_type": "stream",
     "text": [
      "5\n"
     ]
    },
    {
     "name": "stderr",
     "output_type": "stream",
     "text": [
      "Exception ignored in: <function House.__del__ at 0x00000213575B1550>\n",
      "Traceback (most recent call last):\n",
      "  File \"<ipython-input-27-0e9bb8cdab4c>\", line 223, in __del__\n",
      "AttributeError: 'NoneType' object has no attribute '_House__ownershipCertification'\n"
     ]
    },
    {
     "name": "stdout",
     "output_type": "stream",
     "text": [
      "6\n"
     ]
    },
    {
     "name": "stderr",
     "output_type": "stream",
     "text": [
      "Exception ignored in: <function House.__del__ at 0x00000213575B1550>\n",
      "Traceback (most recent call last):\n",
      "  File \"<ipython-input-27-0e9bb8cdab4c>\", line 223, in __del__\n",
      "AttributeError: 'NoneType' object has no attribute '_House__ownershipCertification'\n"
     ]
    },
    {
     "name": "stdout",
     "output_type": "stream",
     "text": [
      "7\n"
     ]
    },
    {
     "name": "stderr",
     "output_type": "stream",
     "text": [
      "Exception ignored in: <function House.__del__ at 0x00000213575B1550>\n",
      "Traceback (most recent call last):\n",
      "  File \"<ipython-input-27-0e9bb8cdab4c>\", line 223, in __del__\n",
      "AttributeError: 'NoneType' object has no attribute '_House__ownershipCertification'\n"
     ]
    },
    {
     "name": "stdout",
     "output_type": "stream",
     "text": [
      "8\n"
     ]
    },
    {
     "name": "stderr",
     "output_type": "stream",
     "text": [
      "Exception ignored in: <function House.__del__ at 0x00000213575B1550>\n",
      "Traceback (most recent call last):\n",
      "  File \"<ipython-input-27-0e9bb8cdab4c>\", line 223, in __del__\n",
      "AttributeError: 'NoneType' object has no attribute '_House__ownershipCertification'\n"
     ]
    },
    {
     "name": "stdout",
     "output_type": "stream",
     "text": [
      "9\n"
     ]
    },
    {
     "name": "stderr",
     "output_type": "stream",
     "text": [
      "Exception ignored in: <function House.__del__ at 0x00000213575B1550>\n",
      "Traceback (most recent call last):\n",
      "  File \"<ipython-input-27-0e9bb8cdab4c>\", line 223, in __del__\n",
      "AttributeError: 'NoneType' object has no attribute '_House__ownershipCertification'\n"
     ]
    },
    {
     "name": "stdout",
     "output_type": "stream",
     "text": [
      "10\n"
     ]
    },
    {
     "name": "stderr",
     "output_type": "stream",
     "text": [
      "Exception ignored in: <function House.__del__ at 0x00000213575B1550>\n",
      "Traceback (most recent call last):\n",
      "  File \"<ipython-input-27-0e9bb8cdab4c>\", line 223, in __del__\n",
      "AttributeError: 'NoneType' object has no attribute '_House__ownershipCertification'\n"
     ]
    },
    {
     "name": "stdout",
     "output_type": "stream",
     "text": [
      "11\n"
     ]
    },
    {
     "name": "stderr",
     "output_type": "stream",
     "text": [
      "Exception ignored in: <function House.__del__ at 0x00000213575B1550>\n",
      "Traceback (most recent call last):\n",
      "  File \"<ipython-input-27-0e9bb8cdab4c>\", line 223, in __del__\n",
      "AttributeError: 'NoneType' object has no attribute '_House__ownershipCertification'\n"
     ]
    },
    {
     "name": "stdout",
     "output_type": "stream",
     "text": [
      "12\n"
     ]
    },
    {
     "name": "stderr",
     "output_type": "stream",
     "text": [
      "Exception ignored in: <function House.__del__ at 0x00000213575B1550>\n",
      "Traceback (most recent call last):\n",
      "  File \"<ipython-input-27-0e9bb8cdab4c>\", line 223, in __del__\n",
      "AttributeError: 'NoneType' object has no attribute '_House__ownershipCertification'\n"
     ]
    },
    {
     "name": "stdout",
     "output_type": "stream",
     "text": [
      "13\n"
     ]
    },
    {
     "name": "stderr",
     "output_type": "stream",
     "text": [
      "Exception ignored in: <function House.__del__ at 0x00000213575B1550>\n",
      "Traceback (most recent call last):\n",
      "  File \"<ipython-input-27-0e9bb8cdab4c>\", line 223, in __del__\n",
      "AttributeError: 'NoneType' object has no attribute '_House__ownershipCertification'\n"
     ]
    },
    {
     "name": "stdout",
     "output_type": "stream",
     "text": [
      "14\n"
     ]
    },
    {
     "name": "stderr",
     "output_type": "stream",
     "text": [
      "Exception ignored in: <function House.__del__ at 0x00000213575B1550>\n",
      "Traceback (most recent call last):\n",
      "  File \"<ipython-input-27-0e9bb8cdab4c>\", line 223, in __del__\n",
      "AttributeError: 'NoneType' object has no attribute '_House__ownershipCertification'\n"
     ]
    },
    {
     "name": "stdout",
     "output_type": "stream",
     "text": [
      "15\n"
     ]
    },
    {
     "name": "stderr",
     "output_type": "stream",
     "text": [
      "Exception ignored in: <function House.__del__ at 0x00000213575B1550>\n",
      "Traceback (most recent call last):\n",
      "  File \"<ipython-input-27-0e9bb8cdab4c>\", line 223, in __del__\n",
      "AttributeError: 'NoneType' object has no attribute '_House__ownershipCertification'\n"
     ]
    },
    {
     "name": "stdout",
     "output_type": "stream",
     "text": [
      "16\n"
     ]
    },
    {
     "name": "stderr",
     "output_type": "stream",
     "text": [
      "Exception ignored in: <function House.__del__ at 0x00000213575B1550>\n",
      "Traceback (most recent call last):\n",
      "  File \"<ipython-input-27-0e9bb8cdab4c>\", line 223, in __del__\n",
      "AttributeError: 'NoneType' object has no attribute '_House__ownershipCertification'\n"
     ]
    },
    {
     "name": "stdout",
     "output_type": "stream",
     "text": [
      "17\n"
     ]
    },
    {
     "name": "stderr",
     "output_type": "stream",
     "text": [
      "Exception ignored in: <function House.__del__ at 0x00000213575B1550>\n",
      "Traceback (most recent call last):\n",
      "  File \"<ipython-input-27-0e9bb8cdab4c>\", line 223, in __del__\n",
      "AttributeError: 'NoneType' object has no attribute '_House__ownershipCertification'\n"
     ]
    },
    {
     "name": "stdout",
     "output_type": "stream",
     "text": [
      "18\n"
     ]
    },
    {
     "name": "stderr",
     "output_type": "stream",
     "text": [
      "Exception ignored in: <function House.__del__ at 0x00000213575B1550>\n",
      "Traceback (most recent call last):\n",
      "  File \"<ipython-input-27-0e9bb8cdab4c>\", line 223, in __del__\n",
      "AttributeError: 'NoneType' object has no attribute '_House__ownershipCertification'\n"
     ]
    },
    {
     "name": "stdout",
     "output_type": "stream",
     "text": [
      "19\n"
     ]
    },
    {
     "name": "stderr",
     "output_type": "stream",
     "text": [
      "Exception ignored in: <function House.__del__ at 0x00000213575B1550>\n",
      "Traceback (most recent call last):\n",
      "  File \"<ipython-input-27-0e9bb8cdab4c>\", line 223, in __del__\n",
      "AttributeError: 'NoneType' object has no attribute '_House__ownershipCertification'\n"
     ]
    },
    {
     "name": "stdout",
     "output_type": "stream",
     "text": [
      "20\n",
      "502 \n",
      "\n"
     ]
    },
    {
     "name": "stderr",
     "output_type": "stream",
     "text": [
      "Exception ignored in: <function House.__del__ at 0x00000213575B1550>\n",
      "Traceback (most recent call last):\n",
      "  File \"<ipython-input-27-0e9bb8cdab4c>\", line 223, in __del__\n",
      "AttributeError: 'NoneType' object has no attribute '_House__ownershipCertification'\n"
     ]
    },
    {
     "name": "stdout",
     "output_type": "stream",
     "text": [
      "1\n"
     ]
    },
    {
     "name": "stderr",
     "output_type": "stream",
     "text": [
      "Exception ignored in: <function House.__del__ at 0x00000213575B1550>\n",
      "Traceback (most recent call last):\n",
      "  File \"<ipython-input-27-0e9bb8cdab4c>\", line 223, in __del__\n",
      "AttributeError: 'NoneType' object has no attribute '_House__ownershipCertification'\n"
     ]
    },
    {
     "name": "stdout",
     "output_type": "stream",
     "text": [
      "2\n"
     ]
    },
    {
     "name": "stderr",
     "output_type": "stream",
     "text": [
      "Exception ignored in: <function House.__del__ at 0x00000213575B1550>\n",
      "Traceback (most recent call last):\n",
      "  File \"<ipython-input-27-0e9bb8cdab4c>\", line 223, in __del__\n",
      "AttributeError: 'NoneType' object has no attribute '_House__ownershipCertification'\n"
     ]
    },
    {
     "name": "stdout",
     "output_type": "stream",
     "text": [
      "3\n"
     ]
    },
    {
     "name": "stderr",
     "output_type": "stream",
     "text": [
      "Exception ignored in: <function House.__del__ at 0x00000213575B1550>\n",
      "Traceback (most recent call last):\n",
      "  File \"<ipython-input-27-0e9bb8cdab4c>\", line 223, in __del__\n",
      "AttributeError: 'NoneType' object has no attribute '_House__ownershipCertification'\n"
     ]
    },
    {
     "name": "stdout",
     "output_type": "stream",
     "text": [
      "4\n"
     ]
    },
    {
     "name": "stderr",
     "output_type": "stream",
     "text": [
      "Exception ignored in: <function House.__del__ at 0x00000213575B1550>\n",
      "Traceback (most recent call last):\n",
      "  File \"<ipython-input-27-0e9bb8cdab4c>\", line 223, in __del__\n",
      "AttributeError: 'NoneType' object has no attribute '_House__ownershipCertification'\n"
     ]
    },
    {
     "name": "stdout",
     "output_type": "stream",
     "text": [
      "5\n"
     ]
    },
    {
     "name": "stderr",
     "output_type": "stream",
     "text": [
      "Exception ignored in: <function House.__del__ at 0x00000213575B1550>\n",
      "Traceback (most recent call last):\n",
      "  File \"<ipython-input-27-0e9bb8cdab4c>\", line 223, in __del__\n",
      "AttributeError: 'NoneType' object has no attribute '_House__ownershipCertification'\n"
     ]
    },
    {
     "name": "stdout",
     "output_type": "stream",
     "text": [
      "6\n"
     ]
    },
    {
     "name": "stderr",
     "output_type": "stream",
     "text": [
      "Exception ignored in: <function House.__del__ at 0x00000213575B1550>\n",
      "Traceback (most recent call last):\n",
      "  File \"<ipython-input-27-0e9bb8cdab4c>\", line 223, in __del__\n",
      "AttributeError: 'NoneType' object has no attribute '_House__ownershipCertification'\n"
     ]
    },
    {
     "name": "stdout",
     "output_type": "stream",
     "text": [
      "7\n"
     ]
    },
    {
     "name": "stderr",
     "output_type": "stream",
     "text": [
      "Exception ignored in: <function House.__del__ at 0x00000213575B1550>\n",
      "Traceback (most recent call last):\n",
      "  File \"<ipython-input-27-0e9bb8cdab4c>\", line 223, in __del__\n",
      "AttributeError: 'NoneType' object has no attribute '_House__ownershipCertification'\n"
     ]
    },
    {
     "name": "stdout",
     "output_type": "stream",
     "text": [
      "8\n"
     ]
    },
    {
     "name": "stderr",
     "output_type": "stream",
     "text": [
      "Exception ignored in: <function House.__del__ at 0x00000213575B1550>\n",
      "Traceback (most recent call last):\n",
      "  File \"<ipython-input-27-0e9bb8cdab4c>\", line 223, in __del__\n",
      "AttributeError: 'NoneType' object has no attribute '_House__ownershipCertification'\n"
     ]
    },
    {
     "name": "stdout",
     "output_type": "stream",
     "text": [
      "9\n"
     ]
    },
    {
     "name": "stderr",
     "output_type": "stream",
     "text": [
      "Exception ignored in: <function House.__del__ at 0x00000213575B1550>\n",
      "Traceback (most recent call last):\n",
      "  File \"<ipython-input-27-0e9bb8cdab4c>\", line 223, in __del__\n",
      "AttributeError: 'NoneType' object has no attribute '_House__ownershipCertification'\n"
     ]
    },
    {
     "name": "stdout",
     "output_type": "stream",
     "text": [
      "10\n"
     ]
    },
    {
     "name": "stderr",
     "output_type": "stream",
     "text": [
      "Exception ignored in: <function House.__del__ at 0x00000213575B1550>\n",
      "Traceback (most recent call last):\n",
      "  File \"<ipython-input-27-0e9bb8cdab4c>\", line 223, in __del__\n",
      "AttributeError: 'NoneType' object has no attribute '_House__ownershipCertification'\n"
     ]
    },
    {
     "name": "stdout",
     "output_type": "stream",
     "text": [
      "11\n"
     ]
    },
    {
     "name": "stderr",
     "output_type": "stream",
     "text": [
      "Exception ignored in: <function House.__del__ at 0x00000213575B1550>\n",
      "Traceback (most recent call last):\n",
      "  File \"<ipython-input-27-0e9bb8cdab4c>\", line 223, in __del__\n",
      "AttributeError: 'NoneType' object has no attribute '_House__ownershipCertification'\n"
     ]
    },
    {
     "name": "stdout",
     "output_type": "stream",
     "text": [
      "12\n"
     ]
    },
    {
     "name": "stderr",
     "output_type": "stream",
     "text": [
      "Exception ignored in: <function House.__del__ at 0x00000213575B1550>\n",
      "Traceback (most recent call last):\n",
      "  File \"<ipython-input-27-0e9bb8cdab4c>\", line 223, in __del__\n",
      "AttributeError: 'NoneType' object has no attribute '_House__ownershipCertification'\n"
     ]
    },
    {
     "name": "stdout",
     "output_type": "stream",
     "text": [
      "13\n"
     ]
    },
    {
     "name": "stderr",
     "output_type": "stream",
     "text": [
      "Exception ignored in: <function House.__del__ at 0x00000213575B1550>\n",
      "Traceback (most recent call last):\n",
      "  File \"<ipython-input-27-0e9bb8cdab4c>\", line 223, in __del__\n",
      "AttributeError: 'NoneType' object has no attribute '_House__ownershipCertification'\n"
     ]
    },
    {
     "name": "stdout",
     "output_type": "stream",
     "text": [
      "14\n"
     ]
    },
    {
     "name": "stderr",
     "output_type": "stream",
     "text": [
      "Exception ignored in: <function House.__del__ at 0x00000213575B1550>\n",
      "Traceback (most recent call last):\n",
      "  File \"<ipython-input-27-0e9bb8cdab4c>\", line 223, in __del__\n",
      "AttributeError: 'NoneType' object has no attribute '_House__ownershipCertification'\n"
     ]
    },
    {
     "name": "stdout",
     "output_type": "stream",
     "text": [
      "15\n"
     ]
    },
    {
     "name": "stderr",
     "output_type": "stream",
     "text": [
      "Exception ignored in: <function House.__del__ at 0x00000213575B1550>\n",
      "Traceback (most recent call last):\n",
      "  File \"<ipython-input-27-0e9bb8cdab4c>\", line 223, in __del__\n",
      "AttributeError: 'NoneType' object has no attribute '_House__ownershipCertification'\n"
     ]
    },
    {
     "name": "stdout",
     "output_type": "stream",
     "text": [
      "16\n"
     ]
    },
    {
     "name": "stderr",
     "output_type": "stream",
     "text": [
      "Exception ignored in: <function House.__del__ at 0x00000213575B1550>\n",
      "Traceback (most recent call last):\n",
      "  File \"<ipython-input-27-0e9bb8cdab4c>\", line 223, in __del__\n",
      "AttributeError: 'NoneType' object has no attribute '_House__ownershipCertification'\n"
     ]
    },
    {
     "name": "stdout",
     "output_type": "stream",
     "text": [
      "17\n"
     ]
    },
    {
     "name": "stderr",
     "output_type": "stream",
     "text": [
      "Exception ignored in: <function House.__del__ at 0x00000213575B1550>\n",
      "Traceback (most recent call last):\n",
      "  File \"<ipython-input-27-0e9bb8cdab4c>\", line 223, in __del__\n",
      "AttributeError: 'NoneType' object has no attribute '_House__ownershipCertification'\n"
     ]
    },
    {
     "name": "stdout",
     "output_type": "stream",
     "text": [
      "18\n"
     ]
    },
    {
     "name": "stderr",
     "output_type": "stream",
     "text": [
      "Exception ignored in: <function House.__del__ at 0x00000213575B1550>\n",
      "Traceback (most recent call last):\n",
      "  File \"<ipython-input-27-0e9bb8cdab4c>\", line 223, in __del__\n",
      "AttributeError: 'NoneType' object has no attribute '_House__ownershipCertification'\n"
     ]
    },
    {
     "name": "stdout",
     "output_type": "stream",
     "text": [
      "19\n"
     ]
    },
    {
     "name": "stderr",
     "output_type": "stream",
     "text": [
      "Exception ignored in: <function House.__del__ at 0x00000213575B1550>\n",
      "Traceback (most recent call last):\n",
      "  File \"<ipython-input-27-0e9bb8cdab4c>\", line 223, in __del__\n",
      "AttributeError: 'NoneType' object has no attribute '_House__ownershipCertification'\n"
     ]
    },
    {
     "name": "stdout",
     "output_type": "stream",
     "text": [
      "20\n",
      "503 \n",
      "\n"
     ]
    },
    {
     "name": "stderr",
     "output_type": "stream",
     "text": [
      "Exception ignored in: <function House.__del__ at 0x00000213575B1550>\n",
      "Traceback (most recent call last):\n",
      "  File \"<ipython-input-27-0e9bb8cdab4c>\", line 223, in __del__\n",
      "AttributeError: 'NoneType' object has no attribute '_House__ownershipCertification'\n"
     ]
    },
    {
     "name": "stdout",
     "output_type": "stream",
     "text": [
      "1\n"
     ]
    },
    {
     "name": "stderr",
     "output_type": "stream",
     "text": [
      "Exception ignored in: <function House.__del__ at 0x00000213575B1550>\n",
      "Traceback (most recent call last):\n",
      "  File \"<ipython-input-27-0e9bb8cdab4c>\", line 223, in __del__\n",
      "AttributeError: 'NoneType' object has no attribute '_House__ownershipCertification'\n"
     ]
    },
    {
     "name": "stdout",
     "output_type": "stream",
     "text": [
      "2\n"
     ]
    },
    {
     "name": "stderr",
     "output_type": "stream",
     "text": [
      "Exception ignored in: <function House.__del__ at 0x00000213575B1550>\n",
      "Traceback (most recent call last):\n",
      "  File \"<ipython-input-27-0e9bb8cdab4c>\", line 223, in __del__\n",
      "AttributeError: 'NoneType' object has no attribute '_House__ownershipCertification'\n"
     ]
    },
    {
     "name": "stdout",
     "output_type": "stream",
     "text": [
      "3\n"
     ]
    },
    {
     "name": "stderr",
     "output_type": "stream",
     "text": [
      "Exception ignored in: <function House.__del__ at 0x00000213575B1550>\n",
      "Traceback (most recent call last):\n",
      "  File \"<ipython-input-27-0e9bb8cdab4c>\", line 223, in __del__\n",
      "AttributeError: 'NoneType' object has no attribute '_House__ownershipCertification'\n"
     ]
    },
    {
     "name": "stdout",
     "output_type": "stream",
     "text": [
      "4\n"
     ]
    },
    {
     "name": "stderr",
     "output_type": "stream",
     "text": [
      "Exception ignored in: <function House.__del__ at 0x00000213575B1550>\n",
      "Traceback (most recent call last):\n",
      "  File \"<ipython-input-27-0e9bb8cdab4c>\", line 223, in __del__\n",
      "AttributeError: 'NoneType' object has no attribute '_House__ownershipCertification'\n"
     ]
    },
    {
     "name": "stdout",
     "output_type": "stream",
     "text": [
      "5\n"
     ]
    },
    {
     "name": "stderr",
     "output_type": "stream",
     "text": [
      "Exception ignored in: <function House.__del__ at 0x00000213575B1550>\n",
      "Traceback (most recent call last):\n",
      "  File \"<ipython-input-27-0e9bb8cdab4c>\", line 223, in __del__\n",
      "AttributeError: 'NoneType' object has no attribute '_House__ownershipCertification'\n"
     ]
    },
    {
     "name": "stdout",
     "output_type": "stream",
     "text": [
      "6\n"
     ]
    },
    {
     "name": "stderr",
     "output_type": "stream",
     "text": [
      "Exception ignored in: <function House.__del__ at 0x00000213575B1550>\n",
      "Traceback (most recent call last):\n",
      "  File \"<ipython-input-27-0e9bb8cdab4c>\", line 223, in __del__\n",
      "AttributeError: 'NoneType' object has no attribute '_House__ownershipCertification'\n"
     ]
    },
    {
     "name": "stdout",
     "output_type": "stream",
     "text": [
      "7\n"
     ]
    },
    {
     "name": "stderr",
     "output_type": "stream",
     "text": [
      "Exception ignored in: <function House.__del__ at 0x00000213575B1550>\n",
      "Traceback (most recent call last):\n",
      "  File \"<ipython-input-27-0e9bb8cdab4c>\", line 223, in __del__\n",
      "AttributeError: 'NoneType' object has no attribute '_House__ownershipCertification'\n"
     ]
    },
    {
     "name": "stdout",
     "output_type": "stream",
     "text": [
      "8\n"
     ]
    },
    {
     "name": "stderr",
     "output_type": "stream",
     "text": [
      "Exception ignored in: <function House.__del__ at 0x00000213575B1550>\n",
      "Traceback (most recent call last):\n",
      "  File \"<ipython-input-27-0e9bb8cdab4c>\", line 223, in __del__\n",
      "AttributeError: 'NoneType' object has no attribute '_House__ownershipCertification'\n"
     ]
    },
    {
     "name": "stdout",
     "output_type": "stream",
     "text": [
      "9\n"
     ]
    },
    {
     "name": "stderr",
     "output_type": "stream",
     "text": [
      "Exception ignored in: <function House.__del__ at 0x00000213575B1550>\n",
      "Traceback (most recent call last):\n",
      "  File \"<ipython-input-27-0e9bb8cdab4c>\", line 223, in __del__\n",
      "AttributeError: 'NoneType' object has no attribute '_House__ownershipCertification'\n"
     ]
    },
    {
     "name": "stdout",
     "output_type": "stream",
     "text": [
      "10\n"
     ]
    },
    {
     "name": "stderr",
     "output_type": "stream",
     "text": [
      "Exception ignored in: <function House.__del__ at 0x00000213575B1550>\n",
      "Traceback (most recent call last):\n",
      "  File \"<ipython-input-27-0e9bb8cdab4c>\", line 223, in __del__\n",
      "AttributeError: 'NoneType' object has no attribute '_House__ownershipCertification'\n"
     ]
    },
    {
     "name": "stdout",
     "output_type": "stream",
     "text": [
      "11\n"
     ]
    },
    {
     "name": "stderr",
     "output_type": "stream",
     "text": [
      "Exception ignored in: <function House.__del__ at 0x00000213575B1550>\n",
      "Traceback (most recent call last):\n",
      "  File \"<ipython-input-27-0e9bb8cdab4c>\", line 223, in __del__\n",
      "AttributeError: 'NoneType' object has no attribute '_House__ownershipCertification'\n"
     ]
    },
    {
     "name": "stdout",
     "output_type": "stream",
     "text": [
      "12\n"
     ]
    },
    {
     "name": "stderr",
     "output_type": "stream",
     "text": [
      "Exception ignored in: <function House.__del__ at 0x00000213575B1550>\n",
      "Traceback (most recent call last):\n",
      "  File \"<ipython-input-27-0e9bb8cdab4c>\", line 223, in __del__\n",
      "AttributeError: 'NoneType' object has no attribute '_House__ownershipCertification'\n"
     ]
    },
    {
     "name": "stdout",
     "output_type": "stream",
     "text": [
      "13\n"
     ]
    },
    {
     "name": "stderr",
     "output_type": "stream",
     "text": [
      "Exception ignored in: <function House.__del__ at 0x00000213575B1550>\n",
      "Traceback (most recent call last):\n",
      "  File \"<ipython-input-27-0e9bb8cdab4c>\", line 223, in __del__\n",
      "AttributeError: 'NoneType' object has no attribute '_House__ownershipCertification'\n"
     ]
    },
    {
     "name": "stdout",
     "output_type": "stream",
     "text": [
      "14\n"
     ]
    },
    {
     "name": "stderr",
     "output_type": "stream",
     "text": [
      "Exception ignored in: <function House.__del__ at 0x00000213575B1550>\n",
      "Traceback (most recent call last):\n",
      "  File \"<ipython-input-27-0e9bb8cdab4c>\", line 223, in __del__\n",
      "AttributeError: 'NoneType' object has no attribute '_House__ownershipCertification'\n"
     ]
    },
    {
     "name": "stdout",
     "output_type": "stream",
     "text": [
      "15\n"
     ]
    },
    {
     "name": "stderr",
     "output_type": "stream",
     "text": [
      "Exception ignored in: <function House.__del__ at 0x00000213575B1550>\n",
      "Traceback (most recent call last):\n",
      "  File \"<ipython-input-27-0e9bb8cdab4c>\", line 223, in __del__\n",
      "AttributeError: 'NoneType' object has no attribute '_House__ownershipCertification'\n"
     ]
    },
    {
     "name": "stdout",
     "output_type": "stream",
     "text": [
      "16\n"
     ]
    },
    {
     "name": "stderr",
     "output_type": "stream",
     "text": [
      "Exception ignored in: <function House.__del__ at 0x00000213575B1550>\n",
      "Traceback (most recent call last):\n",
      "  File \"<ipython-input-27-0e9bb8cdab4c>\", line 223, in __del__\n",
      "AttributeError: 'NoneType' object has no attribute '_House__ownershipCertification'\n"
     ]
    },
    {
     "name": "stdout",
     "output_type": "stream",
     "text": [
      "17\n"
     ]
    },
    {
     "name": "stderr",
     "output_type": "stream",
     "text": [
      "Exception ignored in: <function House.__del__ at 0x00000213575B1550>\n",
      "Traceback (most recent call last):\n",
      "  File \"<ipython-input-27-0e9bb8cdab4c>\", line 223, in __del__\n",
      "AttributeError: 'NoneType' object has no attribute '_House__ownershipCertification'\n"
     ]
    },
    {
     "name": "stdout",
     "output_type": "stream",
     "text": [
      "18\n"
     ]
    },
    {
     "name": "stderr",
     "output_type": "stream",
     "text": [
      "Exception ignored in: <function House.__del__ at 0x00000213575B1550>\n",
      "Traceback (most recent call last):\n",
      "  File \"<ipython-input-27-0e9bb8cdab4c>\", line 223, in __del__\n",
      "AttributeError: 'NoneType' object has no attribute '_House__ownershipCertification'\n"
     ]
    },
    {
     "name": "stdout",
     "output_type": "stream",
     "text": [
      "19\n"
     ]
    },
    {
     "name": "stderr",
     "output_type": "stream",
     "text": [
      "Exception ignored in: <function House.__del__ at 0x00000213575B1550>\n",
      "Traceback (most recent call last):\n",
      "  File \"<ipython-input-27-0e9bb8cdab4c>\", line 223, in __del__\n",
      "AttributeError: 'NoneType' object has no attribute '_House__ownershipCertification'\n"
     ]
    },
    {
     "name": "stdout",
     "output_type": "stream",
     "text": [
      "20\n",
      "504 \n",
      "\n"
     ]
    },
    {
     "name": "stderr",
     "output_type": "stream",
     "text": [
      "Exception ignored in: <function House.__del__ at 0x00000213575B1550>\n",
      "Traceback (most recent call last):\n",
      "  File \"<ipython-input-27-0e9bb8cdab4c>\", line 223, in __del__\n",
      "AttributeError: 'NoneType' object has no attribute '_House__ownershipCertification'\n"
     ]
    },
    {
     "name": "stdout",
     "output_type": "stream",
     "text": [
      "1\n"
     ]
    },
    {
     "name": "stderr",
     "output_type": "stream",
     "text": [
      "Exception ignored in: <function House.__del__ at 0x00000213575B1550>\n",
      "Traceback (most recent call last):\n",
      "  File \"<ipython-input-27-0e9bb8cdab4c>\", line 223, in __del__\n",
      "AttributeError: 'NoneType' object has no attribute '_House__ownershipCertification'\n"
     ]
    },
    {
     "name": "stdout",
     "output_type": "stream",
     "text": [
      "2\n"
     ]
    },
    {
     "name": "stderr",
     "output_type": "stream",
     "text": [
      "Exception ignored in: <function House.__del__ at 0x00000213575B1550>\n",
      "Traceback (most recent call last):\n",
      "  File \"<ipython-input-27-0e9bb8cdab4c>\", line 223, in __del__\n",
      "AttributeError: 'NoneType' object has no attribute '_House__ownershipCertification'\n"
     ]
    },
    {
     "name": "stdout",
     "output_type": "stream",
     "text": [
      "3\n"
     ]
    },
    {
     "name": "stderr",
     "output_type": "stream",
     "text": [
      "Exception ignored in: <function House.__del__ at 0x00000213575B1550>\n",
      "Traceback (most recent call last):\n",
      "  File \"<ipython-input-27-0e9bb8cdab4c>\", line 223, in __del__\n",
      "AttributeError: 'NoneType' object has no attribute '_House__ownershipCertification'\n"
     ]
    },
    {
     "name": "stdout",
     "output_type": "stream",
     "text": [
      "4\n"
     ]
    },
    {
     "name": "stderr",
     "output_type": "stream",
     "text": [
      "Exception ignored in: <function House.__del__ at 0x00000213575B1550>\n",
      "Traceback (most recent call last):\n",
      "  File \"<ipython-input-27-0e9bb8cdab4c>\", line 223, in __del__\n",
      "AttributeError: 'NoneType' object has no attribute '_House__ownershipCertification'\n"
     ]
    },
    {
     "name": "stdout",
     "output_type": "stream",
     "text": [
      "5\n"
     ]
    },
    {
     "name": "stderr",
     "output_type": "stream",
     "text": [
      "Exception ignored in: <function House.__del__ at 0x00000213575B1550>\n",
      "Traceback (most recent call last):\n",
      "  File \"<ipython-input-27-0e9bb8cdab4c>\", line 223, in __del__\n",
      "AttributeError: 'NoneType' object has no attribute '_House__ownershipCertification'\n"
     ]
    },
    {
     "name": "stdout",
     "output_type": "stream",
     "text": [
      "6\n"
     ]
    },
    {
     "name": "stderr",
     "output_type": "stream",
     "text": [
      "Exception ignored in: <function House.__del__ at 0x00000213575B1550>\n",
      "Traceback (most recent call last):\n",
      "  File \"<ipython-input-27-0e9bb8cdab4c>\", line 223, in __del__\n",
      "AttributeError: 'NoneType' object has no attribute '_House__ownershipCertification'\n"
     ]
    },
    {
     "name": "stdout",
     "output_type": "stream",
     "text": [
      "7\n"
     ]
    },
    {
     "name": "stderr",
     "output_type": "stream",
     "text": [
      "Exception ignored in: <function House.__del__ at 0x00000213575B1550>\n",
      "Traceback (most recent call last):\n",
      "  File \"<ipython-input-27-0e9bb8cdab4c>\", line 223, in __del__\n",
      "AttributeError: 'NoneType' object has no attribute '_House__ownershipCertification'\n"
     ]
    },
    {
     "name": "stdout",
     "output_type": "stream",
     "text": [
      "8\n"
     ]
    },
    {
     "name": "stderr",
     "output_type": "stream",
     "text": [
      "Exception ignored in: <function House.__del__ at 0x00000213575B1550>\n",
      "Traceback (most recent call last):\n",
      "  File \"<ipython-input-27-0e9bb8cdab4c>\", line 223, in __del__\n",
      "AttributeError: 'NoneType' object has no attribute '_House__ownershipCertification'\n"
     ]
    },
    {
     "name": "stdout",
     "output_type": "stream",
     "text": [
      "9\n"
     ]
    },
    {
     "name": "stderr",
     "output_type": "stream",
     "text": [
      "Exception ignored in: <function House.__del__ at 0x00000213575B1550>\n",
      "Traceback (most recent call last):\n",
      "  File \"<ipython-input-27-0e9bb8cdab4c>\", line 223, in __del__\n",
      "AttributeError: 'NoneType' object has no attribute '_House__ownershipCertification'\n"
     ]
    },
    {
     "name": "stdout",
     "output_type": "stream",
     "text": [
      "10\n"
     ]
    },
    {
     "name": "stderr",
     "output_type": "stream",
     "text": [
      "Exception ignored in: <function House.__del__ at 0x00000213575B1550>\n",
      "Traceback (most recent call last):\n",
      "  File \"<ipython-input-27-0e9bb8cdab4c>\", line 223, in __del__\n",
      "AttributeError: 'NoneType' object has no attribute '_House__ownershipCertification'\n"
     ]
    },
    {
     "name": "stdout",
     "output_type": "stream",
     "text": [
      "11\n"
     ]
    },
    {
     "name": "stderr",
     "output_type": "stream",
     "text": [
      "Exception ignored in: <function House.__del__ at 0x00000213575B1550>\n",
      "Traceback (most recent call last):\n",
      "  File \"<ipython-input-27-0e9bb8cdab4c>\", line 223, in __del__\n",
      "AttributeError: 'NoneType' object has no attribute '_House__ownershipCertification'\n"
     ]
    },
    {
     "name": "stdout",
     "output_type": "stream",
     "text": [
      "12\n"
     ]
    },
    {
     "name": "stderr",
     "output_type": "stream",
     "text": [
      "Exception ignored in: <function House.__del__ at 0x00000213575B1550>\n",
      "Traceback (most recent call last):\n",
      "  File \"<ipython-input-27-0e9bb8cdab4c>\", line 223, in __del__\n",
      "AttributeError: 'NoneType' object has no attribute '_House__ownershipCertification'\n"
     ]
    },
    {
     "name": "stdout",
     "output_type": "stream",
     "text": [
      "13\n"
     ]
    },
    {
     "name": "stderr",
     "output_type": "stream",
     "text": [
      "Exception ignored in: <function House.__del__ at 0x00000213575B1550>\n",
      "Traceback (most recent call last):\n",
      "  File \"<ipython-input-27-0e9bb8cdab4c>\", line 223, in __del__\n",
      "AttributeError: 'NoneType' object has no attribute '_House__ownershipCertification'\n"
     ]
    },
    {
     "name": "stdout",
     "output_type": "stream",
     "text": [
      "14\n"
     ]
    },
    {
     "name": "stderr",
     "output_type": "stream",
     "text": [
      "Exception ignored in: <function House.__del__ at 0x00000213575B1550>\n",
      "Traceback (most recent call last):\n",
      "  File \"<ipython-input-27-0e9bb8cdab4c>\", line 223, in __del__\n",
      "AttributeError: 'NoneType' object has no attribute '_House__ownershipCertification'\n"
     ]
    },
    {
     "name": "stdout",
     "output_type": "stream",
     "text": [
      "15\n"
     ]
    },
    {
     "name": "stderr",
     "output_type": "stream",
     "text": [
      "Exception ignored in: <function House.__del__ at 0x00000213575B1550>\n",
      "Traceback (most recent call last):\n",
      "  File \"<ipython-input-27-0e9bb8cdab4c>\", line 223, in __del__\n",
      "AttributeError: 'NoneType' object has no attribute '_House__ownershipCertification'\n"
     ]
    },
    {
     "name": "stdout",
     "output_type": "stream",
     "text": [
      "16\n"
     ]
    },
    {
     "name": "stderr",
     "output_type": "stream",
     "text": [
      "Exception ignored in: <function House.__del__ at 0x00000213575B1550>\n",
      "Traceback (most recent call last):\n",
      "  File \"<ipython-input-27-0e9bb8cdab4c>\", line 223, in __del__\n",
      "AttributeError: 'NoneType' object has no attribute '_House__ownershipCertification'\n"
     ]
    },
    {
     "name": "stdout",
     "output_type": "stream",
     "text": [
      "17\n"
     ]
    },
    {
     "name": "stderr",
     "output_type": "stream",
     "text": [
      "Exception ignored in: <function House.__del__ at 0x00000213575B1550>\n",
      "Traceback (most recent call last):\n",
      "  File \"<ipython-input-27-0e9bb8cdab4c>\", line 223, in __del__\n",
      "AttributeError: 'NoneType' object has no attribute '_House__ownershipCertification'\n"
     ]
    },
    {
     "name": "stdout",
     "output_type": "stream",
     "text": [
      "18\n"
     ]
    },
    {
     "name": "stderr",
     "output_type": "stream",
     "text": [
      "Exception ignored in: <function House.__del__ at 0x00000213575B1550>\n",
      "Traceback (most recent call last):\n",
      "  File \"<ipython-input-27-0e9bb8cdab4c>\", line 223, in __del__\n",
      "AttributeError: 'NoneType' object has no attribute '_House__ownershipCertification'\n"
     ]
    },
    {
     "name": "stdout",
     "output_type": "stream",
     "text": [
      "19\n"
     ]
    },
    {
     "name": "stderr",
     "output_type": "stream",
     "text": [
      "Exception ignored in: <function House.__del__ at 0x00000213575B1550>\n",
      "Traceback (most recent call last):\n",
      "  File \"<ipython-input-27-0e9bb8cdab4c>\", line 223, in __del__\n",
      "AttributeError: 'NoneType' object has no attribute '_House__ownershipCertification'\n"
     ]
    },
    {
     "name": "stdout",
     "output_type": "stream",
     "text": [
      "20\n",
      "505 \n",
      "\n"
     ]
    },
    {
     "name": "stderr",
     "output_type": "stream",
     "text": [
      "Exception ignored in: <function House.__del__ at 0x00000213575B1550>\n",
      "Traceback (most recent call last):\n",
      "  File \"<ipython-input-27-0e9bb8cdab4c>\", line 223, in __del__\n",
      "AttributeError: 'NoneType' object has no attribute '_House__ownershipCertification'\n"
     ]
    },
    {
     "name": "stdout",
     "output_type": "stream",
     "text": [
      "1\n"
     ]
    },
    {
     "name": "stderr",
     "output_type": "stream",
     "text": [
      "Exception ignored in: <function House.__del__ at 0x00000213575B1550>\n",
      "Traceback (most recent call last):\n",
      "  File \"<ipython-input-27-0e9bb8cdab4c>\", line 223, in __del__\n",
      "AttributeError: 'NoneType' object has no attribute '_House__ownershipCertification'\n"
     ]
    },
    {
     "name": "stdout",
     "output_type": "stream",
     "text": [
      "2\n"
     ]
    },
    {
     "name": "stderr",
     "output_type": "stream",
     "text": [
      "Exception ignored in: <function House.__del__ at 0x00000213575B1550>\n",
      "Traceback (most recent call last):\n",
      "  File \"<ipython-input-27-0e9bb8cdab4c>\", line 223, in __del__\n",
      "AttributeError: 'NoneType' object has no attribute '_House__ownershipCertification'\n"
     ]
    },
    {
     "name": "stdout",
     "output_type": "stream",
     "text": [
      "3\n"
     ]
    },
    {
     "name": "stderr",
     "output_type": "stream",
     "text": [
      "Exception ignored in: <function House.__del__ at 0x00000213575B1550>\n",
      "Traceback (most recent call last):\n",
      "  File \"<ipython-input-27-0e9bb8cdab4c>\", line 223, in __del__\n",
      "AttributeError: 'NoneType' object has no attribute '_House__ownershipCertification'\n"
     ]
    },
    {
     "name": "stdout",
     "output_type": "stream",
     "text": [
      "4\n"
     ]
    },
    {
     "name": "stderr",
     "output_type": "stream",
     "text": [
      "Exception ignored in: <function House.__del__ at 0x00000213575B1550>\n",
      "Traceback (most recent call last):\n",
      "  File \"<ipython-input-27-0e9bb8cdab4c>\", line 223, in __del__\n",
      "AttributeError: 'NoneType' object has no attribute '_House__ownershipCertification'\n"
     ]
    },
    {
     "name": "stdout",
     "output_type": "stream",
     "text": [
      "5\n"
     ]
    },
    {
     "name": "stderr",
     "output_type": "stream",
     "text": [
      "Exception ignored in: <function House.__del__ at 0x00000213575B1550>\n",
      "Traceback (most recent call last):\n",
      "  File \"<ipython-input-27-0e9bb8cdab4c>\", line 223, in __del__\n",
      "AttributeError: 'NoneType' object has no attribute '_House__ownershipCertification'\n"
     ]
    },
    {
     "name": "stdout",
     "output_type": "stream",
     "text": [
      "6\n"
     ]
    },
    {
     "name": "stderr",
     "output_type": "stream",
     "text": [
      "Exception ignored in: <function House.__del__ at 0x00000213575B1550>\n",
      "Traceback (most recent call last):\n",
      "  File \"<ipython-input-27-0e9bb8cdab4c>\", line 223, in __del__\n",
      "AttributeError: 'NoneType' object has no attribute '_House__ownershipCertification'\n"
     ]
    },
    {
     "name": "stdout",
     "output_type": "stream",
     "text": [
      "7\n"
     ]
    },
    {
     "name": "stderr",
     "output_type": "stream",
     "text": [
      "Exception ignored in: <function House.__del__ at 0x00000213575B1550>\n",
      "Traceback (most recent call last):\n",
      "  File \"<ipython-input-27-0e9bb8cdab4c>\", line 223, in __del__\n",
      "AttributeError: 'NoneType' object has no attribute '_House__ownershipCertification'\n"
     ]
    },
    {
     "name": "stdout",
     "output_type": "stream",
     "text": [
      "8\n"
     ]
    },
    {
     "name": "stderr",
     "output_type": "stream",
     "text": [
      "Exception ignored in: <function House.__del__ at 0x00000213575B1550>\n",
      "Traceback (most recent call last):\n",
      "  File \"<ipython-input-27-0e9bb8cdab4c>\", line 223, in __del__\n",
      "AttributeError: 'NoneType' object has no attribute '_House__ownershipCertification'\n"
     ]
    },
    {
     "name": "stdout",
     "output_type": "stream",
     "text": [
      "9\n"
     ]
    },
    {
     "name": "stderr",
     "output_type": "stream",
     "text": [
      "Exception ignored in: <function House.__del__ at 0x00000213575B1550>\n",
      "Traceback (most recent call last):\n",
      "  File \"<ipython-input-27-0e9bb8cdab4c>\", line 223, in __del__\n",
      "AttributeError: 'NoneType' object has no attribute '_House__ownershipCertification'\n"
     ]
    },
    {
     "name": "stdout",
     "output_type": "stream",
     "text": [
      "10\n"
     ]
    },
    {
     "name": "stderr",
     "output_type": "stream",
     "text": [
      "Exception ignored in: <function House.__del__ at 0x00000213575B1550>\n",
      "Traceback (most recent call last):\n",
      "  File \"<ipython-input-27-0e9bb8cdab4c>\", line 223, in __del__\n",
      "AttributeError: 'NoneType' object has no attribute '_House__ownershipCertification'\n"
     ]
    },
    {
     "name": "stdout",
     "output_type": "stream",
     "text": [
      "11\n"
     ]
    },
    {
     "name": "stderr",
     "output_type": "stream",
     "text": [
      "Exception ignored in: <function House.__del__ at 0x00000213575B1550>\n",
      "Traceback (most recent call last):\n",
      "  File \"<ipython-input-27-0e9bb8cdab4c>\", line 223, in __del__\n",
      "AttributeError: 'NoneType' object has no attribute '_House__ownershipCertification'\n"
     ]
    },
    {
     "name": "stdout",
     "output_type": "stream",
     "text": [
      "12\n"
     ]
    },
    {
     "name": "stderr",
     "output_type": "stream",
     "text": [
      "Exception ignored in: <function House.__del__ at 0x00000213575B1550>\n",
      "Traceback (most recent call last):\n",
      "  File \"<ipython-input-27-0e9bb8cdab4c>\", line 223, in __del__\n",
      "AttributeError: 'NoneType' object has no attribute '_House__ownershipCertification'\n"
     ]
    },
    {
     "name": "stdout",
     "output_type": "stream",
     "text": [
      "13\n"
     ]
    },
    {
     "name": "stderr",
     "output_type": "stream",
     "text": [
      "Exception ignored in: <function House.__del__ at 0x00000213575B1550>\n",
      "Traceback (most recent call last):\n",
      "  File \"<ipython-input-27-0e9bb8cdab4c>\", line 223, in __del__\n",
      "AttributeError: 'NoneType' object has no attribute '_House__ownershipCertification'\n"
     ]
    },
    {
     "name": "stdout",
     "output_type": "stream",
     "text": [
      "14\n"
     ]
    },
    {
     "name": "stderr",
     "output_type": "stream",
     "text": [
      "Exception ignored in: <function House.__del__ at 0x00000213575B1550>\n",
      "Traceback (most recent call last):\n",
      "  File \"<ipython-input-27-0e9bb8cdab4c>\", line 223, in __del__\n",
      "AttributeError: 'NoneType' object has no attribute '_House__ownershipCertification'\n"
     ]
    },
    {
     "name": "stdout",
     "output_type": "stream",
     "text": [
      "15\n"
     ]
    },
    {
     "name": "stderr",
     "output_type": "stream",
     "text": [
      "Exception ignored in: <function House.__del__ at 0x00000213575B1550>\n",
      "Traceback (most recent call last):\n",
      "  File \"<ipython-input-27-0e9bb8cdab4c>\", line 223, in __del__\n",
      "AttributeError: 'NoneType' object has no attribute '_House__ownershipCertification'\n"
     ]
    },
    {
     "name": "stdout",
     "output_type": "stream",
     "text": [
      "16\n"
     ]
    },
    {
     "name": "stderr",
     "output_type": "stream",
     "text": [
      "Exception ignored in: <function House.__del__ at 0x00000213575B1550>\n",
      "Traceback (most recent call last):\n",
      "  File \"<ipython-input-27-0e9bb8cdab4c>\", line 223, in __del__\n",
      "AttributeError: 'NoneType' object has no attribute '_House__ownershipCertification'\n"
     ]
    },
    {
     "name": "stdout",
     "output_type": "stream",
     "text": [
      "17\n"
     ]
    },
    {
     "name": "stderr",
     "output_type": "stream",
     "text": [
      "Exception ignored in: <function House.__del__ at 0x00000213575B1550>\n",
      "Traceback (most recent call last):\n",
      "  File \"<ipython-input-27-0e9bb8cdab4c>\", line 223, in __del__\n",
      "AttributeError: 'NoneType' object has no attribute '_House__ownershipCertification'\n"
     ]
    },
    {
     "name": "stdout",
     "output_type": "stream",
     "text": [
      "18\n"
     ]
    },
    {
     "name": "stderr",
     "output_type": "stream",
     "text": [
      "Exception ignored in: <function House.__del__ at 0x00000213575B1550>\n",
      "Traceback (most recent call last):\n",
      "  File \"<ipython-input-27-0e9bb8cdab4c>\", line 223, in __del__\n",
      "AttributeError: 'NoneType' object has no attribute '_House__ownershipCertification'\n"
     ]
    },
    {
     "name": "stdout",
     "output_type": "stream",
     "text": [
      "19\n"
     ]
    },
    {
     "name": "stderr",
     "output_type": "stream",
     "text": [
      "Exception ignored in: <function House.__del__ at 0x00000213575B1550>\n",
      "Traceback (most recent call last):\n",
      "  File \"<ipython-input-27-0e9bb8cdab4c>\", line 223, in __del__\n",
      "AttributeError: 'NoneType' object has no attribute '_House__ownershipCertification'\n"
     ]
    },
    {
     "name": "stdout",
     "output_type": "stream",
     "text": [
      "20\n",
      "506 \n",
      "\n"
     ]
    },
    {
     "name": "stderr",
     "output_type": "stream",
     "text": [
      "Exception ignored in: <function House.__del__ at 0x00000213575B1550>\n",
      "Traceback (most recent call last):\n",
      "  File \"<ipython-input-27-0e9bb8cdab4c>\", line 223, in __del__\n",
      "AttributeError: 'NoneType' object has no attribute '_House__ownershipCertification'\n"
     ]
    },
    {
     "name": "stdout",
     "output_type": "stream",
     "text": [
      "1\n"
     ]
    },
    {
     "name": "stderr",
     "output_type": "stream",
     "text": [
      "Exception ignored in: <function House.__del__ at 0x00000213575B1550>\n",
      "Traceback (most recent call last):\n",
      "  File \"<ipython-input-27-0e9bb8cdab4c>\", line 223, in __del__\n",
      "AttributeError: 'NoneType' object has no attribute '_House__ownershipCertification'\n"
     ]
    },
    {
     "name": "stdout",
     "output_type": "stream",
     "text": [
      "2\n"
     ]
    },
    {
     "name": "stderr",
     "output_type": "stream",
     "text": [
      "Exception ignored in: <function House.__del__ at 0x00000213575B1550>\n",
      "Traceback (most recent call last):\n",
      "  File \"<ipython-input-27-0e9bb8cdab4c>\", line 223, in __del__\n",
      "AttributeError: 'NoneType' object has no attribute '_House__ownershipCertification'\n"
     ]
    },
    {
     "name": "stdout",
     "output_type": "stream",
     "text": [
      "3\n"
     ]
    },
    {
     "name": "stderr",
     "output_type": "stream",
     "text": [
      "Exception ignored in: <function House.__del__ at 0x00000213575B1550>\n",
      "Traceback (most recent call last):\n",
      "  File \"<ipython-input-27-0e9bb8cdab4c>\", line 223, in __del__\n",
      "AttributeError: 'NoneType' object has no attribute '_House__ownershipCertification'\n"
     ]
    },
    {
     "name": "stdout",
     "output_type": "stream",
     "text": [
      "4\n"
     ]
    },
    {
     "name": "stderr",
     "output_type": "stream",
     "text": [
      "Exception ignored in: <function House.__del__ at 0x00000213575B1550>\n",
      "Traceback (most recent call last):\n",
      "  File \"<ipython-input-27-0e9bb8cdab4c>\", line 223, in __del__\n",
      "AttributeError: 'NoneType' object has no attribute '_House__ownershipCertification'\n"
     ]
    },
    {
     "name": "stdout",
     "output_type": "stream",
     "text": [
      "5\n"
     ]
    },
    {
     "name": "stderr",
     "output_type": "stream",
     "text": [
      "Exception ignored in: <function House.__del__ at 0x00000213575B1550>\n",
      "Traceback (most recent call last):\n",
      "  File \"<ipython-input-27-0e9bb8cdab4c>\", line 223, in __del__\n",
      "AttributeError: 'NoneType' object has no attribute '_House__ownershipCertification'\n"
     ]
    },
    {
     "name": "stdout",
     "output_type": "stream",
     "text": [
      "6\n"
     ]
    },
    {
     "name": "stderr",
     "output_type": "stream",
     "text": [
      "Exception ignored in: <function House.__del__ at 0x00000213575B1550>\n",
      "Traceback (most recent call last):\n",
      "  File \"<ipython-input-27-0e9bb8cdab4c>\", line 223, in __del__\n",
      "AttributeError: 'NoneType' object has no attribute '_House__ownershipCertification'\n"
     ]
    },
    {
     "name": "stdout",
     "output_type": "stream",
     "text": [
      "7\n"
     ]
    },
    {
     "name": "stderr",
     "output_type": "stream",
     "text": [
      "Exception ignored in: <function House.__del__ at 0x00000213575B1550>\n",
      "Traceback (most recent call last):\n",
      "  File \"<ipython-input-27-0e9bb8cdab4c>\", line 223, in __del__\n",
      "AttributeError: 'NoneType' object has no attribute '_House__ownershipCertification'\n"
     ]
    },
    {
     "name": "stdout",
     "output_type": "stream",
     "text": [
      "8\n"
     ]
    },
    {
     "name": "stderr",
     "output_type": "stream",
     "text": [
      "Exception ignored in: <function House.__del__ at 0x00000213575B1550>\n",
      "Traceback (most recent call last):\n",
      "  File \"<ipython-input-27-0e9bb8cdab4c>\", line 223, in __del__\n",
      "AttributeError: 'NoneType' object has no attribute '_House__ownershipCertification'\n"
     ]
    },
    {
     "name": "stdout",
     "output_type": "stream",
     "text": [
      "9\n"
     ]
    },
    {
     "name": "stderr",
     "output_type": "stream",
     "text": [
      "Exception ignored in: <function House.__del__ at 0x00000213575B1550>\n",
      "Traceback (most recent call last):\n",
      "  File \"<ipython-input-27-0e9bb8cdab4c>\", line 223, in __del__\n",
      "AttributeError: 'NoneType' object has no attribute '_House__ownershipCertification'\n"
     ]
    },
    {
     "name": "stdout",
     "output_type": "stream",
     "text": [
      "10\n"
     ]
    },
    {
     "name": "stderr",
     "output_type": "stream",
     "text": [
      "Exception ignored in: <function House.__del__ at 0x00000213575B1550>\n",
      "Traceback (most recent call last):\n",
      "  File \"<ipython-input-27-0e9bb8cdab4c>\", line 223, in __del__\n",
      "AttributeError: 'NoneType' object has no attribute '_House__ownershipCertification'\n"
     ]
    },
    {
     "name": "stdout",
     "output_type": "stream",
     "text": [
      "11\n"
     ]
    },
    {
     "name": "stderr",
     "output_type": "stream",
     "text": [
      "Exception ignored in: <function House.__del__ at 0x00000213575B1550>\n",
      "Traceback (most recent call last):\n",
      "  File \"<ipython-input-27-0e9bb8cdab4c>\", line 223, in __del__\n",
      "AttributeError: 'NoneType' object has no attribute '_House__ownershipCertification'\n"
     ]
    },
    {
     "name": "stdout",
     "output_type": "stream",
     "text": [
      "12\n"
     ]
    },
    {
     "name": "stderr",
     "output_type": "stream",
     "text": [
      "Exception ignored in: <function House.__del__ at 0x00000213575B1550>\n",
      "Traceback (most recent call last):\n",
      "  File \"<ipython-input-27-0e9bb8cdab4c>\", line 223, in __del__\n",
      "AttributeError: 'NoneType' object has no attribute '_House__ownershipCertification'\n"
     ]
    },
    {
     "name": "stdout",
     "output_type": "stream",
     "text": [
      "13\n"
     ]
    },
    {
     "name": "stderr",
     "output_type": "stream",
     "text": [
      "Exception ignored in: <function House.__del__ at 0x00000213575B1550>\n",
      "Traceback (most recent call last):\n",
      "  File \"<ipython-input-27-0e9bb8cdab4c>\", line 223, in __del__\n",
      "AttributeError: 'NoneType' object has no attribute '_House__ownershipCertification'\n"
     ]
    },
    {
     "name": "stdout",
     "output_type": "stream",
     "text": [
      "14\n"
     ]
    },
    {
     "name": "stderr",
     "output_type": "stream",
     "text": [
      "Exception ignored in: <function House.__del__ at 0x00000213575B1550>\n",
      "Traceback (most recent call last):\n",
      "  File \"<ipython-input-27-0e9bb8cdab4c>\", line 223, in __del__\n",
      "AttributeError: 'NoneType' object has no attribute '_House__ownershipCertification'\n"
     ]
    },
    {
     "name": "stdout",
     "output_type": "stream",
     "text": [
      "15\n"
     ]
    },
    {
     "name": "stderr",
     "output_type": "stream",
     "text": [
      "Exception ignored in: <function House.__del__ at 0x00000213575B1550>\n",
      "Traceback (most recent call last):\n",
      "  File \"<ipython-input-27-0e9bb8cdab4c>\", line 223, in __del__\n",
      "AttributeError: 'NoneType' object has no attribute '_House__ownershipCertification'\n"
     ]
    },
    {
     "name": "stdout",
     "output_type": "stream",
     "text": [
      "16\n"
     ]
    },
    {
     "name": "stderr",
     "output_type": "stream",
     "text": [
      "Exception ignored in: <function House.__del__ at 0x00000213575B1550>\n",
      "Traceback (most recent call last):\n",
      "  File \"<ipython-input-27-0e9bb8cdab4c>\", line 223, in __del__\n",
      "AttributeError: 'NoneType' object has no attribute '_House__ownershipCertification'\n"
     ]
    },
    {
     "name": "stdout",
     "output_type": "stream",
     "text": [
      "17\n"
     ]
    },
    {
     "name": "stderr",
     "output_type": "stream",
     "text": [
      "Exception ignored in: <function House.__del__ at 0x00000213575B1550>\n",
      "Traceback (most recent call last):\n",
      "  File \"<ipython-input-27-0e9bb8cdab4c>\", line 223, in __del__\n",
      "AttributeError: 'NoneType' object has no attribute '_House__ownershipCertification'\n"
     ]
    },
    {
     "name": "stdout",
     "output_type": "stream",
     "text": [
      "18\n"
     ]
    },
    {
     "name": "stderr",
     "output_type": "stream",
     "text": [
      "Exception ignored in: <function House.__del__ at 0x00000213575B1550>\n",
      "Traceback (most recent call last):\n",
      "  File \"<ipython-input-27-0e9bb8cdab4c>\", line 223, in __del__\n",
      "AttributeError: 'NoneType' object has no attribute '_House__ownershipCertification'\n"
     ]
    },
    {
     "name": "stdout",
     "output_type": "stream",
     "text": [
      "19\n"
     ]
    },
    {
     "name": "stderr",
     "output_type": "stream",
     "text": [
      "Exception ignored in: <function House.__del__ at 0x00000213575B1550>\n",
      "Traceback (most recent call last):\n",
      "  File \"<ipython-input-27-0e9bb8cdab4c>\", line 223, in __del__\n",
      "AttributeError: 'NoneType' object has no attribute '_House__ownershipCertification'\n"
     ]
    },
    {
     "name": "stdout",
     "output_type": "stream",
     "text": [
      "20\n",
      "507 \n",
      "\n"
     ]
    },
    {
     "name": "stderr",
     "output_type": "stream",
     "text": [
      "Exception ignored in: <function House.__del__ at 0x00000213575B1550>\n",
      "Traceback (most recent call last):\n",
      "  File \"<ipython-input-27-0e9bb8cdab4c>\", line 223, in __del__\n",
      "AttributeError: 'NoneType' object has no attribute '_House__ownershipCertification'\n"
     ]
    },
    {
     "name": "stdout",
     "output_type": "stream",
     "text": [
      "1\n"
     ]
    },
    {
     "name": "stderr",
     "output_type": "stream",
     "text": [
      "Exception ignored in: <function House.__del__ at 0x00000213575B1550>\n",
      "Traceback (most recent call last):\n",
      "  File \"<ipython-input-27-0e9bb8cdab4c>\", line 223, in __del__\n",
      "AttributeError: 'NoneType' object has no attribute '_House__ownershipCertification'\n"
     ]
    },
    {
     "name": "stdout",
     "output_type": "stream",
     "text": [
      "2\n"
     ]
    },
    {
     "name": "stderr",
     "output_type": "stream",
     "text": [
      "Exception ignored in: <function House.__del__ at 0x00000213575B1550>\n",
      "Traceback (most recent call last):\n",
      "  File \"<ipython-input-27-0e9bb8cdab4c>\", line 223, in __del__\n",
      "AttributeError: 'NoneType' object has no attribute '_House__ownershipCertification'\n"
     ]
    },
    {
     "name": "stdout",
     "output_type": "stream",
     "text": [
      "3\n"
     ]
    },
    {
     "name": "stderr",
     "output_type": "stream",
     "text": [
      "Exception ignored in: <function House.__del__ at 0x00000213575B1550>\n",
      "Traceback (most recent call last):\n",
      "  File \"<ipython-input-27-0e9bb8cdab4c>\", line 223, in __del__\n",
      "AttributeError: 'NoneType' object has no attribute '_House__ownershipCertification'\n"
     ]
    },
    {
     "name": "stdout",
     "output_type": "stream",
     "text": [
      "4\n"
     ]
    },
    {
     "name": "stderr",
     "output_type": "stream",
     "text": [
      "Exception ignored in: <function House.__del__ at 0x00000213575B1550>\n",
      "Traceback (most recent call last):\n",
      "  File \"<ipython-input-27-0e9bb8cdab4c>\", line 223, in __del__\n",
      "AttributeError: 'NoneType' object has no attribute '_House__ownershipCertification'\n"
     ]
    },
    {
     "name": "stdout",
     "output_type": "stream",
     "text": [
      "5\n"
     ]
    },
    {
     "name": "stderr",
     "output_type": "stream",
     "text": [
      "Exception ignored in: <function House.__del__ at 0x00000213575B1550>\n",
      "Traceback (most recent call last):\n",
      "  File \"<ipython-input-27-0e9bb8cdab4c>\", line 223, in __del__\n",
      "AttributeError: 'NoneType' object has no attribute '_House__ownershipCertification'\n"
     ]
    },
    {
     "name": "stdout",
     "output_type": "stream",
     "text": [
      "6\n"
     ]
    },
    {
     "name": "stderr",
     "output_type": "stream",
     "text": [
      "Exception ignored in: <function House.__del__ at 0x00000213575B1550>\n",
      "Traceback (most recent call last):\n",
      "  File \"<ipython-input-27-0e9bb8cdab4c>\", line 223, in __del__\n",
      "AttributeError: 'NoneType' object has no attribute '_House__ownershipCertification'\n"
     ]
    },
    {
     "name": "stdout",
     "output_type": "stream",
     "text": [
      "7\n"
     ]
    },
    {
     "name": "stderr",
     "output_type": "stream",
     "text": [
      "Exception ignored in: <function House.__del__ at 0x00000213575B1550>\n",
      "Traceback (most recent call last):\n",
      "  File \"<ipython-input-27-0e9bb8cdab4c>\", line 223, in __del__\n",
      "AttributeError: 'NoneType' object has no attribute '_House__ownershipCertification'\n"
     ]
    },
    {
     "name": "stdout",
     "output_type": "stream",
     "text": [
      "8\n"
     ]
    },
    {
     "name": "stderr",
     "output_type": "stream",
     "text": [
      "Exception ignored in: <function House.__del__ at 0x00000213575B1550>\n",
      "Traceback (most recent call last):\n",
      "  File \"<ipython-input-27-0e9bb8cdab4c>\", line 223, in __del__\n",
      "AttributeError: 'NoneType' object has no attribute '_House__ownershipCertification'\n"
     ]
    },
    {
     "name": "stdout",
     "output_type": "stream",
     "text": [
      "9\n"
     ]
    },
    {
     "name": "stderr",
     "output_type": "stream",
     "text": [
      "Exception ignored in: <function House.__del__ at 0x00000213575B1550>\n",
      "Traceback (most recent call last):\n",
      "  File \"<ipython-input-27-0e9bb8cdab4c>\", line 223, in __del__\n",
      "AttributeError: 'NoneType' object has no attribute '_House__ownershipCertification'\n"
     ]
    },
    {
     "name": "stdout",
     "output_type": "stream",
     "text": [
      "10\n"
     ]
    },
    {
     "name": "stderr",
     "output_type": "stream",
     "text": [
      "Exception ignored in: <function House.__del__ at 0x00000213575B1550>\n",
      "Traceback (most recent call last):\n",
      "  File \"<ipython-input-27-0e9bb8cdab4c>\", line 223, in __del__\n",
      "AttributeError: 'NoneType' object has no attribute '_House__ownershipCertification'\n"
     ]
    },
    {
     "name": "stdout",
     "output_type": "stream",
     "text": [
      "11\n"
     ]
    },
    {
     "name": "stderr",
     "output_type": "stream",
     "text": [
      "Exception ignored in: <function House.__del__ at 0x00000213575B1550>\n",
      "Traceback (most recent call last):\n",
      "  File \"<ipython-input-27-0e9bb8cdab4c>\", line 223, in __del__\n",
      "AttributeError: 'NoneType' object has no attribute '_House__ownershipCertification'\n"
     ]
    },
    {
     "name": "stdout",
     "output_type": "stream",
     "text": [
      "12\n"
     ]
    },
    {
     "name": "stderr",
     "output_type": "stream",
     "text": [
      "Exception ignored in: <function House.__del__ at 0x00000213575B1550>\n",
      "Traceback (most recent call last):\n",
      "  File \"<ipython-input-27-0e9bb8cdab4c>\", line 223, in __del__\n",
      "AttributeError: 'NoneType' object has no attribute '_House__ownershipCertification'\n"
     ]
    },
    {
     "name": "stdout",
     "output_type": "stream",
     "text": [
      "13\n"
     ]
    },
    {
     "name": "stderr",
     "output_type": "stream",
     "text": [
      "Exception ignored in: <function House.__del__ at 0x00000213575B1550>\n",
      "Traceback (most recent call last):\n",
      "  File \"<ipython-input-27-0e9bb8cdab4c>\", line 223, in __del__\n",
      "AttributeError: 'NoneType' object has no attribute '_House__ownershipCertification'\n"
     ]
    },
    {
     "name": "stdout",
     "output_type": "stream",
     "text": [
      "14\n"
     ]
    },
    {
     "name": "stderr",
     "output_type": "stream",
     "text": [
      "Exception ignored in: <function House.__del__ at 0x00000213575B1550>\n",
      "Traceback (most recent call last):\n",
      "  File \"<ipython-input-27-0e9bb8cdab4c>\", line 223, in __del__\n",
      "AttributeError: 'NoneType' object has no attribute '_House__ownershipCertification'\n"
     ]
    },
    {
     "name": "stdout",
     "output_type": "stream",
     "text": [
      "15\n"
     ]
    },
    {
     "name": "stderr",
     "output_type": "stream",
     "text": [
      "Exception ignored in: <function House.__del__ at 0x00000213575B1550>\n",
      "Traceback (most recent call last):\n",
      "  File \"<ipython-input-27-0e9bb8cdab4c>\", line 223, in __del__\n",
      "AttributeError: 'NoneType' object has no attribute '_House__ownershipCertification'\n"
     ]
    },
    {
     "name": "stdout",
     "output_type": "stream",
     "text": [
      "16\n"
     ]
    },
    {
     "name": "stderr",
     "output_type": "stream",
     "text": [
      "Exception ignored in: <function House.__del__ at 0x00000213575B1550>\n",
      "Traceback (most recent call last):\n",
      "  File \"<ipython-input-27-0e9bb8cdab4c>\", line 223, in __del__\n",
      "AttributeError: 'NoneType' object has no attribute '_House__ownershipCertification'\n"
     ]
    },
    {
     "name": "stdout",
     "output_type": "stream",
     "text": [
      "17\n"
     ]
    },
    {
     "name": "stderr",
     "output_type": "stream",
     "text": [
      "Exception ignored in: <function House.__del__ at 0x00000213575B1550>\n",
      "Traceback (most recent call last):\n",
      "  File \"<ipython-input-27-0e9bb8cdab4c>\", line 223, in __del__\n",
      "AttributeError: 'NoneType' object has no attribute '_House__ownershipCertification'\n"
     ]
    },
    {
     "name": "stdout",
     "output_type": "stream",
     "text": [
      "18\n"
     ]
    },
    {
     "name": "stderr",
     "output_type": "stream",
     "text": [
      "Exception ignored in: <function House.__del__ at 0x00000213575B1550>\n",
      "Traceback (most recent call last):\n",
      "  File \"<ipython-input-27-0e9bb8cdab4c>\", line 223, in __del__\n",
      "AttributeError: 'NoneType' object has no attribute '_House__ownershipCertification'\n"
     ]
    },
    {
     "name": "stdout",
     "output_type": "stream",
     "text": [
      "19\n"
     ]
    },
    {
     "name": "stderr",
     "output_type": "stream",
     "text": [
      "Exception ignored in: <function House.__del__ at 0x00000213575B1550>\n",
      "Traceback (most recent call last):\n",
      "  File \"<ipython-input-27-0e9bb8cdab4c>\", line 223, in __del__\n",
      "AttributeError: 'NoneType' object has no attribute '_House__ownershipCertification'\n"
     ]
    },
    {
     "name": "stdout",
     "output_type": "stream",
     "text": [
      "20\n",
      "508 \n",
      "\n"
     ]
    },
    {
     "name": "stderr",
     "output_type": "stream",
     "text": [
      "Exception ignored in: <function House.__del__ at 0x00000213575B1550>\n",
      "Traceback (most recent call last):\n",
      "  File \"<ipython-input-27-0e9bb8cdab4c>\", line 223, in __del__\n",
      "AttributeError: 'NoneType' object has no attribute '_House__ownershipCertification'\n"
     ]
    },
    {
     "name": "stdout",
     "output_type": "stream",
     "text": [
      "1\n"
     ]
    },
    {
     "name": "stderr",
     "output_type": "stream",
     "text": [
      "Exception ignored in: <function House.__del__ at 0x00000213575B1550>\n",
      "Traceback (most recent call last):\n",
      "  File \"<ipython-input-27-0e9bb8cdab4c>\", line 223, in __del__\n",
      "AttributeError: 'NoneType' object has no attribute '_House__ownershipCertification'\n"
     ]
    },
    {
     "name": "stdout",
     "output_type": "stream",
     "text": [
      "2\n"
     ]
    },
    {
     "name": "stderr",
     "output_type": "stream",
     "text": [
      "Exception ignored in: <function House.__del__ at 0x00000213575B1550>\n",
      "Traceback (most recent call last):\n",
      "  File \"<ipython-input-27-0e9bb8cdab4c>\", line 223, in __del__\n",
      "AttributeError: 'NoneType' object has no attribute '_House__ownershipCertification'\n"
     ]
    },
    {
     "name": "stdout",
     "output_type": "stream",
     "text": [
      "3\n"
     ]
    },
    {
     "name": "stderr",
     "output_type": "stream",
     "text": [
      "Exception ignored in: <function House.__del__ at 0x00000213575B1550>\n",
      "Traceback (most recent call last):\n",
      "  File \"<ipython-input-27-0e9bb8cdab4c>\", line 223, in __del__\n",
      "AttributeError: 'NoneType' object has no attribute '_House__ownershipCertification'\n"
     ]
    },
    {
     "name": "stdout",
     "output_type": "stream",
     "text": [
      "4\n"
     ]
    },
    {
     "name": "stderr",
     "output_type": "stream",
     "text": [
      "Exception ignored in: <function House.__del__ at 0x00000213575B1550>\n",
      "Traceback (most recent call last):\n",
      "  File \"<ipython-input-27-0e9bb8cdab4c>\", line 223, in __del__\n",
      "AttributeError: 'NoneType' object has no attribute '_House__ownershipCertification'\n"
     ]
    },
    {
     "name": "stdout",
     "output_type": "stream",
     "text": [
      "5\n"
     ]
    },
    {
     "name": "stderr",
     "output_type": "stream",
     "text": [
      "Exception ignored in: <function House.__del__ at 0x00000213575B1550>\n",
      "Traceback (most recent call last):\n",
      "  File \"<ipython-input-27-0e9bb8cdab4c>\", line 223, in __del__\n",
      "AttributeError: 'NoneType' object has no attribute '_House__ownershipCertification'\n"
     ]
    },
    {
     "name": "stdout",
     "output_type": "stream",
     "text": [
      "6\n"
     ]
    },
    {
     "name": "stderr",
     "output_type": "stream",
     "text": [
      "Exception ignored in: <function House.__del__ at 0x00000213575B1550>\n",
      "Traceback (most recent call last):\n",
      "  File \"<ipython-input-27-0e9bb8cdab4c>\", line 223, in __del__\n",
      "AttributeError: 'NoneType' object has no attribute '_House__ownershipCertification'\n"
     ]
    },
    {
     "name": "stdout",
     "output_type": "stream",
     "text": [
      "7\n"
     ]
    },
    {
     "name": "stderr",
     "output_type": "stream",
     "text": [
      "Exception ignored in: <function House.__del__ at 0x00000213575B1550>\n",
      "Traceback (most recent call last):\n",
      "  File \"<ipython-input-27-0e9bb8cdab4c>\", line 223, in __del__\n",
      "AttributeError: 'NoneType' object has no attribute '_House__ownershipCertification'\n"
     ]
    },
    {
     "name": "stdout",
     "output_type": "stream",
     "text": [
      "8\n"
     ]
    },
    {
     "name": "stderr",
     "output_type": "stream",
     "text": [
      "Exception ignored in: <function House.__del__ at 0x00000213575B1550>\n",
      "Traceback (most recent call last):\n",
      "  File \"<ipython-input-27-0e9bb8cdab4c>\", line 223, in __del__\n",
      "AttributeError: 'NoneType' object has no attribute '_House__ownershipCertification'\n"
     ]
    },
    {
     "name": "stdout",
     "output_type": "stream",
     "text": [
      "9\n"
     ]
    },
    {
     "name": "stderr",
     "output_type": "stream",
     "text": [
      "Exception ignored in: <function House.__del__ at 0x00000213575B1550>\n",
      "Traceback (most recent call last):\n",
      "  File \"<ipython-input-27-0e9bb8cdab4c>\", line 223, in __del__\n",
      "AttributeError: 'NoneType' object has no attribute '_House__ownershipCertification'\n"
     ]
    },
    {
     "name": "stdout",
     "output_type": "stream",
     "text": [
      "10\n"
     ]
    },
    {
     "name": "stderr",
     "output_type": "stream",
     "text": [
      "Exception ignored in: <function House.__del__ at 0x00000213575B1550>\n",
      "Traceback (most recent call last):\n",
      "  File \"<ipython-input-27-0e9bb8cdab4c>\", line 223, in __del__\n",
      "AttributeError: 'NoneType' object has no attribute '_House__ownershipCertification'\n"
     ]
    },
    {
     "name": "stdout",
     "output_type": "stream",
     "text": [
      "11\n"
     ]
    },
    {
     "name": "stderr",
     "output_type": "stream",
     "text": [
      "Exception ignored in: <function House.__del__ at 0x00000213575B1550>\n",
      "Traceback (most recent call last):\n",
      "  File \"<ipython-input-27-0e9bb8cdab4c>\", line 223, in __del__\n",
      "AttributeError: 'NoneType' object has no attribute '_House__ownershipCertification'\n"
     ]
    },
    {
     "name": "stdout",
     "output_type": "stream",
     "text": [
      "12\n"
     ]
    },
    {
     "name": "stderr",
     "output_type": "stream",
     "text": [
      "Exception ignored in: <function House.__del__ at 0x00000213575B1550>\n",
      "Traceback (most recent call last):\n",
      "  File \"<ipython-input-27-0e9bb8cdab4c>\", line 223, in __del__\n",
      "AttributeError: 'NoneType' object has no attribute '_House__ownershipCertification'\n"
     ]
    },
    {
     "name": "stdout",
     "output_type": "stream",
     "text": [
      "13\n"
     ]
    },
    {
     "name": "stderr",
     "output_type": "stream",
     "text": [
      "Exception ignored in: <function House.__del__ at 0x00000213575B1550>\n",
      "Traceback (most recent call last):\n",
      "  File \"<ipython-input-27-0e9bb8cdab4c>\", line 223, in __del__\n",
      "AttributeError: 'NoneType' object has no attribute '_House__ownershipCertification'\n"
     ]
    },
    {
     "name": "stdout",
     "output_type": "stream",
     "text": [
      "14\n"
     ]
    },
    {
     "name": "stderr",
     "output_type": "stream",
     "text": [
      "Exception ignored in: <function House.__del__ at 0x00000213575B1550>\n",
      "Traceback (most recent call last):\n",
      "  File \"<ipython-input-27-0e9bb8cdab4c>\", line 223, in __del__\n",
      "AttributeError: 'NoneType' object has no attribute '_House__ownershipCertification'\n"
     ]
    },
    {
     "name": "stdout",
     "output_type": "stream",
     "text": [
      "15\n"
     ]
    },
    {
     "name": "stderr",
     "output_type": "stream",
     "text": [
      "Exception ignored in: <function House.__del__ at 0x00000213575B1550>\n",
      "Traceback (most recent call last):\n",
      "  File \"<ipython-input-27-0e9bb8cdab4c>\", line 223, in __del__\n",
      "AttributeError: 'NoneType' object has no attribute '_House__ownershipCertification'\n"
     ]
    },
    {
     "name": "stdout",
     "output_type": "stream",
     "text": [
      "16\n"
     ]
    },
    {
     "name": "stderr",
     "output_type": "stream",
     "text": [
      "Exception ignored in: <function House.__del__ at 0x00000213575B1550>\n",
      "Traceback (most recent call last):\n",
      "  File \"<ipython-input-27-0e9bb8cdab4c>\", line 223, in __del__\n",
      "AttributeError: 'NoneType' object has no attribute '_House__ownershipCertification'\n"
     ]
    },
    {
     "name": "stdout",
     "output_type": "stream",
     "text": [
      "17\n"
     ]
    },
    {
     "name": "stderr",
     "output_type": "stream",
     "text": [
      "Exception ignored in: <function House.__del__ at 0x00000213575B1550>\n",
      "Traceback (most recent call last):\n",
      "  File \"<ipython-input-27-0e9bb8cdab4c>\", line 223, in __del__\n",
      "AttributeError: 'NoneType' object has no attribute '_House__ownershipCertification'\n"
     ]
    },
    {
     "name": "stdout",
     "output_type": "stream",
     "text": [
      "18\n"
     ]
    },
    {
     "name": "stderr",
     "output_type": "stream",
     "text": [
      "Exception ignored in: <function House.__del__ at 0x00000213575B1550>\n",
      "Traceback (most recent call last):\n",
      "  File \"<ipython-input-27-0e9bb8cdab4c>\", line 223, in __del__\n",
      "AttributeError: 'NoneType' object has no attribute '_House__ownershipCertification'\n"
     ]
    },
    {
     "name": "stdout",
     "output_type": "stream",
     "text": [
      "19\n"
     ]
    },
    {
     "name": "stderr",
     "output_type": "stream",
     "text": [
      "Exception ignored in: <function House.__del__ at 0x00000213575B1550>\n",
      "Traceback (most recent call last):\n",
      "  File \"<ipython-input-27-0e9bb8cdab4c>\", line 223, in __del__\n",
      "AttributeError: 'NoneType' object has no attribute '_House__ownershipCertification'\n"
     ]
    },
    {
     "name": "stdout",
     "output_type": "stream",
     "text": [
      "20\n",
      "509 \n",
      "\n"
     ]
    },
    {
     "name": "stderr",
     "output_type": "stream",
     "text": [
      "Exception ignored in: <function House.__del__ at 0x00000213575B1550>\n",
      "Traceback (most recent call last):\n",
      "  File \"<ipython-input-27-0e9bb8cdab4c>\", line 223, in __del__\n",
      "AttributeError: 'NoneType' object has no attribute '_House__ownershipCertification'\n"
     ]
    },
    {
     "name": "stdout",
     "output_type": "stream",
     "text": [
      "1\n"
     ]
    },
    {
     "name": "stderr",
     "output_type": "stream",
     "text": [
      "Exception ignored in: <function House.__del__ at 0x00000213575B1550>\n",
      "Traceback (most recent call last):\n",
      "  File \"<ipython-input-27-0e9bb8cdab4c>\", line 223, in __del__\n",
      "AttributeError: 'NoneType' object has no attribute '_House__ownershipCertification'\n"
     ]
    },
    {
     "name": "stdout",
     "output_type": "stream",
     "text": [
      "2\n"
     ]
    },
    {
     "name": "stderr",
     "output_type": "stream",
     "text": [
      "Exception ignored in: <function House.__del__ at 0x00000213575B1550>\n",
      "Traceback (most recent call last):\n",
      "  File \"<ipython-input-27-0e9bb8cdab4c>\", line 223, in __del__\n",
      "AttributeError: 'NoneType' object has no attribute '_House__ownershipCertification'\n"
     ]
    },
    {
     "name": "stdout",
     "output_type": "stream",
     "text": [
      "3\n"
     ]
    },
    {
     "name": "stderr",
     "output_type": "stream",
     "text": [
      "Exception ignored in: <function House.__del__ at 0x00000213575B1550>\n",
      "Traceback (most recent call last):\n",
      "  File \"<ipython-input-27-0e9bb8cdab4c>\", line 223, in __del__\n",
      "AttributeError: 'NoneType' object has no attribute '_House__ownershipCertification'\n"
     ]
    },
    {
     "name": "stdout",
     "output_type": "stream",
     "text": [
      "4\n"
     ]
    },
    {
     "name": "stderr",
     "output_type": "stream",
     "text": [
      "Exception ignored in: <function House.__del__ at 0x00000213575B1550>\n",
      "Traceback (most recent call last):\n",
      "  File \"<ipython-input-27-0e9bb8cdab4c>\", line 223, in __del__\n",
      "AttributeError: 'NoneType' object has no attribute '_House__ownershipCertification'\n"
     ]
    },
    {
     "name": "stdout",
     "output_type": "stream",
     "text": [
      "5\n"
     ]
    },
    {
     "name": "stderr",
     "output_type": "stream",
     "text": [
      "Exception ignored in: <function House.__del__ at 0x00000213575B1550>\n",
      "Traceback (most recent call last):\n",
      "  File \"<ipython-input-27-0e9bb8cdab4c>\", line 223, in __del__\n",
      "AttributeError: 'NoneType' object has no attribute '_House__ownershipCertification'\n"
     ]
    },
    {
     "name": "stdout",
     "output_type": "stream",
     "text": [
      "6\n"
     ]
    },
    {
     "name": "stderr",
     "output_type": "stream",
     "text": [
      "Exception ignored in: <function House.__del__ at 0x00000213575B1550>\n",
      "Traceback (most recent call last):\n",
      "  File \"<ipython-input-27-0e9bb8cdab4c>\", line 223, in __del__\n",
      "AttributeError: 'NoneType' object has no attribute '_House__ownershipCertification'\n"
     ]
    },
    {
     "name": "stdout",
     "output_type": "stream",
     "text": [
      "7\n"
     ]
    },
    {
     "name": "stderr",
     "output_type": "stream",
     "text": [
      "Exception ignored in: <function House.__del__ at 0x00000213575B1550>\n",
      "Traceback (most recent call last):\n",
      "  File \"<ipython-input-27-0e9bb8cdab4c>\", line 223, in __del__\n",
      "AttributeError: 'NoneType' object has no attribute '_House__ownershipCertification'\n"
     ]
    },
    {
     "name": "stdout",
     "output_type": "stream",
     "text": [
      "8\n"
     ]
    },
    {
     "name": "stderr",
     "output_type": "stream",
     "text": [
      "Exception ignored in: <function House.__del__ at 0x00000213575B1550>\n",
      "Traceback (most recent call last):\n",
      "  File \"<ipython-input-27-0e9bb8cdab4c>\", line 223, in __del__\n",
      "AttributeError: 'NoneType' object has no attribute '_House__ownershipCertification'\n"
     ]
    },
    {
     "name": "stdout",
     "output_type": "stream",
     "text": [
      "9\n"
     ]
    },
    {
     "name": "stderr",
     "output_type": "stream",
     "text": [
      "Exception ignored in: <function House.__del__ at 0x00000213575B1550>\n",
      "Traceback (most recent call last):\n",
      "  File \"<ipython-input-27-0e9bb8cdab4c>\", line 223, in __del__\n",
      "AttributeError: 'NoneType' object has no attribute '_House__ownershipCertification'\n"
     ]
    },
    {
     "name": "stdout",
     "output_type": "stream",
     "text": [
      "10\n"
     ]
    },
    {
     "name": "stderr",
     "output_type": "stream",
     "text": [
      "Exception ignored in: <function House.__del__ at 0x00000213575B1550>\n",
      "Traceback (most recent call last):\n",
      "  File \"<ipython-input-27-0e9bb8cdab4c>\", line 223, in __del__\n",
      "AttributeError: 'NoneType' object has no attribute '_House__ownershipCertification'\n"
     ]
    },
    {
     "name": "stdout",
     "output_type": "stream",
     "text": [
      "11\n"
     ]
    },
    {
     "name": "stderr",
     "output_type": "stream",
     "text": [
      "Exception ignored in: <function House.__del__ at 0x00000213575B1550>\n",
      "Traceback (most recent call last):\n",
      "  File \"<ipython-input-27-0e9bb8cdab4c>\", line 223, in __del__\n",
      "AttributeError: 'NoneType' object has no attribute '_House__ownershipCertification'\n"
     ]
    },
    {
     "name": "stdout",
     "output_type": "stream",
     "text": [
      "12\n"
     ]
    },
    {
     "name": "stderr",
     "output_type": "stream",
     "text": [
      "Exception ignored in: <function House.__del__ at 0x00000213575B1550>\n",
      "Traceback (most recent call last):\n",
      "  File \"<ipython-input-27-0e9bb8cdab4c>\", line 223, in __del__\n",
      "AttributeError: 'NoneType' object has no attribute '_House__ownershipCertification'\n"
     ]
    },
    {
     "name": "stdout",
     "output_type": "stream",
     "text": [
      "13\n"
     ]
    },
    {
     "name": "stderr",
     "output_type": "stream",
     "text": [
      "Exception ignored in: <function House.__del__ at 0x00000213575B1550>\n",
      "Traceback (most recent call last):\n",
      "  File \"<ipython-input-27-0e9bb8cdab4c>\", line 223, in __del__\n",
      "AttributeError: 'NoneType' object has no attribute '_House__ownershipCertification'\n"
     ]
    },
    {
     "name": "stdout",
     "output_type": "stream",
     "text": [
      "14\n"
     ]
    },
    {
     "name": "stderr",
     "output_type": "stream",
     "text": [
      "Exception ignored in: <function House.__del__ at 0x00000213575B1550>\n",
      "Traceback (most recent call last):\n",
      "  File \"<ipython-input-27-0e9bb8cdab4c>\", line 223, in __del__\n",
      "AttributeError: 'NoneType' object has no attribute '_House__ownershipCertification'\n"
     ]
    },
    {
     "name": "stdout",
     "output_type": "stream",
     "text": [
      "15\n"
     ]
    },
    {
     "name": "stderr",
     "output_type": "stream",
     "text": [
      "Exception ignored in: <function House.__del__ at 0x00000213575B1550>\n",
      "Traceback (most recent call last):\n",
      "  File \"<ipython-input-27-0e9bb8cdab4c>\", line 223, in __del__\n",
      "AttributeError: 'NoneType' object has no attribute '_House__ownershipCertification'\n"
     ]
    },
    {
     "name": "stdout",
     "output_type": "stream",
     "text": [
      "16\n"
     ]
    },
    {
     "name": "stderr",
     "output_type": "stream",
     "text": [
      "Exception ignored in: <function House.__del__ at 0x00000213575B1550>\n",
      "Traceback (most recent call last):\n",
      "  File \"<ipython-input-27-0e9bb8cdab4c>\", line 223, in __del__\n",
      "AttributeError: 'NoneType' object has no attribute '_House__ownershipCertification'\n"
     ]
    },
    {
     "name": "stdout",
     "output_type": "stream",
     "text": [
      "17\n"
     ]
    },
    {
     "name": "stderr",
     "output_type": "stream",
     "text": [
      "Exception ignored in: <function House.__del__ at 0x00000213575B1550>\n",
      "Traceback (most recent call last):\n",
      "  File \"<ipython-input-27-0e9bb8cdab4c>\", line 223, in __del__\n",
      "AttributeError: 'NoneType' object has no attribute '_House__ownershipCertification'\n"
     ]
    },
    {
     "name": "stdout",
     "output_type": "stream",
     "text": [
      "18\n"
     ]
    },
    {
     "name": "stderr",
     "output_type": "stream",
     "text": [
      "Exception ignored in: <function House.__del__ at 0x00000213575B1550>\n",
      "Traceback (most recent call last):\n",
      "  File \"<ipython-input-27-0e9bb8cdab4c>\", line 223, in __del__\n",
      "AttributeError: 'NoneType' object has no attribute '_House__ownershipCertification'\n"
     ]
    },
    {
     "name": "stdout",
     "output_type": "stream",
     "text": [
      "19\n"
     ]
    },
    {
     "name": "stderr",
     "output_type": "stream",
     "text": [
      "Exception ignored in: <function House.__del__ at 0x00000213575B1550>\n",
      "Traceback (most recent call last):\n",
      "  File \"<ipython-input-27-0e9bb8cdab4c>\", line 223, in __del__\n",
      "AttributeError: 'NoneType' object has no attribute '_House__ownershipCertification'\n"
     ]
    },
    {
     "name": "stdout",
     "output_type": "stream",
     "text": [
      "20\n",
      "510 \n",
      "\n"
     ]
    },
    {
     "name": "stderr",
     "output_type": "stream",
     "text": [
      "Exception ignored in: <function House.__del__ at 0x00000213575B1550>\n",
      "Traceback (most recent call last):\n",
      "  File \"<ipython-input-27-0e9bb8cdab4c>\", line 223, in __del__\n",
      "AttributeError: 'NoneType' object has no attribute '_House__ownershipCertification'\n"
     ]
    },
    {
     "name": "stdout",
     "output_type": "stream",
     "text": [
      "1\n"
     ]
    },
    {
     "name": "stderr",
     "output_type": "stream",
     "text": [
      "Exception ignored in: <function House.__del__ at 0x00000213575B1550>\n",
      "Traceback (most recent call last):\n",
      "  File \"<ipython-input-27-0e9bb8cdab4c>\", line 223, in __del__\n",
      "AttributeError: 'NoneType' object has no attribute '_House__ownershipCertification'\n"
     ]
    },
    {
     "name": "stdout",
     "output_type": "stream",
     "text": [
      "2\n"
     ]
    },
    {
     "name": "stderr",
     "output_type": "stream",
     "text": [
      "Exception ignored in: <function House.__del__ at 0x00000213575B1550>\n",
      "Traceback (most recent call last):\n",
      "  File \"<ipython-input-27-0e9bb8cdab4c>\", line 223, in __del__\n",
      "AttributeError: 'NoneType' object has no attribute '_House__ownershipCertification'\n"
     ]
    },
    {
     "name": "stdout",
     "output_type": "stream",
     "text": [
      "3\n"
     ]
    },
    {
     "name": "stderr",
     "output_type": "stream",
     "text": [
      "Exception ignored in: <function House.__del__ at 0x00000213575B1550>\n",
      "Traceback (most recent call last):\n",
      "  File \"<ipython-input-27-0e9bb8cdab4c>\", line 223, in __del__\n",
      "AttributeError: 'NoneType' object has no attribute '_House__ownershipCertification'\n"
     ]
    },
    {
     "name": "stdout",
     "output_type": "stream",
     "text": [
      "4\n"
     ]
    },
    {
     "name": "stderr",
     "output_type": "stream",
     "text": [
      "Exception ignored in: <function House.__del__ at 0x00000213575B1550>\n",
      "Traceback (most recent call last):\n",
      "  File \"<ipython-input-27-0e9bb8cdab4c>\", line 223, in __del__\n",
      "AttributeError: 'NoneType' object has no attribute '_House__ownershipCertification'\n"
     ]
    },
    {
     "name": "stdout",
     "output_type": "stream",
     "text": [
      "5\n"
     ]
    },
    {
     "name": "stderr",
     "output_type": "stream",
     "text": [
      "Exception ignored in: <function House.__del__ at 0x00000213575B1550>\n",
      "Traceback (most recent call last):\n",
      "  File \"<ipython-input-27-0e9bb8cdab4c>\", line 223, in __del__\n",
      "AttributeError: 'NoneType' object has no attribute '_House__ownershipCertification'\n"
     ]
    },
    {
     "name": "stdout",
     "output_type": "stream",
     "text": [
      "6\n"
     ]
    },
    {
     "name": "stderr",
     "output_type": "stream",
     "text": [
      "Exception ignored in: <function House.__del__ at 0x00000213575B1550>\n",
      "Traceback (most recent call last):\n",
      "  File \"<ipython-input-27-0e9bb8cdab4c>\", line 223, in __del__\n",
      "AttributeError: 'NoneType' object has no attribute '_House__ownershipCertification'\n"
     ]
    },
    {
     "name": "stdout",
     "output_type": "stream",
     "text": [
      "7\n"
     ]
    },
    {
     "name": "stderr",
     "output_type": "stream",
     "text": [
      "Exception ignored in: <function House.__del__ at 0x00000213575B1550>\n",
      "Traceback (most recent call last):\n",
      "  File \"<ipython-input-27-0e9bb8cdab4c>\", line 223, in __del__\n",
      "AttributeError: 'NoneType' object has no attribute '_House__ownershipCertification'\n"
     ]
    },
    {
     "name": "stdout",
     "output_type": "stream",
     "text": [
      "8\n"
     ]
    },
    {
     "name": "stderr",
     "output_type": "stream",
     "text": [
      "Exception ignored in: <function House.__del__ at 0x00000213575B1550>\n",
      "Traceback (most recent call last):\n",
      "  File \"<ipython-input-27-0e9bb8cdab4c>\", line 223, in __del__\n",
      "AttributeError: 'NoneType' object has no attribute '_House__ownershipCertification'\n"
     ]
    },
    {
     "name": "stdout",
     "output_type": "stream",
     "text": [
      "9\n"
     ]
    },
    {
     "name": "stderr",
     "output_type": "stream",
     "text": [
      "Exception ignored in: <function House.__del__ at 0x00000213575B1550>\n",
      "Traceback (most recent call last):\n",
      "  File \"<ipython-input-27-0e9bb8cdab4c>\", line 223, in __del__\n",
      "AttributeError: 'NoneType' object has no attribute '_House__ownershipCertification'\n"
     ]
    },
    {
     "name": "stdout",
     "output_type": "stream",
     "text": [
      "10\n"
     ]
    },
    {
     "name": "stderr",
     "output_type": "stream",
     "text": [
      "Exception ignored in: <function House.__del__ at 0x00000213575B1550>\n",
      "Traceback (most recent call last):\n",
      "  File \"<ipython-input-27-0e9bb8cdab4c>\", line 223, in __del__\n",
      "AttributeError: 'NoneType' object has no attribute '_House__ownershipCertification'\n"
     ]
    },
    {
     "name": "stdout",
     "output_type": "stream",
     "text": [
      "11\n"
     ]
    },
    {
     "name": "stderr",
     "output_type": "stream",
     "text": [
      "Exception ignored in: <function House.__del__ at 0x00000213575B1550>\n",
      "Traceback (most recent call last):\n",
      "  File \"<ipython-input-27-0e9bb8cdab4c>\", line 223, in __del__\n",
      "AttributeError: 'NoneType' object has no attribute '_House__ownershipCertification'\n"
     ]
    },
    {
     "name": "stdout",
     "output_type": "stream",
     "text": [
      "12\n"
     ]
    },
    {
     "name": "stderr",
     "output_type": "stream",
     "text": [
      "Exception ignored in: <function House.__del__ at 0x00000213575B1550>\n",
      "Traceback (most recent call last):\n",
      "  File \"<ipython-input-27-0e9bb8cdab4c>\", line 223, in __del__\n",
      "AttributeError: 'NoneType' object has no attribute '_House__ownershipCertification'\n"
     ]
    },
    {
     "name": "stdout",
     "output_type": "stream",
     "text": [
      "13\n"
     ]
    },
    {
     "name": "stderr",
     "output_type": "stream",
     "text": [
      "Exception ignored in: <function House.__del__ at 0x00000213575B1550>\n",
      "Traceback (most recent call last):\n",
      "  File \"<ipython-input-27-0e9bb8cdab4c>\", line 223, in __del__\n",
      "AttributeError: 'NoneType' object has no attribute '_House__ownershipCertification'\n"
     ]
    },
    {
     "name": "stdout",
     "output_type": "stream",
     "text": [
      "14\n"
     ]
    },
    {
     "name": "stderr",
     "output_type": "stream",
     "text": [
      "Exception ignored in: <function House.__del__ at 0x00000213575B1550>\n",
      "Traceback (most recent call last):\n",
      "  File \"<ipython-input-27-0e9bb8cdab4c>\", line 223, in __del__\n",
      "AttributeError: 'NoneType' object has no attribute '_House__ownershipCertification'\n"
     ]
    },
    {
     "name": "stdout",
     "output_type": "stream",
     "text": [
      "15\n"
     ]
    },
    {
     "name": "stderr",
     "output_type": "stream",
     "text": [
      "Exception ignored in: <function House.__del__ at 0x00000213575B1550>\n",
      "Traceback (most recent call last):\n",
      "  File \"<ipython-input-27-0e9bb8cdab4c>\", line 223, in __del__\n",
      "AttributeError: 'NoneType' object has no attribute '_House__ownershipCertification'\n"
     ]
    },
    {
     "name": "stdout",
     "output_type": "stream",
     "text": [
      "16\n"
     ]
    },
    {
     "name": "stderr",
     "output_type": "stream",
     "text": [
      "Exception ignored in: <function House.__del__ at 0x00000213575B1550>\n",
      "Traceback (most recent call last):\n",
      "  File \"<ipython-input-27-0e9bb8cdab4c>\", line 223, in __del__\n",
      "AttributeError: 'NoneType' object has no attribute '_House__ownershipCertification'\n"
     ]
    },
    {
     "name": "stdout",
     "output_type": "stream",
     "text": [
      "17\n"
     ]
    },
    {
     "name": "stderr",
     "output_type": "stream",
     "text": [
      "Exception ignored in: <function House.__del__ at 0x00000213575B1550>\n",
      "Traceback (most recent call last):\n",
      "  File \"<ipython-input-27-0e9bb8cdab4c>\", line 223, in __del__\n",
      "AttributeError: 'NoneType' object has no attribute '_House__ownershipCertification'\n"
     ]
    },
    {
     "name": "stdout",
     "output_type": "stream",
     "text": [
      "18\n"
     ]
    },
    {
     "name": "stderr",
     "output_type": "stream",
     "text": [
      "Exception ignored in: <function House.__del__ at 0x00000213575B1550>\n",
      "Traceback (most recent call last):\n",
      "  File \"<ipython-input-27-0e9bb8cdab4c>\", line 223, in __del__\n",
      "AttributeError: 'NoneType' object has no attribute '_House__ownershipCertification'\n"
     ]
    },
    {
     "name": "stdout",
     "output_type": "stream",
     "text": [
      "19\n"
     ]
    },
    {
     "name": "stderr",
     "output_type": "stream",
     "text": [
      "Exception ignored in: <function House.__del__ at 0x00000213575B1550>\n",
      "Traceback (most recent call last):\n",
      "  File \"<ipython-input-27-0e9bb8cdab4c>\", line 223, in __del__\n",
      "AttributeError: 'NoneType' object has no attribute '_House__ownershipCertification'\n"
     ]
    },
    {
     "name": "stdout",
     "output_type": "stream",
     "text": [
      "20\n",
      "511 \n",
      "\n"
     ]
    },
    {
     "name": "stderr",
     "output_type": "stream",
     "text": [
      "Exception ignored in: <function House.__del__ at 0x00000213575B1550>\n",
      "Traceback (most recent call last):\n",
      "  File \"<ipython-input-27-0e9bb8cdab4c>\", line 223, in __del__\n",
      "AttributeError: 'NoneType' object has no attribute '_House__ownershipCertification'\n"
     ]
    },
    {
     "name": "stdout",
     "output_type": "stream",
     "text": [
      "1\n"
     ]
    },
    {
     "name": "stderr",
     "output_type": "stream",
     "text": [
      "Exception ignored in: <function House.__del__ at 0x00000213575B1550>\n",
      "Traceback (most recent call last):\n",
      "  File \"<ipython-input-27-0e9bb8cdab4c>\", line 223, in __del__\n",
      "AttributeError: 'NoneType' object has no attribute '_House__ownershipCertification'\n"
     ]
    },
    {
     "name": "stdout",
     "output_type": "stream",
     "text": [
      "2\n"
     ]
    },
    {
     "name": "stderr",
     "output_type": "stream",
     "text": [
      "Exception ignored in: <function House.__del__ at 0x00000213575B1550>\n",
      "Traceback (most recent call last):\n",
      "  File \"<ipython-input-27-0e9bb8cdab4c>\", line 223, in __del__\n",
      "AttributeError: 'NoneType' object has no attribute '_House__ownershipCertification'\n"
     ]
    },
    {
     "name": "stdout",
     "output_type": "stream",
     "text": [
      "3\n"
     ]
    },
    {
     "name": "stderr",
     "output_type": "stream",
     "text": [
      "Exception ignored in: <function House.__del__ at 0x00000213575B1550>\n",
      "Traceback (most recent call last):\n",
      "  File \"<ipython-input-27-0e9bb8cdab4c>\", line 223, in __del__\n",
      "AttributeError: 'NoneType' object has no attribute '_House__ownershipCertification'\n"
     ]
    },
    {
     "name": "stdout",
     "output_type": "stream",
     "text": [
      "4\n"
     ]
    },
    {
     "name": "stderr",
     "output_type": "stream",
     "text": [
      "Exception ignored in: <function House.__del__ at 0x00000213575B1550>\n",
      "Traceback (most recent call last):\n",
      "  File \"<ipython-input-27-0e9bb8cdab4c>\", line 223, in __del__\n",
      "AttributeError: 'NoneType' object has no attribute '_House__ownershipCertification'\n"
     ]
    },
    {
     "name": "stdout",
     "output_type": "stream",
     "text": [
      "5\n"
     ]
    },
    {
     "name": "stderr",
     "output_type": "stream",
     "text": [
      "Exception ignored in: <function House.__del__ at 0x00000213575B1550>\n",
      "Traceback (most recent call last):\n",
      "  File \"<ipython-input-27-0e9bb8cdab4c>\", line 223, in __del__\n",
      "AttributeError: 'NoneType' object has no attribute '_House__ownershipCertification'\n"
     ]
    },
    {
     "name": "stdout",
     "output_type": "stream",
     "text": [
      "6\n"
     ]
    },
    {
     "name": "stderr",
     "output_type": "stream",
     "text": [
      "Exception ignored in: <function House.__del__ at 0x00000213575B1550>\n",
      "Traceback (most recent call last):\n",
      "  File \"<ipython-input-27-0e9bb8cdab4c>\", line 223, in __del__\n",
      "AttributeError: 'NoneType' object has no attribute '_House__ownershipCertification'\n"
     ]
    },
    {
     "name": "stdout",
     "output_type": "stream",
     "text": [
      "7\n"
     ]
    },
    {
     "name": "stderr",
     "output_type": "stream",
     "text": [
      "Exception ignored in: <function House.__del__ at 0x00000213575B1550>\n",
      "Traceback (most recent call last):\n",
      "  File \"<ipython-input-27-0e9bb8cdab4c>\", line 223, in __del__\n",
      "AttributeError: 'NoneType' object has no attribute '_House__ownershipCertification'\n"
     ]
    },
    {
     "name": "stdout",
     "output_type": "stream",
     "text": [
      "8\n"
     ]
    },
    {
     "name": "stderr",
     "output_type": "stream",
     "text": [
      "Exception ignored in: <function House.__del__ at 0x00000213575B1550>\n",
      "Traceback (most recent call last):\n",
      "  File \"<ipython-input-27-0e9bb8cdab4c>\", line 223, in __del__\n",
      "AttributeError: 'NoneType' object has no attribute '_House__ownershipCertification'\n"
     ]
    },
    {
     "name": "stdout",
     "output_type": "stream",
     "text": [
      "9\n"
     ]
    },
    {
     "name": "stderr",
     "output_type": "stream",
     "text": [
      "Exception ignored in: <function House.__del__ at 0x00000213575B1550>\n",
      "Traceback (most recent call last):\n",
      "  File \"<ipython-input-27-0e9bb8cdab4c>\", line 223, in __del__\n",
      "AttributeError: 'NoneType' object has no attribute '_House__ownershipCertification'\n"
     ]
    },
    {
     "name": "stdout",
     "output_type": "stream",
     "text": [
      "10\n"
     ]
    },
    {
     "name": "stderr",
     "output_type": "stream",
     "text": [
      "Exception ignored in: <function House.__del__ at 0x00000213575B1550>\n",
      "Traceback (most recent call last):\n",
      "  File \"<ipython-input-27-0e9bb8cdab4c>\", line 223, in __del__\n",
      "AttributeError: 'NoneType' object has no attribute '_House__ownershipCertification'\n"
     ]
    },
    {
     "name": "stdout",
     "output_type": "stream",
     "text": [
      "11\n"
     ]
    },
    {
     "name": "stderr",
     "output_type": "stream",
     "text": [
      "Exception ignored in: <function House.__del__ at 0x00000213575B1550>\n",
      "Traceback (most recent call last):\n",
      "  File \"<ipython-input-27-0e9bb8cdab4c>\", line 223, in __del__\n",
      "AttributeError: 'NoneType' object has no attribute '_House__ownershipCertification'\n"
     ]
    },
    {
     "name": "stdout",
     "output_type": "stream",
     "text": [
      "12\n"
     ]
    },
    {
     "name": "stderr",
     "output_type": "stream",
     "text": [
      "Exception ignored in: <function House.__del__ at 0x00000213575B1550>\n",
      "Traceback (most recent call last):\n",
      "  File \"<ipython-input-27-0e9bb8cdab4c>\", line 223, in __del__\n",
      "AttributeError: 'NoneType' object has no attribute '_House__ownershipCertification'\n"
     ]
    },
    {
     "name": "stdout",
     "output_type": "stream",
     "text": [
      "13\n"
     ]
    },
    {
     "name": "stderr",
     "output_type": "stream",
     "text": [
      "Exception ignored in: <function House.__del__ at 0x00000213575B1550>\n",
      "Traceback (most recent call last):\n",
      "  File \"<ipython-input-27-0e9bb8cdab4c>\", line 223, in __del__\n",
      "AttributeError: 'NoneType' object has no attribute '_House__ownershipCertification'\n"
     ]
    },
    {
     "name": "stdout",
     "output_type": "stream",
     "text": [
      "14\n"
     ]
    },
    {
     "name": "stderr",
     "output_type": "stream",
     "text": [
      "Exception ignored in: <function House.__del__ at 0x00000213575B1550>\n",
      "Traceback (most recent call last):\n",
      "  File \"<ipython-input-27-0e9bb8cdab4c>\", line 223, in __del__\n",
      "AttributeError: 'NoneType' object has no attribute '_House__ownershipCertification'\n"
     ]
    },
    {
     "name": "stdout",
     "output_type": "stream",
     "text": [
      "15\n"
     ]
    },
    {
     "name": "stderr",
     "output_type": "stream",
     "text": [
      "Exception ignored in: <function House.__del__ at 0x00000213575B1550>\n",
      "Traceback (most recent call last):\n",
      "  File \"<ipython-input-27-0e9bb8cdab4c>\", line 223, in __del__\n",
      "AttributeError: 'NoneType' object has no attribute '_House__ownershipCertification'\n"
     ]
    },
    {
     "name": "stdout",
     "output_type": "stream",
     "text": [
      "16\n"
     ]
    },
    {
     "name": "stderr",
     "output_type": "stream",
     "text": [
      "Exception ignored in: <function House.__del__ at 0x00000213575B1550>\n",
      "Traceback (most recent call last):\n",
      "  File \"<ipython-input-27-0e9bb8cdab4c>\", line 223, in __del__\n",
      "AttributeError: 'NoneType' object has no attribute '_House__ownershipCertification'\n"
     ]
    },
    {
     "name": "stdout",
     "output_type": "stream",
     "text": [
      "17\n"
     ]
    },
    {
     "name": "stderr",
     "output_type": "stream",
     "text": [
      "Exception ignored in: <function House.__del__ at 0x00000213575B1550>\n",
      "Traceback (most recent call last):\n",
      "  File \"<ipython-input-27-0e9bb8cdab4c>\", line 223, in __del__\n",
      "AttributeError: 'NoneType' object has no attribute '_House__ownershipCertification'\n"
     ]
    },
    {
     "name": "stdout",
     "output_type": "stream",
     "text": [
      "18\n"
     ]
    },
    {
     "name": "stderr",
     "output_type": "stream",
     "text": [
      "Exception ignored in: <function House.__del__ at 0x00000213575B1550>\n",
      "Traceback (most recent call last):\n",
      "  File \"<ipython-input-27-0e9bb8cdab4c>\", line 223, in __del__\n",
      "AttributeError: 'NoneType' object has no attribute '_House__ownershipCertification'\n"
     ]
    },
    {
     "name": "stdout",
     "output_type": "stream",
     "text": [
      "19\n"
     ]
    },
    {
     "name": "stderr",
     "output_type": "stream",
     "text": [
      "Exception ignored in: <function House.__del__ at 0x00000213575B1550>\n",
      "Traceback (most recent call last):\n",
      "  File \"<ipython-input-27-0e9bb8cdab4c>\", line 223, in __del__\n",
      "AttributeError: 'NoneType' object has no attribute '_House__ownershipCertification'\n"
     ]
    },
    {
     "name": "stdout",
     "output_type": "stream",
     "text": [
      "20\n",
      "512 \n",
      "\n"
     ]
    },
    {
     "name": "stderr",
     "output_type": "stream",
     "text": [
      "Exception ignored in: <function House.__del__ at 0x00000213575B1550>\n",
      "Traceback (most recent call last):\n",
      "  File \"<ipython-input-27-0e9bb8cdab4c>\", line 223, in __del__\n",
      "AttributeError: 'NoneType' object has no attribute '_House__ownershipCertification'\n"
     ]
    },
    {
     "name": "stdout",
     "output_type": "stream",
     "text": [
      "1\n"
     ]
    },
    {
     "name": "stderr",
     "output_type": "stream",
     "text": [
      "Exception ignored in: <function House.__del__ at 0x00000213575B1550>\n",
      "Traceback (most recent call last):\n",
      "  File \"<ipython-input-27-0e9bb8cdab4c>\", line 223, in __del__\n",
      "AttributeError: 'NoneType' object has no attribute '_House__ownershipCertification'\n"
     ]
    },
    {
     "name": "stdout",
     "output_type": "stream",
     "text": [
      "2\n"
     ]
    },
    {
     "name": "stderr",
     "output_type": "stream",
     "text": [
      "Exception ignored in: <function House.__del__ at 0x00000213575B1550>\n",
      "Traceback (most recent call last):\n",
      "  File \"<ipython-input-27-0e9bb8cdab4c>\", line 223, in __del__\n",
      "AttributeError: 'NoneType' object has no attribute '_House__ownershipCertification'\n"
     ]
    },
    {
     "name": "stdout",
     "output_type": "stream",
     "text": [
      "3\n"
     ]
    },
    {
     "name": "stderr",
     "output_type": "stream",
     "text": [
      "Exception ignored in: <function House.__del__ at 0x00000213575B1550>\n",
      "Traceback (most recent call last):\n",
      "  File \"<ipython-input-27-0e9bb8cdab4c>\", line 223, in __del__\n",
      "AttributeError: 'NoneType' object has no attribute '_House__ownershipCertification'\n"
     ]
    },
    {
     "name": "stdout",
     "output_type": "stream",
     "text": [
      "4\n"
     ]
    },
    {
     "name": "stderr",
     "output_type": "stream",
     "text": [
      "Exception ignored in: <function House.__del__ at 0x00000213575B1550>\n",
      "Traceback (most recent call last):\n",
      "  File \"<ipython-input-27-0e9bb8cdab4c>\", line 223, in __del__\n",
      "AttributeError: 'NoneType' object has no attribute '_House__ownershipCertification'\n"
     ]
    },
    {
     "name": "stdout",
     "output_type": "stream",
     "text": [
      "5\n"
     ]
    },
    {
     "name": "stderr",
     "output_type": "stream",
     "text": [
      "Exception ignored in: <function House.__del__ at 0x00000213575B1550>\n",
      "Traceback (most recent call last):\n",
      "  File \"<ipython-input-27-0e9bb8cdab4c>\", line 223, in __del__\n",
      "AttributeError: 'NoneType' object has no attribute '_House__ownershipCertification'\n"
     ]
    },
    {
     "name": "stdout",
     "output_type": "stream",
     "text": [
      "6\n"
     ]
    },
    {
     "name": "stderr",
     "output_type": "stream",
     "text": [
      "Exception ignored in: <function House.__del__ at 0x00000213575B1550>\n",
      "Traceback (most recent call last):\n",
      "  File \"<ipython-input-27-0e9bb8cdab4c>\", line 223, in __del__\n",
      "AttributeError: 'NoneType' object has no attribute '_House__ownershipCertification'\n"
     ]
    },
    {
     "name": "stdout",
     "output_type": "stream",
     "text": [
      "7\n"
     ]
    },
    {
     "name": "stderr",
     "output_type": "stream",
     "text": [
      "Exception ignored in: <function House.__del__ at 0x00000213575B1550>\n",
      "Traceback (most recent call last):\n",
      "  File \"<ipython-input-27-0e9bb8cdab4c>\", line 223, in __del__\n",
      "AttributeError: 'NoneType' object has no attribute '_House__ownershipCertification'\n"
     ]
    },
    {
     "name": "stdout",
     "output_type": "stream",
     "text": [
      "8\n"
     ]
    },
    {
     "name": "stderr",
     "output_type": "stream",
     "text": [
      "Exception ignored in: <function House.__del__ at 0x00000213575B1550>\n",
      "Traceback (most recent call last):\n",
      "  File \"<ipython-input-27-0e9bb8cdab4c>\", line 223, in __del__\n",
      "AttributeError: 'NoneType' object has no attribute '_House__ownershipCertification'\n"
     ]
    },
    {
     "name": "stdout",
     "output_type": "stream",
     "text": [
      "9\n"
     ]
    },
    {
     "name": "stderr",
     "output_type": "stream",
     "text": [
      "Exception ignored in: <function House.__del__ at 0x00000213575B1550>\n",
      "Traceback (most recent call last):\n",
      "  File \"<ipython-input-27-0e9bb8cdab4c>\", line 223, in __del__\n",
      "AttributeError: 'NoneType' object has no attribute '_House__ownershipCertification'\n"
     ]
    },
    {
     "name": "stdout",
     "output_type": "stream",
     "text": [
      "10\n"
     ]
    },
    {
     "name": "stderr",
     "output_type": "stream",
     "text": [
      "Exception ignored in: <function House.__del__ at 0x00000213575B1550>\n",
      "Traceback (most recent call last):\n",
      "  File \"<ipython-input-27-0e9bb8cdab4c>\", line 223, in __del__\n",
      "AttributeError: 'NoneType' object has no attribute '_House__ownershipCertification'\n"
     ]
    },
    {
     "name": "stdout",
     "output_type": "stream",
     "text": [
      "11\n"
     ]
    },
    {
     "name": "stderr",
     "output_type": "stream",
     "text": [
      "Exception ignored in: <function House.__del__ at 0x00000213575B1550>\n",
      "Traceback (most recent call last):\n",
      "  File \"<ipython-input-27-0e9bb8cdab4c>\", line 223, in __del__\n",
      "AttributeError: 'NoneType' object has no attribute '_House__ownershipCertification'\n"
     ]
    },
    {
     "name": "stdout",
     "output_type": "stream",
     "text": [
      "12\n"
     ]
    },
    {
     "name": "stderr",
     "output_type": "stream",
     "text": [
      "Exception ignored in: <function House.__del__ at 0x00000213575B1550>\n",
      "Traceback (most recent call last):\n",
      "  File \"<ipython-input-27-0e9bb8cdab4c>\", line 223, in __del__\n",
      "AttributeError: 'NoneType' object has no attribute '_House__ownershipCertification'\n"
     ]
    },
    {
     "name": "stdout",
     "output_type": "stream",
     "text": [
      "13\n"
     ]
    },
    {
     "name": "stderr",
     "output_type": "stream",
     "text": [
      "Exception ignored in: <function House.__del__ at 0x00000213575B1550>\n",
      "Traceback (most recent call last):\n",
      "  File \"<ipython-input-27-0e9bb8cdab4c>\", line 223, in __del__\n",
      "AttributeError: 'NoneType' object has no attribute '_House__ownershipCertification'\n"
     ]
    },
    {
     "name": "stdout",
     "output_type": "stream",
     "text": [
      "14\n"
     ]
    },
    {
     "name": "stderr",
     "output_type": "stream",
     "text": [
      "Exception ignored in: <function House.__del__ at 0x00000213575B1550>\n",
      "Traceback (most recent call last):\n",
      "  File \"<ipython-input-27-0e9bb8cdab4c>\", line 223, in __del__\n",
      "AttributeError: 'NoneType' object has no attribute '_House__ownershipCertification'\n"
     ]
    },
    {
     "name": "stdout",
     "output_type": "stream",
     "text": [
      "15\n"
     ]
    },
    {
     "name": "stderr",
     "output_type": "stream",
     "text": [
      "Exception ignored in: <function House.__del__ at 0x00000213575B1550>\n",
      "Traceback (most recent call last):\n",
      "  File \"<ipython-input-27-0e9bb8cdab4c>\", line 223, in __del__\n",
      "AttributeError: 'NoneType' object has no attribute '_House__ownershipCertification'\n"
     ]
    },
    {
     "name": "stdout",
     "output_type": "stream",
     "text": [
      "16\n"
     ]
    },
    {
     "name": "stderr",
     "output_type": "stream",
     "text": [
      "Exception ignored in: <function House.__del__ at 0x00000213575B1550>\n",
      "Traceback (most recent call last):\n",
      "  File \"<ipython-input-27-0e9bb8cdab4c>\", line 223, in __del__\n",
      "AttributeError: 'NoneType' object has no attribute '_House__ownershipCertification'\n"
     ]
    },
    {
     "name": "stdout",
     "output_type": "stream",
     "text": [
      "17\n"
     ]
    },
    {
     "name": "stderr",
     "output_type": "stream",
     "text": [
      "Exception ignored in: <function House.__del__ at 0x00000213575B1550>\n",
      "Traceback (most recent call last):\n",
      "  File \"<ipython-input-27-0e9bb8cdab4c>\", line 223, in __del__\n",
      "AttributeError: 'NoneType' object has no attribute '_House__ownershipCertification'\n"
     ]
    },
    {
     "name": "stdout",
     "output_type": "stream",
     "text": [
      "18\n"
     ]
    },
    {
     "name": "stderr",
     "output_type": "stream",
     "text": [
      "Exception ignored in: <function House.__del__ at 0x00000213575B1550>\n",
      "Traceback (most recent call last):\n",
      "  File \"<ipython-input-27-0e9bb8cdab4c>\", line 223, in __del__\n",
      "AttributeError: 'NoneType' object has no attribute '_House__ownershipCertification'\n"
     ]
    },
    {
     "name": "stdout",
     "output_type": "stream",
     "text": [
      "19\n"
     ]
    },
    {
     "name": "stderr",
     "output_type": "stream",
     "text": [
      "Exception ignored in: <function House.__del__ at 0x00000213575B1550>\n",
      "Traceback (most recent call last):\n",
      "  File \"<ipython-input-27-0e9bb8cdab4c>\", line 223, in __del__\n",
      "AttributeError: 'NoneType' object has no attribute '_House__ownershipCertification'\n"
     ]
    },
    {
     "name": "stdout",
     "output_type": "stream",
     "text": [
      "20\n",
      "513 \n",
      "\n"
     ]
    },
    {
     "name": "stderr",
     "output_type": "stream",
     "text": [
      "Exception ignored in: <function House.__del__ at 0x00000213575B1550>\n",
      "Traceback (most recent call last):\n",
      "  File \"<ipython-input-27-0e9bb8cdab4c>\", line 223, in __del__\n",
      "AttributeError: 'NoneType' object has no attribute '_House__ownershipCertification'\n"
     ]
    },
    {
     "name": "stdout",
     "output_type": "stream",
     "text": [
      "1\n"
     ]
    },
    {
     "name": "stderr",
     "output_type": "stream",
     "text": [
      "Exception ignored in: <function House.__del__ at 0x00000213575B1550>\n",
      "Traceback (most recent call last):\n",
      "  File \"<ipython-input-27-0e9bb8cdab4c>\", line 223, in __del__\n",
      "AttributeError: 'NoneType' object has no attribute '_House__ownershipCertification'\n"
     ]
    },
    {
     "name": "stdout",
     "output_type": "stream",
     "text": [
      "2\n"
     ]
    },
    {
     "name": "stderr",
     "output_type": "stream",
     "text": [
      "Exception ignored in: <function House.__del__ at 0x00000213575B1550>\n",
      "Traceback (most recent call last):\n",
      "  File \"<ipython-input-27-0e9bb8cdab4c>\", line 223, in __del__\n",
      "AttributeError: 'NoneType' object has no attribute '_House__ownershipCertification'\n"
     ]
    },
    {
     "name": "stdout",
     "output_type": "stream",
     "text": [
      "3\n"
     ]
    },
    {
     "name": "stderr",
     "output_type": "stream",
     "text": [
      "Exception ignored in: <function House.__del__ at 0x00000213575B1550>\n",
      "Traceback (most recent call last):\n",
      "  File \"<ipython-input-27-0e9bb8cdab4c>\", line 223, in __del__\n",
      "AttributeError: 'NoneType' object has no attribute '_House__ownershipCertification'\n"
     ]
    },
    {
     "name": "stdout",
     "output_type": "stream",
     "text": [
      "4\n"
     ]
    },
    {
     "name": "stderr",
     "output_type": "stream",
     "text": [
      "Exception ignored in: <function House.__del__ at 0x00000213575B1550>\n",
      "Traceback (most recent call last):\n",
      "  File \"<ipython-input-27-0e9bb8cdab4c>\", line 223, in __del__\n",
      "AttributeError: 'NoneType' object has no attribute '_House__ownershipCertification'\n"
     ]
    },
    {
     "name": "stdout",
     "output_type": "stream",
     "text": [
      "5\n"
     ]
    },
    {
     "name": "stderr",
     "output_type": "stream",
     "text": [
      "Exception ignored in: <function House.__del__ at 0x00000213575B1550>\n",
      "Traceback (most recent call last):\n",
      "  File \"<ipython-input-27-0e9bb8cdab4c>\", line 223, in __del__\n",
      "AttributeError: 'NoneType' object has no attribute '_House__ownershipCertification'\n"
     ]
    },
    {
     "name": "stdout",
     "output_type": "stream",
     "text": [
      "6\n"
     ]
    },
    {
     "name": "stderr",
     "output_type": "stream",
     "text": [
      "Exception ignored in: <function House.__del__ at 0x00000213575B1550>\n",
      "Traceback (most recent call last):\n",
      "  File \"<ipython-input-27-0e9bb8cdab4c>\", line 223, in __del__\n",
      "AttributeError: 'NoneType' object has no attribute '_House__ownershipCertification'\n"
     ]
    },
    {
     "name": "stdout",
     "output_type": "stream",
     "text": [
      "7\n"
     ]
    },
    {
     "name": "stderr",
     "output_type": "stream",
     "text": [
      "Exception ignored in: <function House.__del__ at 0x00000213575B1550>\n",
      "Traceback (most recent call last):\n",
      "  File \"<ipython-input-27-0e9bb8cdab4c>\", line 223, in __del__\n",
      "AttributeError: 'NoneType' object has no attribute '_House__ownershipCertification'\n"
     ]
    },
    {
     "name": "stdout",
     "output_type": "stream",
     "text": [
      "8\n"
     ]
    },
    {
     "name": "stderr",
     "output_type": "stream",
     "text": [
      "Exception ignored in: <function House.__del__ at 0x00000213575B1550>\n",
      "Traceback (most recent call last):\n",
      "  File \"<ipython-input-27-0e9bb8cdab4c>\", line 223, in __del__\n",
      "AttributeError: 'NoneType' object has no attribute '_House__ownershipCertification'\n"
     ]
    },
    {
     "name": "stdout",
     "output_type": "stream",
     "text": [
      "9\n"
     ]
    },
    {
     "name": "stderr",
     "output_type": "stream",
     "text": [
      "Exception ignored in: <function House.__del__ at 0x00000213575B1550>\n",
      "Traceback (most recent call last):\n",
      "  File \"<ipython-input-27-0e9bb8cdab4c>\", line 223, in __del__\n",
      "AttributeError: 'NoneType' object has no attribute '_House__ownershipCertification'\n"
     ]
    },
    {
     "name": "stdout",
     "output_type": "stream",
     "text": [
      "10\n"
     ]
    },
    {
     "name": "stderr",
     "output_type": "stream",
     "text": [
      "Exception ignored in: <function House.__del__ at 0x00000213575B1550>\n",
      "Traceback (most recent call last):\n",
      "  File \"<ipython-input-27-0e9bb8cdab4c>\", line 223, in __del__\n",
      "AttributeError: 'NoneType' object has no attribute '_House__ownershipCertification'\n"
     ]
    },
    {
     "name": "stdout",
     "output_type": "stream",
     "text": [
      "11\n"
     ]
    },
    {
     "name": "stderr",
     "output_type": "stream",
     "text": [
      "Exception ignored in: <function House.__del__ at 0x00000213575B1550>\n",
      "Traceback (most recent call last):\n",
      "  File \"<ipython-input-27-0e9bb8cdab4c>\", line 223, in __del__\n",
      "AttributeError: 'NoneType' object has no attribute '_House__ownershipCertification'\n"
     ]
    },
    {
     "name": "stdout",
     "output_type": "stream",
     "text": [
      "12\n"
     ]
    },
    {
     "name": "stderr",
     "output_type": "stream",
     "text": [
      "Exception ignored in: <function House.__del__ at 0x00000213575B1550>\n",
      "Traceback (most recent call last):\n",
      "  File \"<ipython-input-27-0e9bb8cdab4c>\", line 223, in __del__\n",
      "AttributeError: 'NoneType' object has no attribute '_House__ownershipCertification'\n"
     ]
    },
    {
     "name": "stdout",
     "output_type": "stream",
     "text": [
      "13\n"
     ]
    },
    {
     "name": "stderr",
     "output_type": "stream",
     "text": [
      "Exception ignored in: <function House.__del__ at 0x00000213575B1550>\n",
      "Traceback (most recent call last):\n",
      "  File \"<ipython-input-27-0e9bb8cdab4c>\", line 223, in __del__\n",
      "AttributeError: 'NoneType' object has no attribute '_House__ownershipCertification'\n"
     ]
    },
    {
     "name": "stdout",
     "output_type": "stream",
     "text": [
      "14\n"
     ]
    },
    {
     "name": "stderr",
     "output_type": "stream",
     "text": [
      "Exception ignored in: <function House.__del__ at 0x00000213575B1550>\n",
      "Traceback (most recent call last):\n",
      "  File \"<ipython-input-27-0e9bb8cdab4c>\", line 223, in __del__\n",
      "AttributeError: 'NoneType' object has no attribute '_House__ownershipCertification'\n"
     ]
    },
    {
     "name": "stdout",
     "output_type": "stream",
     "text": [
      "15\n"
     ]
    },
    {
     "name": "stderr",
     "output_type": "stream",
     "text": [
      "Exception ignored in: <function House.__del__ at 0x00000213575B1550>\n",
      "Traceback (most recent call last):\n",
      "  File \"<ipython-input-27-0e9bb8cdab4c>\", line 223, in __del__\n",
      "AttributeError: 'NoneType' object has no attribute '_House__ownershipCertification'\n"
     ]
    },
    {
     "name": "stdout",
     "output_type": "stream",
     "text": [
      "16\n"
     ]
    },
    {
     "name": "stderr",
     "output_type": "stream",
     "text": [
      "Exception ignored in: <function House.__del__ at 0x00000213575B1550>\n",
      "Traceback (most recent call last):\n",
      "  File \"<ipython-input-27-0e9bb8cdab4c>\", line 223, in __del__\n",
      "AttributeError: 'NoneType' object has no attribute '_House__ownershipCertification'\n"
     ]
    },
    {
     "name": "stdout",
     "output_type": "stream",
     "text": [
      "17\n"
     ]
    },
    {
     "name": "stderr",
     "output_type": "stream",
     "text": [
      "Exception ignored in: <function House.__del__ at 0x00000213575B1550>\n",
      "Traceback (most recent call last):\n",
      "  File \"<ipython-input-27-0e9bb8cdab4c>\", line 223, in __del__\n",
      "AttributeError: 'NoneType' object has no attribute '_House__ownershipCertification'\n"
     ]
    },
    {
     "name": "stdout",
     "output_type": "stream",
     "text": [
      "18\n"
     ]
    },
    {
     "name": "stderr",
     "output_type": "stream",
     "text": [
      "Exception ignored in: <function House.__del__ at 0x00000213575B1550>\n",
      "Traceback (most recent call last):\n",
      "  File \"<ipython-input-27-0e9bb8cdab4c>\", line 223, in __del__\n",
      "AttributeError: 'NoneType' object has no attribute '_House__ownershipCertification'\n"
     ]
    },
    {
     "name": "stdout",
     "output_type": "stream",
     "text": [
      "19\n"
     ]
    },
    {
     "name": "stderr",
     "output_type": "stream",
     "text": [
      "Exception ignored in: <function House.__del__ at 0x00000213575B1550>\n",
      "Traceback (most recent call last):\n",
      "  File \"<ipython-input-27-0e9bb8cdab4c>\", line 223, in __del__\n",
      "AttributeError: 'NoneType' object has no attribute '_House__ownershipCertification'\n"
     ]
    },
    {
     "name": "stdout",
     "output_type": "stream",
     "text": [
      "20\n",
      "514 \n",
      "\n"
     ]
    },
    {
     "name": "stderr",
     "output_type": "stream",
     "text": [
      "Exception ignored in: <function House.__del__ at 0x00000213575B1550>\n",
      "Traceback (most recent call last):\n",
      "  File \"<ipython-input-27-0e9bb8cdab4c>\", line 223, in __del__\n",
      "AttributeError: 'NoneType' object has no attribute '_House__ownershipCertification'\n"
     ]
    },
    {
     "name": "stdout",
     "output_type": "stream",
     "text": [
      "1\n"
     ]
    },
    {
     "name": "stderr",
     "output_type": "stream",
     "text": [
      "Exception ignored in: <function House.__del__ at 0x00000213575B1550>\n",
      "Traceback (most recent call last):\n",
      "  File \"<ipython-input-27-0e9bb8cdab4c>\", line 223, in __del__\n",
      "AttributeError: 'NoneType' object has no attribute '_House__ownershipCertification'\n"
     ]
    },
    {
     "name": "stdout",
     "output_type": "stream",
     "text": [
      "2\n"
     ]
    },
    {
     "name": "stderr",
     "output_type": "stream",
     "text": [
      "Exception ignored in: <function House.__del__ at 0x00000213575B1550>\n",
      "Traceback (most recent call last):\n",
      "  File \"<ipython-input-27-0e9bb8cdab4c>\", line 223, in __del__\n",
      "AttributeError: 'NoneType' object has no attribute '_House__ownershipCertification'\n"
     ]
    },
    {
     "name": "stdout",
     "output_type": "stream",
     "text": [
      "3\n"
     ]
    },
    {
     "name": "stderr",
     "output_type": "stream",
     "text": [
      "Exception ignored in: <function House.__del__ at 0x00000213575B1550>\n",
      "Traceback (most recent call last):\n",
      "  File \"<ipython-input-27-0e9bb8cdab4c>\", line 223, in __del__\n",
      "AttributeError: 'NoneType' object has no attribute '_House__ownershipCertification'\n"
     ]
    },
    {
     "name": "stdout",
     "output_type": "stream",
     "text": [
      "4\n"
     ]
    },
    {
     "name": "stderr",
     "output_type": "stream",
     "text": [
      "Exception ignored in: <function House.__del__ at 0x00000213575B1550>\n",
      "Traceback (most recent call last):\n",
      "  File \"<ipython-input-27-0e9bb8cdab4c>\", line 223, in __del__\n",
      "AttributeError: 'NoneType' object has no attribute '_House__ownershipCertification'\n"
     ]
    },
    {
     "name": "stdout",
     "output_type": "stream",
     "text": [
      "5\n"
     ]
    },
    {
     "name": "stderr",
     "output_type": "stream",
     "text": [
      "Exception ignored in: <function House.__del__ at 0x00000213575B1550>\n",
      "Traceback (most recent call last):\n",
      "  File \"<ipython-input-27-0e9bb8cdab4c>\", line 223, in __del__\n",
      "AttributeError: 'NoneType' object has no attribute '_House__ownershipCertification'\n"
     ]
    },
    {
     "name": "stdout",
     "output_type": "stream",
     "text": [
      "6\n"
     ]
    },
    {
     "name": "stderr",
     "output_type": "stream",
     "text": [
      "Exception ignored in: <function House.__del__ at 0x00000213575B1550>\n",
      "Traceback (most recent call last):\n",
      "  File \"<ipython-input-27-0e9bb8cdab4c>\", line 223, in __del__\n",
      "AttributeError: 'NoneType' object has no attribute '_House__ownershipCertification'\n"
     ]
    },
    {
     "name": "stdout",
     "output_type": "stream",
     "text": [
      "7\n"
     ]
    },
    {
     "name": "stderr",
     "output_type": "stream",
     "text": [
      "Exception ignored in: <function House.__del__ at 0x00000213575B1550>\n",
      "Traceback (most recent call last):\n",
      "  File \"<ipython-input-27-0e9bb8cdab4c>\", line 223, in __del__\n",
      "AttributeError: 'NoneType' object has no attribute '_House__ownershipCertification'\n"
     ]
    },
    {
     "name": "stdout",
     "output_type": "stream",
     "text": [
      "8\n"
     ]
    },
    {
     "name": "stderr",
     "output_type": "stream",
     "text": [
      "Exception ignored in: <function House.__del__ at 0x00000213575B1550>\n",
      "Traceback (most recent call last):\n",
      "  File \"<ipython-input-27-0e9bb8cdab4c>\", line 223, in __del__\n",
      "AttributeError: 'NoneType' object has no attribute '_House__ownershipCertification'\n"
     ]
    },
    {
     "name": "stdout",
     "output_type": "stream",
     "text": [
      "9\n"
     ]
    },
    {
     "name": "stderr",
     "output_type": "stream",
     "text": [
      "Exception ignored in: <function House.__del__ at 0x00000213575B1550>\n",
      "Traceback (most recent call last):\n",
      "  File \"<ipython-input-27-0e9bb8cdab4c>\", line 223, in __del__\n",
      "AttributeError: 'NoneType' object has no attribute '_House__ownershipCertification'\n"
     ]
    },
    {
     "name": "stdout",
     "output_type": "stream",
     "text": [
      "10\n"
     ]
    },
    {
     "name": "stderr",
     "output_type": "stream",
     "text": [
      "Exception ignored in: <function House.__del__ at 0x00000213575B1550>\n",
      "Traceback (most recent call last):\n",
      "  File \"<ipython-input-27-0e9bb8cdab4c>\", line 223, in __del__\n",
      "AttributeError: 'NoneType' object has no attribute '_House__ownershipCertification'\n"
     ]
    },
    {
     "name": "stdout",
     "output_type": "stream",
     "text": [
      "11\n"
     ]
    },
    {
     "name": "stderr",
     "output_type": "stream",
     "text": [
      "Exception ignored in: <function House.__del__ at 0x00000213575B1550>\n",
      "Traceback (most recent call last):\n",
      "  File \"<ipython-input-27-0e9bb8cdab4c>\", line 223, in __del__\n",
      "AttributeError: 'NoneType' object has no attribute '_House__ownershipCertification'\n"
     ]
    },
    {
     "name": "stdout",
     "output_type": "stream",
     "text": [
      "12\n"
     ]
    },
    {
     "name": "stderr",
     "output_type": "stream",
     "text": [
      "Exception ignored in: <function House.__del__ at 0x00000213575B1550>\n",
      "Traceback (most recent call last):\n",
      "  File \"<ipython-input-27-0e9bb8cdab4c>\", line 223, in __del__\n",
      "AttributeError: 'NoneType' object has no attribute '_House__ownershipCertification'\n"
     ]
    },
    {
     "name": "stdout",
     "output_type": "stream",
     "text": [
      "13\n"
     ]
    },
    {
     "name": "stderr",
     "output_type": "stream",
     "text": [
      "Exception ignored in: <function House.__del__ at 0x00000213575B1550>\n",
      "Traceback (most recent call last):\n",
      "  File \"<ipython-input-27-0e9bb8cdab4c>\", line 223, in __del__\n",
      "AttributeError: 'NoneType' object has no attribute '_House__ownershipCertification'\n"
     ]
    },
    {
     "name": "stdout",
     "output_type": "stream",
     "text": [
      "14\n"
     ]
    },
    {
     "name": "stderr",
     "output_type": "stream",
     "text": [
      "Exception ignored in: <function House.__del__ at 0x00000213575B1550>\n",
      "Traceback (most recent call last):\n",
      "  File \"<ipython-input-27-0e9bb8cdab4c>\", line 223, in __del__\n",
      "AttributeError: 'NoneType' object has no attribute '_House__ownershipCertification'\n"
     ]
    },
    {
     "name": "stdout",
     "output_type": "stream",
     "text": [
      "15\n"
     ]
    },
    {
     "name": "stderr",
     "output_type": "stream",
     "text": [
      "Exception ignored in: <function House.__del__ at 0x00000213575B1550>\n",
      "Traceback (most recent call last):\n",
      "  File \"<ipython-input-27-0e9bb8cdab4c>\", line 223, in __del__\n",
      "AttributeError: 'NoneType' object has no attribute '_House__ownershipCertification'\n"
     ]
    },
    {
     "name": "stdout",
     "output_type": "stream",
     "text": [
      "16\n"
     ]
    },
    {
     "name": "stderr",
     "output_type": "stream",
     "text": [
      "Exception ignored in: <function House.__del__ at 0x00000213575B1550>\n",
      "Traceback (most recent call last):\n",
      "  File \"<ipython-input-27-0e9bb8cdab4c>\", line 223, in __del__\n",
      "AttributeError: 'NoneType' object has no attribute '_House__ownershipCertification'\n"
     ]
    },
    {
     "name": "stdout",
     "output_type": "stream",
     "text": [
      "17\n"
     ]
    },
    {
     "name": "stderr",
     "output_type": "stream",
     "text": [
      "Exception ignored in: <function House.__del__ at 0x00000213575B1550>\n",
      "Traceback (most recent call last):\n",
      "  File \"<ipython-input-27-0e9bb8cdab4c>\", line 223, in __del__\n",
      "AttributeError: 'NoneType' object has no attribute '_House__ownershipCertification'\n"
     ]
    },
    {
     "name": "stdout",
     "output_type": "stream",
     "text": [
      "18\n"
     ]
    },
    {
     "name": "stderr",
     "output_type": "stream",
     "text": [
      "Exception ignored in: <function House.__del__ at 0x00000213575B1550>\n",
      "Traceback (most recent call last):\n",
      "  File \"<ipython-input-27-0e9bb8cdab4c>\", line 223, in __del__\n",
      "AttributeError: 'NoneType' object has no attribute '_House__ownershipCertification'\n"
     ]
    },
    {
     "name": "stdout",
     "output_type": "stream",
     "text": [
      "19\n"
     ]
    },
    {
     "name": "stderr",
     "output_type": "stream",
     "text": [
      "Exception ignored in: <function House.__del__ at 0x00000213575B1550>\n",
      "Traceback (most recent call last):\n",
      "  File \"<ipython-input-27-0e9bb8cdab4c>\", line 223, in __del__\n",
      "AttributeError: 'NoneType' object has no attribute '_House__ownershipCertification'\n"
     ]
    },
    {
     "name": "stdout",
     "output_type": "stream",
     "text": [
      "20\n",
      "515 \n",
      "\n"
     ]
    },
    {
     "name": "stderr",
     "output_type": "stream",
     "text": [
      "Exception ignored in: <function House.__del__ at 0x00000213575B1550>\n",
      "Traceback (most recent call last):\n",
      "  File \"<ipython-input-27-0e9bb8cdab4c>\", line 223, in __del__\n",
      "AttributeError: 'NoneType' object has no attribute '_House__ownershipCertification'\n"
     ]
    },
    {
     "name": "stdout",
     "output_type": "stream",
     "text": [
      "1\n"
     ]
    },
    {
     "name": "stderr",
     "output_type": "stream",
     "text": [
      "Exception ignored in: <function House.__del__ at 0x00000213575B1550>\n",
      "Traceback (most recent call last):\n",
      "  File \"<ipython-input-27-0e9bb8cdab4c>\", line 223, in __del__\n",
      "AttributeError: 'NoneType' object has no attribute '_House__ownershipCertification'\n"
     ]
    },
    {
     "name": "stdout",
     "output_type": "stream",
     "text": [
      "2\n"
     ]
    },
    {
     "name": "stderr",
     "output_type": "stream",
     "text": [
      "Exception ignored in: <function House.__del__ at 0x00000213575B1550>\n",
      "Traceback (most recent call last):\n",
      "  File \"<ipython-input-27-0e9bb8cdab4c>\", line 223, in __del__\n",
      "AttributeError: 'NoneType' object has no attribute '_House__ownershipCertification'\n"
     ]
    },
    {
     "name": "stdout",
     "output_type": "stream",
     "text": [
      "3\n"
     ]
    },
    {
     "name": "stderr",
     "output_type": "stream",
     "text": [
      "Exception ignored in: <function House.__del__ at 0x00000213575B1550>\n",
      "Traceback (most recent call last):\n",
      "  File \"<ipython-input-27-0e9bb8cdab4c>\", line 223, in __del__\n",
      "AttributeError: 'NoneType' object has no attribute '_House__ownershipCertification'\n"
     ]
    },
    {
     "name": "stdout",
     "output_type": "stream",
     "text": [
      "4\n"
     ]
    },
    {
     "name": "stderr",
     "output_type": "stream",
     "text": [
      "Exception ignored in: <function House.__del__ at 0x00000213575B1550>\n",
      "Traceback (most recent call last):\n",
      "  File \"<ipython-input-27-0e9bb8cdab4c>\", line 223, in __del__\n",
      "AttributeError: 'NoneType' object has no attribute '_House__ownershipCertification'\n"
     ]
    },
    {
     "name": "stdout",
     "output_type": "stream",
     "text": [
      "5\n"
     ]
    },
    {
     "name": "stderr",
     "output_type": "stream",
     "text": [
      "Exception ignored in: <function House.__del__ at 0x00000213575B1550>\n",
      "Traceback (most recent call last):\n",
      "  File \"<ipython-input-27-0e9bb8cdab4c>\", line 223, in __del__\n",
      "AttributeError: 'NoneType' object has no attribute '_House__ownershipCertification'\n"
     ]
    },
    {
     "name": "stdout",
     "output_type": "stream",
     "text": [
      "6\n"
     ]
    },
    {
     "name": "stderr",
     "output_type": "stream",
     "text": [
      "Exception ignored in: <function House.__del__ at 0x00000213575B1550>\n",
      "Traceback (most recent call last):\n",
      "  File \"<ipython-input-27-0e9bb8cdab4c>\", line 223, in __del__\n",
      "AttributeError: 'NoneType' object has no attribute '_House__ownershipCertification'\n"
     ]
    },
    {
     "name": "stdout",
     "output_type": "stream",
     "text": [
      "7\n"
     ]
    },
    {
     "name": "stderr",
     "output_type": "stream",
     "text": [
      "Exception ignored in: <function House.__del__ at 0x00000213575B1550>\n",
      "Traceback (most recent call last):\n",
      "  File \"<ipython-input-27-0e9bb8cdab4c>\", line 223, in __del__\n",
      "AttributeError: 'NoneType' object has no attribute '_House__ownershipCertification'\n"
     ]
    },
    {
     "name": "stdout",
     "output_type": "stream",
     "text": [
      "8\n"
     ]
    },
    {
     "name": "stderr",
     "output_type": "stream",
     "text": [
      "Exception ignored in: <function House.__del__ at 0x00000213575B1550>\n",
      "Traceback (most recent call last):\n",
      "  File \"<ipython-input-27-0e9bb8cdab4c>\", line 223, in __del__\n",
      "AttributeError: 'NoneType' object has no attribute '_House__ownershipCertification'\n"
     ]
    },
    {
     "name": "stdout",
     "output_type": "stream",
     "text": [
      "9\n"
     ]
    },
    {
     "name": "stderr",
     "output_type": "stream",
     "text": [
      "Exception ignored in: <function House.__del__ at 0x00000213575B1550>\n",
      "Traceback (most recent call last):\n",
      "  File \"<ipython-input-27-0e9bb8cdab4c>\", line 223, in __del__\n",
      "AttributeError: 'NoneType' object has no attribute '_House__ownershipCertification'\n"
     ]
    },
    {
     "name": "stdout",
     "output_type": "stream",
     "text": [
      "10\n"
     ]
    },
    {
     "name": "stderr",
     "output_type": "stream",
     "text": [
      "Exception ignored in: <function House.__del__ at 0x00000213575B1550>\n",
      "Traceback (most recent call last):\n",
      "  File \"<ipython-input-27-0e9bb8cdab4c>\", line 223, in __del__\n",
      "AttributeError: 'NoneType' object has no attribute '_House__ownershipCertification'\n"
     ]
    },
    {
     "name": "stdout",
     "output_type": "stream",
     "text": [
      "11\n"
     ]
    },
    {
     "name": "stderr",
     "output_type": "stream",
     "text": [
      "Exception ignored in: <function House.__del__ at 0x00000213575B1550>\n",
      "Traceback (most recent call last):\n",
      "  File \"<ipython-input-27-0e9bb8cdab4c>\", line 223, in __del__\n",
      "AttributeError: 'NoneType' object has no attribute '_House__ownershipCertification'\n"
     ]
    },
    {
     "name": "stdout",
     "output_type": "stream",
     "text": [
      "12\n"
     ]
    },
    {
     "name": "stderr",
     "output_type": "stream",
     "text": [
      "Exception ignored in: <function House.__del__ at 0x00000213575B1550>\n",
      "Traceback (most recent call last):\n",
      "  File \"<ipython-input-27-0e9bb8cdab4c>\", line 223, in __del__\n",
      "AttributeError: 'NoneType' object has no attribute '_House__ownershipCertification'\n"
     ]
    },
    {
     "name": "stdout",
     "output_type": "stream",
     "text": [
      "13\n"
     ]
    },
    {
     "name": "stderr",
     "output_type": "stream",
     "text": [
      "Exception ignored in: <function House.__del__ at 0x00000213575B1550>\n",
      "Traceback (most recent call last):\n",
      "  File \"<ipython-input-27-0e9bb8cdab4c>\", line 223, in __del__\n",
      "AttributeError: 'NoneType' object has no attribute '_House__ownershipCertification'\n"
     ]
    },
    {
     "name": "stdout",
     "output_type": "stream",
     "text": [
      "14\n"
     ]
    },
    {
     "name": "stderr",
     "output_type": "stream",
     "text": [
      "Exception ignored in: <function House.__del__ at 0x00000213575B1550>\n",
      "Traceback (most recent call last):\n",
      "  File \"<ipython-input-27-0e9bb8cdab4c>\", line 223, in __del__\n",
      "AttributeError: 'NoneType' object has no attribute '_House__ownershipCertification'\n"
     ]
    },
    {
     "name": "stdout",
     "output_type": "stream",
     "text": [
      "15\n"
     ]
    },
    {
     "name": "stderr",
     "output_type": "stream",
     "text": [
      "Exception ignored in: <function House.__del__ at 0x00000213575B1550>\n",
      "Traceback (most recent call last):\n",
      "  File \"<ipython-input-27-0e9bb8cdab4c>\", line 223, in __del__\n",
      "AttributeError: 'NoneType' object has no attribute '_House__ownershipCertification'\n"
     ]
    },
    {
     "name": "stdout",
     "output_type": "stream",
     "text": [
      "16\n"
     ]
    },
    {
     "name": "stderr",
     "output_type": "stream",
     "text": [
      "Exception ignored in: <function House.__del__ at 0x00000213575B1550>\n",
      "Traceback (most recent call last):\n",
      "  File \"<ipython-input-27-0e9bb8cdab4c>\", line 223, in __del__\n",
      "AttributeError: 'NoneType' object has no attribute '_House__ownershipCertification'\n"
     ]
    },
    {
     "name": "stdout",
     "output_type": "stream",
     "text": [
      "17\n"
     ]
    },
    {
     "name": "stderr",
     "output_type": "stream",
     "text": [
      "Exception ignored in: <function House.__del__ at 0x00000213575B1550>\n",
      "Traceback (most recent call last):\n",
      "  File \"<ipython-input-27-0e9bb8cdab4c>\", line 223, in __del__\n",
      "AttributeError: 'NoneType' object has no attribute '_House__ownershipCertification'\n"
     ]
    },
    {
     "name": "stdout",
     "output_type": "stream",
     "text": [
      "18\n"
     ]
    },
    {
     "name": "stderr",
     "output_type": "stream",
     "text": [
      "Exception ignored in: <function House.__del__ at 0x00000213575B1550>\n",
      "Traceback (most recent call last):\n",
      "  File \"<ipython-input-27-0e9bb8cdab4c>\", line 223, in __del__\n",
      "AttributeError: 'NoneType' object has no attribute '_House__ownershipCertification'\n"
     ]
    },
    {
     "name": "stdout",
     "output_type": "stream",
     "text": [
      "19\n"
     ]
    },
    {
     "name": "stderr",
     "output_type": "stream",
     "text": [
      "Exception ignored in: <function House.__del__ at 0x00000213575B1550>\n",
      "Traceback (most recent call last):\n",
      "  File \"<ipython-input-27-0e9bb8cdab4c>\", line 223, in __del__\n",
      "AttributeError: 'NoneType' object has no attribute '_House__ownershipCertification'\n"
     ]
    },
    {
     "name": "stdout",
     "output_type": "stream",
     "text": [
      "20\n",
      "516 \n",
      "\n"
     ]
    },
    {
     "name": "stderr",
     "output_type": "stream",
     "text": [
      "Exception ignored in: <function House.__del__ at 0x00000213575B1550>\n",
      "Traceback (most recent call last):\n",
      "  File \"<ipython-input-27-0e9bb8cdab4c>\", line 223, in __del__\n",
      "AttributeError: 'NoneType' object has no attribute '_House__ownershipCertification'\n"
     ]
    },
    {
     "name": "stdout",
     "output_type": "stream",
     "text": [
      "1\n"
     ]
    },
    {
     "name": "stderr",
     "output_type": "stream",
     "text": [
      "Exception ignored in: <function House.__del__ at 0x00000213575B1550>\n",
      "Traceback (most recent call last):\n",
      "  File \"<ipython-input-27-0e9bb8cdab4c>\", line 223, in __del__\n",
      "AttributeError: 'NoneType' object has no attribute '_House__ownershipCertification'\n"
     ]
    },
    {
     "name": "stdout",
     "output_type": "stream",
     "text": [
      "2\n"
     ]
    },
    {
     "name": "stderr",
     "output_type": "stream",
     "text": [
      "Exception ignored in: <function House.__del__ at 0x00000213575B1550>\n",
      "Traceback (most recent call last):\n",
      "  File \"<ipython-input-27-0e9bb8cdab4c>\", line 223, in __del__\n",
      "AttributeError: 'NoneType' object has no attribute '_House__ownershipCertification'\n"
     ]
    },
    {
     "name": "stdout",
     "output_type": "stream",
     "text": [
      "3\n"
     ]
    },
    {
     "name": "stderr",
     "output_type": "stream",
     "text": [
      "Exception ignored in: <function House.__del__ at 0x00000213575B1550>\n",
      "Traceback (most recent call last):\n",
      "  File \"<ipython-input-27-0e9bb8cdab4c>\", line 223, in __del__\n",
      "AttributeError: 'NoneType' object has no attribute '_House__ownershipCertification'\n"
     ]
    },
    {
     "name": "stdout",
     "output_type": "stream",
     "text": [
      "4\n"
     ]
    },
    {
     "name": "stderr",
     "output_type": "stream",
     "text": [
      "Exception ignored in: <function House.__del__ at 0x00000213575B1550>\n",
      "Traceback (most recent call last):\n",
      "  File \"<ipython-input-27-0e9bb8cdab4c>\", line 223, in __del__\n",
      "AttributeError: 'NoneType' object has no attribute '_House__ownershipCertification'\n"
     ]
    },
    {
     "name": "stdout",
     "output_type": "stream",
     "text": [
      "5\n"
     ]
    },
    {
     "name": "stderr",
     "output_type": "stream",
     "text": [
      "Exception ignored in: <function House.__del__ at 0x00000213575B1550>\n",
      "Traceback (most recent call last):\n",
      "  File \"<ipython-input-27-0e9bb8cdab4c>\", line 223, in __del__\n",
      "AttributeError: 'NoneType' object has no attribute '_House__ownershipCertification'\n"
     ]
    },
    {
     "name": "stdout",
     "output_type": "stream",
     "text": [
      "6\n"
     ]
    },
    {
     "name": "stderr",
     "output_type": "stream",
     "text": [
      "Exception ignored in: <function House.__del__ at 0x00000213575B1550>\n",
      "Traceback (most recent call last):\n",
      "  File \"<ipython-input-27-0e9bb8cdab4c>\", line 223, in __del__\n",
      "AttributeError: 'NoneType' object has no attribute '_House__ownershipCertification'\n"
     ]
    },
    {
     "name": "stdout",
     "output_type": "stream",
     "text": [
      "7\n"
     ]
    },
    {
     "name": "stderr",
     "output_type": "stream",
     "text": [
      "Exception ignored in: <function House.__del__ at 0x00000213575B1550>\n",
      "Traceback (most recent call last):\n",
      "  File \"<ipython-input-27-0e9bb8cdab4c>\", line 223, in __del__\n",
      "AttributeError: 'NoneType' object has no attribute '_House__ownershipCertification'\n"
     ]
    },
    {
     "name": "stdout",
     "output_type": "stream",
     "text": [
      "8\n"
     ]
    },
    {
     "name": "stderr",
     "output_type": "stream",
     "text": [
      "Exception ignored in: <function House.__del__ at 0x00000213575B1550>\n",
      "Traceback (most recent call last):\n",
      "  File \"<ipython-input-27-0e9bb8cdab4c>\", line 223, in __del__\n",
      "AttributeError: 'NoneType' object has no attribute '_House__ownershipCertification'\n"
     ]
    },
    {
     "name": "stdout",
     "output_type": "stream",
     "text": [
      "9\n"
     ]
    },
    {
     "name": "stderr",
     "output_type": "stream",
     "text": [
      "Exception ignored in: <function House.__del__ at 0x00000213575B1550>\n",
      "Traceback (most recent call last):\n",
      "  File \"<ipython-input-27-0e9bb8cdab4c>\", line 223, in __del__\n",
      "AttributeError: 'NoneType' object has no attribute '_House__ownershipCertification'\n"
     ]
    },
    {
     "name": "stdout",
     "output_type": "stream",
     "text": [
      "10\n"
     ]
    },
    {
     "name": "stderr",
     "output_type": "stream",
     "text": [
      "Exception ignored in: <function House.__del__ at 0x00000213575B1550>\n",
      "Traceback (most recent call last):\n",
      "  File \"<ipython-input-27-0e9bb8cdab4c>\", line 223, in __del__\n",
      "AttributeError: 'NoneType' object has no attribute '_House__ownershipCertification'\n"
     ]
    },
    {
     "name": "stdout",
     "output_type": "stream",
     "text": [
      "11\n"
     ]
    },
    {
     "name": "stderr",
     "output_type": "stream",
     "text": [
      "Exception ignored in: <function House.__del__ at 0x00000213575B1550>\n",
      "Traceback (most recent call last):\n",
      "  File \"<ipython-input-27-0e9bb8cdab4c>\", line 223, in __del__\n",
      "AttributeError: 'NoneType' object has no attribute '_House__ownershipCertification'\n"
     ]
    },
    {
     "name": "stdout",
     "output_type": "stream",
     "text": [
      "12\n"
     ]
    },
    {
     "name": "stderr",
     "output_type": "stream",
     "text": [
      "Exception ignored in: <function House.__del__ at 0x00000213575B1550>\n",
      "Traceback (most recent call last):\n",
      "  File \"<ipython-input-27-0e9bb8cdab4c>\", line 223, in __del__\n",
      "AttributeError: 'NoneType' object has no attribute '_House__ownershipCertification'\n"
     ]
    },
    {
     "name": "stdout",
     "output_type": "stream",
     "text": [
      "13\n"
     ]
    },
    {
     "name": "stderr",
     "output_type": "stream",
     "text": [
      "Exception ignored in: <function House.__del__ at 0x00000213575B1550>\n",
      "Traceback (most recent call last):\n",
      "  File \"<ipython-input-27-0e9bb8cdab4c>\", line 223, in __del__\n",
      "AttributeError: 'NoneType' object has no attribute '_House__ownershipCertification'\n"
     ]
    },
    {
     "name": "stdout",
     "output_type": "stream",
     "text": [
      "14\n"
     ]
    },
    {
     "name": "stderr",
     "output_type": "stream",
     "text": [
      "Exception ignored in: <function House.__del__ at 0x00000213575B1550>\n",
      "Traceback (most recent call last):\n",
      "  File \"<ipython-input-27-0e9bb8cdab4c>\", line 223, in __del__\n",
      "AttributeError: 'NoneType' object has no attribute '_House__ownershipCertification'\n"
     ]
    },
    {
     "name": "stdout",
     "output_type": "stream",
     "text": [
      "15\n"
     ]
    },
    {
     "name": "stderr",
     "output_type": "stream",
     "text": [
      "Exception ignored in: <function House.__del__ at 0x00000213575B1550>\n",
      "Traceback (most recent call last):\n",
      "  File \"<ipython-input-27-0e9bb8cdab4c>\", line 223, in __del__\n",
      "AttributeError: 'NoneType' object has no attribute '_House__ownershipCertification'\n"
     ]
    },
    {
     "name": "stdout",
     "output_type": "stream",
     "text": [
      "16\n"
     ]
    },
    {
     "name": "stderr",
     "output_type": "stream",
     "text": [
      "Exception ignored in: <function House.__del__ at 0x00000213575B1550>\n",
      "Traceback (most recent call last):\n",
      "  File \"<ipython-input-27-0e9bb8cdab4c>\", line 223, in __del__\n",
      "AttributeError: 'NoneType' object has no attribute '_House__ownershipCertification'\n"
     ]
    },
    {
     "name": "stdout",
     "output_type": "stream",
     "text": [
      "17\n"
     ]
    },
    {
     "name": "stderr",
     "output_type": "stream",
     "text": [
      "Exception ignored in: <function House.__del__ at 0x00000213575B1550>\n",
      "Traceback (most recent call last):\n",
      "  File \"<ipython-input-27-0e9bb8cdab4c>\", line 223, in __del__\n",
      "AttributeError: 'NoneType' object has no attribute '_House__ownershipCertification'\n"
     ]
    },
    {
     "name": "stdout",
     "output_type": "stream",
     "text": [
      "18\n"
     ]
    },
    {
     "name": "stderr",
     "output_type": "stream",
     "text": [
      "Exception ignored in: <function House.__del__ at 0x00000213575B1550>\n",
      "Traceback (most recent call last):\n",
      "  File \"<ipython-input-27-0e9bb8cdab4c>\", line 223, in __del__\n",
      "AttributeError: 'NoneType' object has no attribute '_House__ownershipCertification'\n"
     ]
    },
    {
     "name": "stdout",
     "output_type": "stream",
     "text": [
      "19\n"
     ]
    },
    {
     "name": "stderr",
     "output_type": "stream",
     "text": [
      "Exception ignored in: <function House.__del__ at 0x00000213575B1550>\n",
      "Traceback (most recent call last):\n",
      "  File \"<ipython-input-27-0e9bb8cdab4c>\", line 223, in __del__\n",
      "AttributeError: 'NoneType' object has no attribute '_House__ownershipCertification'\n"
     ]
    },
    {
     "name": "stdout",
     "output_type": "stream",
     "text": [
      "20\n",
      "517 \n",
      "\n"
     ]
    },
    {
     "name": "stderr",
     "output_type": "stream",
     "text": [
      "Exception ignored in: <function House.__del__ at 0x00000213575B1550>\n",
      "Traceback (most recent call last):\n",
      "  File \"<ipython-input-27-0e9bb8cdab4c>\", line 223, in __del__\n",
      "AttributeError: 'NoneType' object has no attribute '_House__ownershipCertification'\n"
     ]
    },
    {
     "name": "stdout",
     "output_type": "stream",
     "text": [
      "1\n"
     ]
    },
    {
     "name": "stderr",
     "output_type": "stream",
     "text": [
      "Exception ignored in: <function House.__del__ at 0x00000213575B1550>\n",
      "Traceback (most recent call last):\n",
      "  File \"<ipython-input-27-0e9bb8cdab4c>\", line 223, in __del__\n",
      "AttributeError: 'NoneType' object has no attribute '_House__ownershipCertification'\n"
     ]
    },
    {
     "name": "stdout",
     "output_type": "stream",
     "text": [
      "2\n"
     ]
    },
    {
     "name": "stderr",
     "output_type": "stream",
     "text": [
      "Exception ignored in: <function House.__del__ at 0x00000213575B1550>\n",
      "Traceback (most recent call last):\n",
      "  File \"<ipython-input-27-0e9bb8cdab4c>\", line 223, in __del__\n",
      "AttributeError: 'NoneType' object has no attribute '_House__ownershipCertification'\n"
     ]
    },
    {
     "name": "stdout",
     "output_type": "stream",
     "text": [
      "3\n"
     ]
    },
    {
     "name": "stderr",
     "output_type": "stream",
     "text": [
      "Exception ignored in: <function House.__del__ at 0x00000213575B1550>\n",
      "Traceback (most recent call last):\n",
      "  File \"<ipython-input-27-0e9bb8cdab4c>\", line 223, in __del__\n",
      "AttributeError: 'NoneType' object has no attribute '_House__ownershipCertification'\n"
     ]
    },
    {
     "name": "stdout",
     "output_type": "stream",
     "text": [
      "4\n"
     ]
    },
    {
     "name": "stderr",
     "output_type": "stream",
     "text": [
      "Exception ignored in: <function House.__del__ at 0x00000213575B1550>\n",
      "Traceback (most recent call last):\n",
      "  File \"<ipython-input-27-0e9bb8cdab4c>\", line 223, in __del__\n",
      "AttributeError: 'NoneType' object has no attribute '_House__ownershipCertification'\n"
     ]
    },
    {
     "name": "stdout",
     "output_type": "stream",
     "text": [
      "5\n"
     ]
    },
    {
     "name": "stderr",
     "output_type": "stream",
     "text": [
      "Exception ignored in: <function House.__del__ at 0x00000213575B1550>\n",
      "Traceback (most recent call last):\n",
      "  File \"<ipython-input-27-0e9bb8cdab4c>\", line 223, in __del__\n",
      "AttributeError: 'NoneType' object has no attribute '_House__ownershipCertification'\n"
     ]
    },
    {
     "name": "stdout",
     "output_type": "stream",
     "text": [
      "6\n"
     ]
    },
    {
     "name": "stderr",
     "output_type": "stream",
     "text": [
      "Exception ignored in: <function House.__del__ at 0x00000213575B1550>\n",
      "Traceback (most recent call last):\n",
      "  File \"<ipython-input-27-0e9bb8cdab4c>\", line 223, in __del__\n",
      "AttributeError: 'NoneType' object has no attribute '_House__ownershipCertification'\n"
     ]
    },
    {
     "name": "stdout",
     "output_type": "stream",
     "text": [
      "7\n"
     ]
    },
    {
     "name": "stderr",
     "output_type": "stream",
     "text": [
      "Exception ignored in: <function House.__del__ at 0x00000213575B1550>\n",
      "Traceback (most recent call last):\n",
      "  File \"<ipython-input-27-0e9bb8cdab4c>\", line 223, in __del__\n",
      "AttributeError: 'NoneType' object has no attribute '_House__ownershipCertification'\n"
     ]
    },
    {
     "name": "stdout",
     "output_type": "stream",
     "text": [
      "8\n"
     ]
    },
    {
     "name": "stderr",
     "output_type": "stream",
     "text": [
      "Exception ignored in: <function House.__del__ at 0x00000213575B1550>\n",
      "Traceback (most recent call last):\n",
      "  File \"<ipython-input-27-0e9bb8cdab4c>\", line 223, in __del__\n",
      "AttributeError: 'NoneType' object has no attribute '_House__ownershipCertification'\n"
     ]
    },
    {
     "name": "stdout",
     "output_type": "stream",
     "text": [
      "9\n"
     ]
    },
    {
     "name": "stderr",
     "output_type": "stream",
     "text": [
      "Exception ignored in: <function House.__del__ at 0x00000213575B1550>\n",
      "Traceback (most recent call last):\n",
      "  File \"<ipython-input-27-0e9bb8cdab4c>\", line 223, in __del__\n",
      "AttributeError: 'NoneType' object has no attribute '_House__ownershipCertification'\n"
     ]
    },
    {
     "name": "stdout",
     "output_type": "stream",
     "text": [
      "10\n"
     ]
    },
    {
     "name": "stderr",
     "output_type": "stream",
     "text": [
      "Exception ignored in: <function House.__del__ at 0x00000213575B1550>\n",
      "Traceback (most recent call last):\n",
      "  File \"<ipython-input-27-0e9bb8cdab4c>\", line 223, in __del__\n",
      "AttributeError: 'NoneType' object has no attribute '_House__ownershipCertification'\n"
     ]
    },
    {
     "name": "stdout",
     "output_type": "stream",
     "text": [
      "11\n"
     ]
    },
    {
     "name": "stderr",
     "output_type": "stream",
     "text": [
      "Exception ignored in: <function House.__del__ at 0x00000213575B1550>\n",
      "Traceback (most recent call last):\n",
      "  File \"<ipython-input-27-0e9bb8cdab4c>\", line 223, in __del__\n",
      "AttributeError: 'NoneType' object has no attribute '_House__ownershipCertification'\n"
     ]
    },
    {
     "name": "stdout",
     "output_type": "stream",
     "text": [
      "12\n"
     ]
    },
    {
     "name": "stderr",
     "output_type": "stream",
     "text": [
      "Exception ignored in: <function House.__del__ at 0x00000213575B1550>\n",
      "Traceback (most recent call last):\n",
      "  File \"<ipython-input-27-0e9bb8cdab4c>\", line 223, in __del__\n",
      "AttributeError: 'NoneType' object has no attribute '_House__ownershipCertification'\n"
     ]
    },
    {
     "name": "stdout",
     "output_type": "stream",
     "text": [
      "13\n"
     ]
    },
    {
     "name": "stderr",
     "output_type": "stream",
     "text": [
      "Exception ignored in: <function House.__del__ at 0x00000213575B1550>\n",
      "Traceback (most recent call last):\n",
      "  File \"<ipython-input-27-0e9bb8cdab4c>\", line 223, in __del__\n",
      "AttributeError: 'NoneType' object has no attribute '_House__ownershipCertification'\n"
     ]
    },
    {
     "name": "stdout",
     "output_type": "stream",
     "text": [
      "14\n"
     ]
    },
    {
     "name": "stderr",
     "output_type": "stream",
     "text": [
      "Exception ignored in: <function House.__del__ at 0x00000213575B1550>\n",
      "Traceback (most recent call last):\n",
      "  File \"<ipython-input-27-0e9bb8cdab4c>\", line 223, in __del__\n",
      "AttributeError: 'NoneType' object has no attribute '_House__ownershipCertification'\n"
     ]
    },
    {
     "name": "stdout",
     "output_type": "stream",
     "text": [
      "15\n"
     ]
    },
    {
     "name": "stderr",
     "output_type": "stream",
     "text": [
      "Exception ignored in: <function House.__del__ at 0x00000213575B1550>\n",
      "Traceback (most recent call last):\n",
      "  File \"<ipython-input-27-0e9bb8cdab4c>\", line 223, in __del__\n",
      "AttributeError: 'NoneType' object has no attribute '_House__ownershipCertification'\n"
     ]
    },
    {
     "name": "stdout",
     "output_type": "stream",
     "text": [
      "16\n"
     ]
    },
    {
     "name": "stderr",
     "output_type": "stream",
     "text": [
      "Exception ignored in: <function House.__del__ at 0x00000213575B1550>\n",
      "Traceback (most recent call last):\n",
      "  File \"<ipython-input-27-0e9bb8cdab4c>\", line 223, in __del__\n",
      "AttributeError: 'NoneType' object has no attribute '_House__ownershipCertification'\n"
     ]
    },
    {
     "name": "stdout",
     "output_type": "stream",
     "text": [
      "17\n"
     ]
    },
    {
     "name": "stderr",
     "output_type": "stream",
     "text": [
      "Exception ignored in: <function House.__del__ at 0x00000213575B1550>\n",
      "Traceback (most recent call last):\n",
      "  File \"<ipython-input-27-0e9bb8cdab4c>\", line 223, in __del__\n",
      "AttributeError: 'NoneType' object has no attribute '_House__ownershipCertification'\n"
     ]
    },
    {
     "name": "stdout",
     "output_type": "stream",
     "text": [
      "18\n"
     ]
    },
    {
     "name": "stderr",
     "output_type": "stream",
     "text": [
      "Exception ignored in: <function House.__del__ at 0x00000213575B1550>\n",
      "Traceback (most recent call last):\n",
      "  File \"<ipython-input-27-0e9bb8cdab4c>\", line 223, in __del__\n",
      "AttributeError: 'NoneType' object has no attribute '_House__ownershipCertification'\n"
     ]
    },
    {
     "name": "stdout",
     "output_type": "stream",
     "text": [
      "19\n"
     ]
    },
    {
     "name": "stderr",
     "output_type": "stream",
     "text": [
      "Exception ignored in: <function House.__del__ at 0x00000213575B1550>\n",
      "Traceback (most recent call last):\n",
      "  File \"<ipython-input-27-0e9bb8cdab4c>\", line 223, in __del__\n",
      "AttributeError: 'NoneType' object has no attribute '_House__ownershipCertification'\n"
     ]
    },
    {
     "name": "stdout",
     "output_type": "stream",
     "text": [
      "20\n",
      "518 \n",
      "\n"
     ]
    },
    {
     "name": "stderr",
     "output_type": "stream",
     "text": [
      "Exception ignored in: <function House.__del__ at 0x00000213575B1550>\n",
      "Traceback (most recent call last):\n",
      "  File \"<ipython-input-27-0e9bb8cdab4c>\", line 223, in __del__\n",
      "AttributeError: 'NoneType' object has no attribute '_House__ownershipCertification'\n"
     ]
    },
    {
     "name": "stdout",
     "output_type": "stream",
     "text": [
      "1\n"
     ]
    },
    {
     "name": "stderr",
     "output_type": "stream",
     "text": [
      "Exception ignored in: <function House.__del__ at 0x00000213575B1550>\n",
      "Traceback (most recent call last):\n",
      "  File \"<ipython-input-27-0e9bb8cdab4c>\", line 223, in __del__\n",
      "AttributeError: 'NoneType' object has no attribute '_House__ownershipCertification'\n"
     ]
    },
    {
     "name": "stdout",
     "output_type": "stream",
     "text": [
      "2\n"
     ]
    },
    {
     "name": "stderr",
     "output_type": "stream",
     "text": [
      "Exception ignored in: <function House.__del__ at 0x00000213575B1550>\n",
      "Traceback (most recent call last):\n",
      "  File \"<ipython-input-27-0e9bb8cdab4c>\", line 223, in __del__\n",
      "AttributeError: 'NoneType' object has no attribute '_House__ownershipCertification'\n"
     ]
    },
    {
     "name": "stdout",
     "output_type": "stream",
     "text": [
      "3\n"
     ]
    },
    {
     "name": "stderr",
     "output_type": "stream",
     "text": [
      "Exception ignored in: <function House.__del__ at 0x00000213575B1550>\n",
      "Traceback (most recent call last):\n",
      "  File \"<ipython-input-27-0e9bb8cdab4c>\", line 223, in __del__\n",
      "AttributeError: 'NoneType' object has no attribute '_House__ownershipCertification'\n"
     ]
    },
    {
     "name": "stdout",
     "output_type": "stream",
     "text": [
      "4\n"
     ]
    },
    {
     "name": "stderr",
     "output_type": "stream",
     "text": [
      "Exception ignored in: <function House.__del__ at 0x00000213575B1550>\n",
      "Traceback (most recent call last):\n",
      "  File \"<ipython-input-27-0e9bb8cdab4c>\", line 223, in __del__\n",
      "AttributeError: 'NoneType' object has no attribute '_House__ownershipCertification'\n"
     ]
    },
    {
     "name": "stdout",
     "output_type": "stream",
     "text": [
      "5\n"
     ]
    },
    {
     "name": "stderr",
     "output_type": "stream",
     "text": [
      "Exception ignored in: <function House.__del__ at 0x00000213575B1550>\n",
      "Traceback (most recent call last):\n",
      "  File \"<ipython-input-27-0e9bb8cdab4c>\", line 223, in __del__\n",
      "AttributeError: 'NoneType' object has no attribute '_House__ownershipCertification'\n"
     ]
    },
    {
     "name": "stdout",
     "output_type": "stream",
     "text": [
      "6\n"
     ]
    },
    {
     "name": "stderr",
     "output_type": "stream",
     "text": [
      "Exception ignored in: <function House.__del__ at 0x00000213575B1550>\n",
      "Traceback (most recent call last):\n",
      "  File \"<ipython-input-27-0e9bb8cdab4c>\", line 223, in __del__\n",
      "AttributeError: 'NoneType' object has no attribute '_House__ownershipCertification'\n"
     ]
    },
    {
     "name": "stdout",
     "output_type": "stream",
     "text": [
      "7\n"
     ]
    },
    {
     "name": "stderr",
     "output_type": "stream",
     "text": [
      "Exception ignored in: <function House.__del__ at 0x00000213575B1550>\n",
      "Traceback (most recent call last):\n",
      "  File \"<ipython-input-27-0e9bb8cdab4c>\", line 223, in __del__\n",
      "AttributeError: 'NoneType' object has no attribute '_House__ownershipCertification'\n"
     ]
    },
    {
     "name": "stdout",
     "output_type": "stream",
     "text": [
      "8\n"
     ]
    },
    {
     "name": "stderr",
     "output_type": "stream",
     "text": [
      "Exception ignored in: <function House.__del__ at 0x00000213575B1550>\n",
      "Traceback (most recent call last):\n",
      "  File \"<ipython-input-27-0e9bb8cdab4c>\", line 223, in __del__\n",
      "AttributeError: 'NoneType' object has no attribute '_House__ownershipCertification'\n"
     ]
    },
    {
     "name": "stdout",
     "output_type": "stream",
     "text": [
      "9\n"
     ]
    },
    {
     "name": "stderr",
     "output_type": "stream",
     "text": [
      "Exception ignored in: <function House.__del__ at 0x00000213575B1550>\n",
      "Traceback (most recent call last):\n",
      "  File \"<ipython-input-27-0e9bb8cdab4c>\", line 223, in __del__\n",
      "AttributeError: 'NoneType' object has no attribute '_House__ownershipCertification'\n"
     ]
    },
    {
     "name": "stdout",
     "output_type": "stream",
     "text": [
      "10\n"
     ]
    },
    {
     "name": "stderr",
     "output_type": "stream",
     "text": [
      "Exception ignored in: <function House.__del__ at 0x00000213575B1550>\n",
      "Traceback (most recent call last):\n",
      "  File \"<ipython-input-27-0e9bb8cdab4c>\", line 223, in __del__\n",
      "AttributeError: 'NoneType' object has no attribute '_House__ownershipCertification'\n"
     ]
    },
    {
     "name": "stdout",
     "output_type": "stream",
     "text": [
      "11\n"
     ]
    },
    {
     "name": "stderr",
     "output_type": "stream",
     "text": [
      "Exception ignored in: <function House.__del__ at 0x00000213575B1550>\n",
      "Traceback (most recent call last):\n",
      "  File \"<ipython-input-27-0e9bb8cdab4c>\", line 223, in __del__\n",
      "AttributeError: 'NoneType' object has no attribute '_House__ownershipCertification'\n"
     ]
    },
    {
     "name": "stdout",
     "output_type": "stream",
     "text": [
      "12\n"
     ]
    },
    {
     "name": "stderr",
     "output_type": "stream",
     "text": [
      "Exception ignored in: <function House.__del__ at 0x00000213575B1550>\n",
      "Traceback (most recent call last):\n",
      "  File \"<ipython-input-27-0e9bb8cdab4c>\", line 223, in __del__\n",
      "AttributeError: 'NoneType' object has no attribute '_House__ownershipCertification'\n"
     ]
    },
    {
     "name": "stdout",
     "output_type": "stream",
     "text": [
      "13\n"
     ]
    },
    {
     "name": "stderr",
     "output_type": "stream",
     "text": [
      "Exception ignored in: <function House.__del__ at 0x00000213575B1550>\n",
      "Traceback (most recent call last):\n",
      "  File \"<ipython-input-27-0e9bb8cdab4c>\", line 223, in __del__\n",
      "AttributeError: 'NoneType' object has no attribute '_House__ownershipCertification'\n"
     ]
    },
    {
     "name": "stdout",
     "output_type": "stream",
     "text": [
      "14\n"
     ]
    },
    {
     "name": "stderr",
     "output_type": "stream",
     "text": [
      "Exception ignored in: <function House.__del__ at 0x00000213575B1550>\n",
      "Traceback (most recent call last):\n",
      "  File \"<ipython-input-27-0e9bb8cdab4c>\", line 223, in __del__\n",
      "AttributeError: 'NoneType' object has no attribute '_House__ownershipCertification'\n"
     ]
    },
    {
     "name": "stdout",
     "output_type": "stream",
     "text": [
      "15\n"
     ]
    },
    {
     "name": "stderr",
     "output_type": "stream",
     "text": [
      "Exception ignored in: <function House.__del__ at 0x00000213575B1550>\n",
      "Traceback (most recent call last):\n",
      "  File \"<ipython-input-27-0e9bb8cdab4c>\", line 223, in __del__\n",
      "AttributeError: 'NoneType' object has no attribute '_House__ownershipCertification'\n"
     ]
    },
    {
     "name": "stdout",
     "output_type": "stream",
     "text": [
      "16\n"
     ]
    },
    {
     "name": "stderr",
     "output_type": "stream",
     "text": [
      "Exception ignored in: <function House.__del__ at 0x00000213575B1550>\n",
      "Traceback (most recent call last):\n",
      "  File \"<ipython-input-27-0e9bb8cdab4c>\", line 223, in __del__\n",
      "AttributeError: 'NoneType' object has no attribute '_House__ownershipCertification'\n"
     ]
    },
    {
     "name": "stdout",
     "output_type": "stream",
     "text": [
      "17\n"
     ]
    },
    {
     "name": "stderr",
     "output_type": "stream",
     "text": [
      "Exception ignored in: <function House.__del__ at 0x00000213575B1550>\n",
      "Traceback (most recent call last):\n",
      "  File \"<ipython-input-27-0e9bb8cdab4c>\", line 223, in __del__\n",
      "AttributeError: 'NoneType' object has no attribute '_House__ownershipCertification'\n"
     ]
    },
    {
     "name": "stdout",
     "output_type": "stream",
     "text": [
      "18\n"
     ]
    },
    {
     "name": "stderr",
     "output_type": "stream",
     "text": [
      "Exception ignored in: <function House.__del__ at 0x00000213575B1550>\n",
      "Traceback (most recent call last):\n",
      "  File \"<ipython-input-27-0e9bb8cdab4c>\", line 223, in __del__\n",
      "AttributeError: 'NoneType' object has no attribute '_House__ownershipCertification'\n"
     ]
    },
    {
     "name": "stdout",
     "output_type": "stream",
     "text": [
      "19\n"
     ]
    },
    {
     "name": "stderr",
     "output_type": "stream",
     "text": [
      "Exception ignored in: <function House.__del__ at 0x00000213575B1550>\n",
      "Traceback (most recent call last):\n",
      "  File \"<ipython-input-27-0e9bb8cdab4c>\", line 223, in __del__\n",
      "AttributeError: 'NoneType' object has no attribute '_House__ownershipCertification'\n"
     ]
    },
    {
     "name": "stdout",
     "output_type": "stream",
     "text": [
      "20\n",
      "519 \n",
      "\n"
     ]
    },
    {
     "name": "stderr",
     "output_type": "stream",
     "text": [
      "Exception ignored in: <function House.__del__ at 0x00000213575B1550>\n",
      "Traceback (most recent call last):\n",
      "  File \"<ipython-input-27-0e9bb8cdab4c>\", line 223, in __del__\n",
      "AttributeError: 'NoneType' object has no attribute '_House__ownershipCertification'\n"
     ]
    },
    {
     "name": "stdout",
     "output_type": "stream",
     "text": [
      "1\n"
     ]
    },
    {
     "name": "stderr",
     "output_type": "stream",
     "text": [
      "Exception ignored in: <function House.__del__ at 0x00000213575B1550>\n",
      "Traceback (most recent call last):\n",
      "  File \"<ipython-input-27-0e9bb8cdab4c>\", line 223, in __del__\n",
      "AttributeError: 'NoneType' object has no attribute '_House__ownershipCertification'\n"
     ]
    },
    {
     "name": "stdout",
     "output_type": "stream",
     "text": [
      "2\n"
     ]
    },
    {
     "name": "stderr",
     "output_type": "stream",
     "text": [
      "Exception ignored in: <function House.__del__ at 0x00000213575B1550>\n",
      "Traceback (most recent call last):\n",
      "  File \"<ipython-input-27-0e9bb8cdab4c>\", line 223, in __del__\n",
      "AttributeError: 'NoneType' object has no attribute '_House__ownershipCertification'\n"
     ]
    },
    {
     "name": "stdout",
     "output_type": "stream",
     "text": [
      "3\n"
     ]
    },
    {
     "name": "stderr",
     "output_type": "stream",
     "text": [
      "Exception ignored in: <function House.__del__ at 0x00000213575B1550>\n",
      "Traceback (most recent call last):\n",
      "  File \"<ipython-input-27-0e9bb8cdab4c>\", line 223, in __del__\n",
      "AttributeError: 'NoneType' object has no attribute '_House__ownershipCertification'\n"
     ]
    },
    {
     "name": "stdout",
     "output_type": "stream",
     "text": [
      "4\n"
     ]
    },
    {
     "name": "stderr",
     "output_type": "stream",
     "text": [
      "Exception ignored in: <function House.__del__ at 0x00000213575B1550>\n",
      "Traceback (most recent call last):\n",
      "  File \"<ipython-input-27-0e9bb8cdab4c>\", line 223, in __del__\n",
      "AttributeError: 'NoneType' object has no attribute '_House__ownershipCertification'\n"
     ]
    },
    {
     "name": "stdout",
     "output_type": "stream",
     "text": [
      "5\n"
     ]
    },
    {
     "name": "stderr",
     "output_type": "stream",
     "text": [
      "Exception ignored in: <function House.__del__ at 0x00000213575B1550>\n",
      "Traceback (most recent call last):\n",
      "  File \"<ipython-input-27-0e9bb8cdab4c>\", line 223, in __del__\n",
      "AttributeError: 'NoneType' object has no attribute '_House__ownershipCertification'\n"
     ]
    },
    {
     "name": "stdout",
     "output_type": "stream",
     "text": [
      "6\n"
     ]
    },
    {
     "name": "stderr",
     "output_type": "stream",
     "text": [
      "Exception ignored in: <function House.__del__ at 0x00000213575B1550>\n",
      "Traceback (most recent call last):\n",
      "  File \"<ipython-input-27-0e9bb8cdab4c>\", line 223, in __del__\n",
      "AttributeError: 'NoneType' object has no attribute '_House__ownershipCertification'\n"
     ]
    },
    {
     "name": "stdout",
     "output_type": "stream",
     "text": [
      "7\n"
     ]
    },
    {
     "name": "stderr",
     "output_type": "stream",
     "text": [
      "Exception ignored in: <function House.__del__ at 0x00000213575B1550>\n",
      "Traceback (most recent call last):\n",
      "  File \"<ipython-input-27-0e9bb8cdab4c>\", line 223, in __del__\n",
      "AttributeError: 'NoneType' object has no attribute '_House__ownershipCertification'\n"
     ]
    },
    {
     "name": "stdout",
     "output_type": "stream",
     "text": [
      "8\n"
     ]
    },
    {
     "name": "stderr",
     "output_type": "stream",
     "text": [
      "Exception ignored in: <function House.__del__ at 0x00000213575B1550>\n",
      "Traceback (most recent call last):\n",
      "  File \"<ipython-input-27-0e9bb8cdab4c>\", line 223, in __del__\n",
      "AttributeError: 'NoneType' object has no attribute '_House__ownershipCertification'\n"
     ]
    },
    {
     "name": "stdout",
     "output_type": "stream",
     "text": [
      "9\n"
     ]
    },
    {
     "name": "stderr",
     "output_type": "stream",
     "text": [
      "Exception ignored in: <function House.__del__ at 0x00000213575B1550>\n",
      "Traceback (most recent call last):\n",
      "  File \"<ipython-input-27-0e9bb8cdab4c>\", line 223, in __del__\n",
      "AttributeError: 'NoneType' object has no attribute '_House__ownershipCertification'\n"
     ]
    },
    {
     "name": "stdout",
     "output_type": "stream",
     "text": [
      "10\n"
     ]
    },
    {
     "name": "stderr",
     "output_type": "stream",
     "text": [
      "Exception ignored in: <function House.__del__ at 0x00000213575B1550>\n",
      "Traceback (most recent call last):\n",
      "  File \"<ipython-input-27-0e9bb8cdab4c>\", line 223, in __del__\n",
      "AttributeError: 'NoneType' object has no attribute '_House__ownershipCertification'\n"
     ]
    },
    {
     "name": "stdout",
     "output_type": "stream",
     "text": [
      "11\n"
     ]
    },
    {
     "name": "stderr",
     "output_type": "stream",
     "text": [
      "Exception ignored in: <function House.__del__ at 0x00000213575B1550>\n",
      "Traceback (most recent call last):\n",
      "  File \"<ipython-input-27-0e9bb8cdab4c>\", line 223, in __del__\n",
      "AttributeError: 'NoneType' object has no attribute '_House__ownershipCertification'\n"
     ]
    },
    {
     "name": "stdout",
     "output_type": "stream",
     "text": [
      "12\n"
     ]
    },
    {
     "name": "stderr",
     "output_type": "stream",
     "text": [
      "Exception ignored in: <function House.__del__ at 0x00000213575B1550>\n",
      "Traceback (most recent call last):\n",
      "  File \"<ipython-input-27-0e9bb8cdab4c>\", line 223, in __del__\n",
      "AttributeError: 'NoneType' object has no attribute '_House__ownershipCertification'\n"
     ]
    },
    {
     "name": "stdout",
     "output_type": "stream",
     "text": [
      "13\n"
     ]
    },
    {
     "name": "stderr",
     "output_type": "stream",
     "text": [
      "Exception ignored in: <function House.__del__ at 0x00000213575B1550>\n",
      "Traceback (most recent call last):\n",
      "  File \"<ipython-input-27-0e9bb8cdab4c>\", line 223, in __del__\n",
      "AttributeError: 'NoneType' object has no attribute '_House__ownershipCertification'\n"
     ]
    },
    {
     "name": "stdout",
     "output_type": "stream",
     "text": [
      "14\n"
     ]
    },
    {
     "name": "stderr",
     "output_type": "stream",
     "text": [
      "Exception ignored in: <function House.__del__ at 0x00000213575B1550>\n",
      "Traceback (most recent call last):\n",
      "  File \"<ipython-input-27-0e9bb8cdab4c>\", line 223, in __del__\n",
      "AttributeError: 'NoneType' object has no attribute '_House__ownershipCertification'\n"
     ]
    },
    {
     "name": "stdout",
     "output_type": "stream",
     "text": [
      "15\n"
     ]
    },
    {
     "name": "stderr",
     "output_type": "stream",
     "text": [
      "Exception ignored in: <function House.__del__ at 0x00000213575B1550>\n",
      "Traceback (most recent call last):\n",
      "  File \"<ipython-input-27-0e9bb8cdab4c>\", line 223, in __del__\n",
      "AttributeError: 'NoneType' object has no attribute '_House__ownershipCertification'\n"
     ]
    },
    {
     "name": "stdout",
     "output_type": "stream",
     "text": [
      "16\n"
     ]
    },
    {
     "name": "stderr",
     "output_type": "stream",
     "text": [
      "Exception ignored in: <function House.__del__ at 0x00000213575B1550>\n",
      "Traceback (most recent call last):\n",
      "  File \"<ipython-input-27-0e9bb8cdab4c>\", line 223, in __del__\n",
      "AttributeError: 'NoneType' object has no attribute '_House__ownershipCertification'\n"
     ]
    },
    {
     "name": "stdout",
     "output_type": "stream",
     "text": [
      "17\n"
     ]
    },
    {
     "name": "stderr",
     "output_type": "stream",
     "text": [
      "Exception ignored in: <function House.__del__ at 0x00000213575B1550>\n",
      "Traceback (most recent call last):\n",
      "  File \"<ipython-input-27-0e9bb8cdab4c>\", line 223, in __del__\n",
      "AttributeError: 'NoneType' object has no attribute '_House__ownershipCertification'\n"
     ]
    },
    {
     "name": "stdout",
     "output_type": "stream",
     "text": [
      "18\n"
     ]
    },
    {
     "name": "stderr",
     "output_type": "stream",
     "text": [
      "Exception ignored in: <function House.__del__ at 0x00000213575B1550>\n",
      "Traceback (most recent call last):\n",
      "  File \"<ipython-input-27-0e9bb8cdab4c>\", line 223, in __del__\n",
      "AttributeError: 'NoneType' object has no attribute '_House__ownershipCertification'\n"
     ]
    },
    {
     "name": "stdout",
     "output_type": "stream",
     "text": [
      "19\n"
     ]
    },
    {
     "name": "stderr",
     "output_type": "stream",
     "text": [
      "Exception ignored in: <function House.__del__ at 0x00000213575B1550>\n",
      "Traceback (most recent call last):\n",
      "  File \"<ipython-input-27-0e9bb8cdab4c>\", line 223, in __del__\n",
      "AttributeError: 'NoneType' object has no attribute '_House__ownershipCertification'\n"
     ]
    },
    {
     "name": "stdout",
     "output_type": "stream",
     "text": [
      "20\n",
      "520 \n",
      "\n"
     ]
    },
    {
     "name": "stderr",
     "output_type": "stream",
     "text": [
      "Exception ignored in: <function House.__del__ at 0x00000213575B1550>\n",
      "Traceback (most recent call last):\n",
      "  File \"<ipython-input-27-0e9bb8cdab4c>\", line 223, in __del__\n",
      "AttributeError: 'NoneType' object has no attribute '_House__ownershipCertification'\n"
     ]
    },
    {
     "name": "stdout",
     "output_type": "stream",
     "text": [
      "1\n"
     ]
    },
    {
     "name": "stderr",
     "output_type": "stream",
     "text": [
      "Exception ignored in: <function House.__del__ at 0x00000213575B1550>\n",
      "Traceback (most recent call last):\n",
      "  File \"<ipython-input-27-0e9bb8cdab4c>\", line 223, in __del__\n",
      "AttributeError: 'NoneType' object has no attribute '_House__ownershipCertification'\n"
     ]
    },
    {
     "name": "stdout",
     "output_type": "stream",
     "text": [
      "2\n"
     ]
    },
    {
     "name": "stderr",
     "output_type": "stream",
     "text": [
      "Exception ignored in: <function House.__del__ at 0x00000213575B1550>\n",
      "Traceback (most recent call last):\n",
      "  File \"<ipython-input-27-0e9bb8cdab4c>\", line 223, in __del__\n",
      "AttributeError: 'NoneType' object has no attribute '_House__ownershipCertification'\n"
     ]
    },
    {
     "name": "stdout",
     "output_type": "stream",
     "text": [
      "3\n"
     ]
    },
    {
     "name": "stderr",
     "output_type": "stream",
     "text": [
      "Exception ignored in: <function House.__del__ at 0x00000213575B1550>\n",
      "Traceback (most recent call last):\n",
      "  File \"<ipython-input-27-0e9bb8cdab4c>\", line 223, in __del__\n",
      "AttributeError: 'NoneType' object has no attribute '_House__ownershipCertification'\n"
     ]
    },
    {
     "name": "stdout",
     "output_type": "stream",
     "text": [
      "4\n"
     ]
    },
    {
     "name": "stderr",
     "output_type": "stream",
     "text": [
      "Exception ignored in: <function House.__del__ at 0x00000213575B1550>\n",
      "Traceback (most recent call last):\n",
      "  File \"<ipython-input-27-0e9bb8cdab4c>\", line 223, in __del__\n",
      "AttributeError: 'NoneType' object has no attribute '_House__ownershipCertification'\n"
     ]
    },
    {
     "name": "stdout",
     "output_type": "stream",
     "text": [
      "5\n"
     ]
    },
    {
     "name": "stderr",
     "output_type": "stream",
     "text": [
      "Exception ignored in: <function House.__del__ at 0x00000213575B1550>\n",
      "Traceback (most recent call last):\n",
      "  File \"<ipython-input-27-0e9bb8cdab4c>\", line 223, in __del__\n",
      "AttributeError: 'NoneType' object has no attribute '_House__ownershipCertification'\n"
     ]
    },
    {
     "name": "stdout",
     "output_type": "stream",
     "text": [
      "6\n"
     ]
    },
    {
     "name": "stderr",
     "output_type": "stream",
     "text": [
      "Exception ignored in: <function House.__del__ at 0x00000213575B1550>\n",
      "Traceback (most recent call last):\n",
      "  File \"<ipython-input-27-0e9bb8cdab4c>\", line 223, in __del__\n",
      "AttributeError: 'NoneType' object has no attribute '_House__ownershipCertification'\n"
     ]
    },
    {
     "name": "stdout",
     "output_type": "stream",
     "text": [
      "7\n"
     ]
    },
    {
     "name": "stderr",
     "output_type": "stream",
     "text": [
      "Exception ignored in: <function House.__del__ at 0x00000213575B1550>\n",
      "Traceback (most recent call last):\n",
      "  File \"<ipython-input-27-0e9bb8cdab4c>\", line 223, in __del__\n",
      "AttributeError: 'NoneType' object has no attribute '_House__ownershipCertification'\n"
     ]
    },
    {
     "name": "stdout",
     "output_type": "stream",
     "text": [
      "8\n"
     ]
    },
    {
     "name": "stderr",
     "output_type": "stream",
     "text": [
      "Exception ignored in: <function House.__del__ at 0x00000213575B1550>\n",
      "Traceback (most recent call last):\n",
      "  File \"<ipython-input-27-0e9bb8cdab4c>\", line 223, in __del__\n",
      "AttributeError: 'NoneType' object has no attribute '_House__ownershipCertification'\n"
     ]
    },
    {
     "name": "stdout",
     "output_type": "stream",
     "text": [
      "9\n"
     ]
    },
    {
     "name": "stderr",
     "output_type": "stream",
     "text": [
      "Exception ignored in: <function House.__del__ at 0x00000213575B1550>\n",
      "Traceback (most recent call last):\n",
      "  File \"<ipython-input-27-0e9bb8cdab4c>\", line 223, in __del__\n",
      "AttributeError: 'NoneType' object has no attribute '_House__ownershipCertification'\n"
     ]
    },
    {
     "name": "stdout",
     "output_type": "stream",
     "text": [
      "10\n"
     ]
    },
    {
     "name": "stderr",
     "output_type": "stream",
     "text": [
      "Exception ignored in: <function House.__del__ at 0x00000213575B1550>\n",
      "Traceback (most recent call last):\n",
      "  File \"<ipython-input-27-0e9bb8cdab4c>\", line 223, in __del__\n",
      "AttributeError: 'NoneType' object has no attribute '_House__ownershipCertification'\n"
     ]
    },
    {
     "name": "stdout",
     "output_type": "stream",
     "text": [
      "11\n"
     ]
    },
    {
     "name": "stderr",
     "output_type": "stream",
     "text": [
      "Exception ignored in: <function House.__del__ at 0x00000213575B1550>\n",
      "Traceback (most recent call last):\n",
      "  File \"<ipython-input-27-0e9bb8cdab4c>\", line 223, in __del__\n",
      "AttributeError: 'NoneType' object has no attribute '_House__ownershipCertification'\n"
     ]
    },
    {
     "name": "stdout",
     "output_type": "stream",
     "text": [
      "12\n"
     ]
    },
    {
     "name": "stderr",
     "output_type": "stream",
     "text": [
      "Exception ignored in: <function House.__del__ at 0x00000213575B1550>\n",
      "Traceback (most recent call last):\n",
      "  File \"<ipython-input-27-0e9bb8cdab4c>\", line 223, in __del__\n",
      "AttributeError: 'NoneType' object has no attribute '_House__ownershipCertification'\n"
     ]
    },
    {
     "name": "stdout",
     "output_type": "stream",
     "text": [
      "13\n"
     ]
    },
    {
     "name": "stderr",
     "output_type": "stream",
     "text": [
      "Exception ignored in: <function House.__del__ at 0x00000213575B1550>\n",
      "Traceback (most recent call last):\n",
      "  File \"<ipython-input-27-0e9bb8cdab4c>\", line 223, in __del__\n",
      "AttributeError: 'NoneType' object has no attribute '_House__ownershipCertification'\n"
     ]
    },
    {
     "name": "stdout",
     "output_type": "stream",
     "text": [
      "14\n"
     ]
    },
    {
     "name": "stderr",
     "output_type": "stream",
     "text": [
      "Exception ignored in: <function House.__del__ at 0x00000213575B1550>\n",
      "Traceback (most recent call last):\n",
      "  File \"<ipython-input-27-0e9bb8cdab4c>\", line 223, in __del__\n",
      "AttributeError: 'NoneType' object has no attribute '_House__ownershipCertification'\n"
     ]
    },
    {
     "name": "stdout",
     "output_type": "stream",
     "text": [
      "15\n"
     ]
    },
    {
     "name": "stderr",
     "output_type": "stream",
     "text": [
      "Exception ignored in: <function House.__del__ at 0x00000213575B1550>\n",
      "Traceback (most recent call last):\n",
      "  File \"<ipython-input-27-0e9bb8cdab4c>\", line 223, in __del__\n",
      "AttributeError: 'NoneType' object has no attribute '_House__ownershipCertification'\n"
     ]
    },
    {
     "name": "stdout",
     "output_type": "stream",
     "text": [
      "16\n"
     ]
    },
    {
     "name": "stderr",
     "output_type": "stream",
     "text": [
      "Exception ignored in: <function House.__del__ at 0x00000213575B1550>\n",
      "Traceback (most recent call last):\n",
      "  File \"<ipython-input-27-0e9bb8cdab4c>\", line 223, in __del__\n",
      "AttributeError: 'NoneType' object has no attribute '_House__ownershipCertification'\n"
     ]
    },
    {
     "name": "stdout",
     "output_type": "stream",
     "text": [
      "17\n"
     ]
    },
    {
     "name": "stderr",
     "output_type": "stream",
     "text": [
      "Exception ignored in: <function House.__del__ at 0x00000213575B1550>\n",
      "Traceback (most recent call last):\n",
      "  File \"<ipython-input-27-0e9bb8cdab4c>\", line 223, in __del__\n",
      "AttributeError: 'NoneType' object has no attribute '_House__ownershipCertification'\n"
     ]
    },
    {
     "name": "stdout",
     "output_type": "stream",
     "text": [
      "18\n"
     ]
    },
    {
     "name": "stderr",
     "output_type": "stream",
     "text": [
      "Exception ignored in: <function House.__del__ at 0x00000213575B1550>\n",
      "Traceback (most recent call last):\n",
      "  File \"<ipython-input-27-0e9bb8cdab4c>\", line 223, in __del__\n",
      "AttributeError: 'NoneType' object has no attribute '_House__ownershipCertification'\n"
     ]
    },
    {
     "name": "stdout",
     "output_type": "stream",
     "text": [
      "19\n"
     ]
    },
    {
     "name": "stderr",
     "output_type": "stream",
     "text": [
      "Exception ignored in: <function House.__del__ at 0x00000213575B1550>\n",
      "Traceback (most recent call last):\n",
      "  File \"<ipython-input-27-0e9bb8cdab4c>\", line 223, in __del__\n",
      "AttributeError: 'NoneType' object has no attribute '_House__ownershipCertification'\n"
     ]
    },
    {
     "name": "stdout",
     "output_type": "stream",
     "text": [
      "20\n",
      "521 \n",
      "\n"
     ]
    },
    {
     "name": "stderr",
     "output_type": "stream",
     "text": [
      "Exception ignored in: <function House.__del__ at 0x00000213575B1550>\n",
      "Traceback (most recent call last):\n",
      "  File \"<ipython-input-27-0e9bb8cdab4c>\", line 223, in __del__\n",
      "AttributeError: 'NoneType' object has no attribute '_House__ownershipCertification'\n"
     ]
    },
    {
     "name": "stdout",
     "output_type": "stream",
     "text": [
      "1\n"
     ]
    },
    {
     "name": "stderr",
     "output_type": "stream",
     "text": [
      "Exception ignored in: <function House.__del__ at 0x00000213575B1550>\n",
      "Traceback (most recent call last):\n",
      "  File \"<ipython-input-27-0e9bb8cdab4c>\", line 223, in __del__\n",
      "AttributeError: 'NoneType' object has no attribute '_House__ownershipCertification'\n"
     ]
    },
    {
     "name": "stdout",
     "output_type": "stream",
     "text": [
      "2\n"
     ]
    },
    {
     "name": "stderr",
     "output_type": "stream",
     "text": [
      "Exception ignored in: <function House.__del__ at 0x00000213575B1550>\n",
      "Traceback (most recent call last):\n",
      "  File \"<ipython-input-27-0e9bb8cdab4c>\", line 223, in __del__\n",
      "AttributeError: 'NoneType' object has no attribute '_House__ownershipCertification'\n"
     ]
    },
    {
     "name": "stdout",
     "output_type": "stream",
     "text": [
      "3\n"
     ]
    },
    {
     "name": "stderr",
     "output_type": "stream",
     "text": [
      "Exception ignored in: <function House.__del__ at 0x00000213575B1550>\n",
      "Traceback (most recent call last):\n",
      "  File \"<ipython-input-27-0e9bb8cdab4c>\", line 223, in __del__\n",
      "AttributeError: 'NoneType' object has no attribute '_House__ownershipCertification'\n"
     ]
    },
    {
     "name": "stdout",
     "output_type": "stream",
     "text": [
      "4\n"
     ]
    },
    {
     "name": "stderr",
     "output_type": "stream",
     "text": [
      "Exception ignored in: <function House.__del__ at 0x00000213575B1550>\n",
      "Traceback (most recent call last):\n",
      "  File \"<ipython-input-27-0e9bb8cdab4c>\", line 223, in __del__\n",
      "AttributeError: 'NoneType' object has no attribute '_House__ownershipCertification'\n"
     ]
    },
    {
     "name": "stdout",
     "output_type": "stream",
     "text": [
      "5\n"
     ]
    },
    {
     "name": "stderr",
     "output_type": "stream",
     "text": [
      "Exception ignored in: <function House.__del__ at 0x00000213575B1550>\n",
      "Traceback (most recent call last):\n",
      "  File \"<ipython-input-27-0e9bb8cdab4c>\", line 223, in __del__\n",
      "AttributeError: 'NoneType' object has no attribute '_House__ownershipCertification'\n"
     ]
    },
    {
     "name": "stdout",
     "output_type": "stream",
     "text": [
      "6\n"
     ]
    },
    {
     "name": "stderr",
     "output_type": "stream",
     "text": [
      "Exception ignored in: <function House.__del__ at 0x00000213575B1550>\n",
      "Traceback (most recent call last):\n",
      "  File \"<ipython-input-27-0e9bb8cdab4c>\", line 223, in __del__\n",
      "AttributeError: 'NoneType' object has no attribute '_House__ownershipCertification'\n"
     ]
    },
    {
     "name": "stdout",
     "output_type": "stream",
     "text": [
      "7\n"
     ]
    },
    {
     "name": "stderr",
     "output_type": "stream",
     "text": [
      "Exception ignored in: <function House.__del__ at 0x00000213575B1550>\n",
      "Traceback (most recent call last):\n",
      "  File \"<ipython-input-27-0e9bb8cdab4c>\", line 223, in __del__\n",
      "AttributeError: 'NoneType' object has no attribute '_House__ownershipCertification'\n"
     ]
    },
    {
     "name": "stdout",
     "output_type": "stream",
     "text": [
      "8\n"
     ]
    },
    {
     "name": "stderr",
     "output_type": "stream",
     "text": [
      "Exception ignored in: <function House.__del__ at 0x00000213575B1550>\n",
      "Traceback (most recent call last):\n",
      "  File \"<ipython-input-27-0e9bb8cdab4c>\", line 223, in __del__\n",
      "AttributeError: 'NoneType' object has no attribute '_House__ownershipCertification'\n"
     ]
    },
    {
     "name": "stdout",
     "output_type": "stream",
     "text": [
      "9\n"
     ]
    },
    {
     "name": "stderr",
     "output_type": "stream",
     "text": [
      "Exception ignored in: <function House.__del__ at 0x00000213575B1550>\n",
      "Traceback (most recent call last):\n",
      "  File \"<ipython-input-27-0e9bb8cdab4c>\", line 223, in __del__\n",
      "AttributeError: 'NoneType' object has no attribute '_House__ownershipCertification'\n"
     ]
    },
    {
     "name": "stdout",
     "output_type": "stream",
     "text": [
      "10\n"
     ]
    },
    {
     "name": "stderr",
     "output_type": "stream",
     "text": [
      "Exception ignored in: <function House.__del__ at 0x00000213575B1550>\n",
      "Traceback (most recent call last):\n",
      "  File \"<ipython-input-27-0e9bb8cdab4c>\", line 223, in __del__\n",
      "AttributeError: 'NoneType' object has no attribute '_House__ownershipCertification'\n"
     ]
    },
    {
     "name": "stdout",
     "output_type": "stream",
     "text": [
      "11\n"
     ]
    },
    {
     "name": "stderr",
     "output_type": "stream",
     "text": [
      "Exception ignored in: <function House.__del__ at 0x00000213575B1550>\n",
      "Traceback (most recent call last):\n",
      "  File \"<ipython-input-27-0e9bb8cdab4c>\", line 223, in __del__\n",
      "AttributeError: 'NoneType' object has no attribute '_House__ownershipCertification'\n"
     ]
    },
    {
     "name": "stdout",
     "output_type": "stream",
     "text": [
      "12\n"
     ]
    },
    {
     "name": "stderr",
     "output_type": "stream",
     "text": [
      "Exception ignored in: <function House.__del__ at 0x00000213575B1550>\n",
      "Traceback (most recent call last):\n",
      "  File \"<ipython-input-27-0e9bb8cdab4c>\", line 223, in __del__\n",
      "AttributeError: 'NoneType' object has no attribute '_House__ownershipCertification'\n"
     ]
    },
    {
     "name": "stdout",
     "output_type": "stream",
     "text": [
      "13\n"
     ]
    },
    {
     "name": "stderr",
     "output_type": "stream",
     "text": [
      "Exception ignored in: <function House.__del__ at 0x00000213575B1550>\n",
      "Traceback (most recent call last):\n",
      "  File \"<ipython-input-27-0e9bb8cdab4c>\", line 223, in __del__\n",
      "AttributeError: 'NoneType' object has no attribute '_House__ownershipCertification'\n"
     ]
    },
    {
     "name": "stdout",
     "output_type": "stream",
     "text": [
      "14\n"
     ]
    },
    {
     "name": "stderr",
     "output_type": "stream",
     "text": [
      "Exception ignored in: <function House.__del__ at 0x00000213575B1550>\n",
      "Traceback (most recent call last):\n",
      "  File \"<ipython-input-27-0e9bb8cdab4c>\", line 223, in __del__\n",
      "AttributeError: 'NoneType' object has no attribute '_House__ownershipCertification'\n"
     ]
    },
    {
     "name": "stdout",
     "output_type": "stream",
     "text": [
      "15\n"
     ]
    },
    {
     "name": "stderr",
     "output_type": "stream",
     "text": [
      "Exception ignored in: <function House.__del__ at 0x00000213575B1550>\n",
      "Traceback (most recent call last):\n",
      "  File \"<ipython-input-27-0e9bb8cdab4c>\", line 223, in __del__\n",
      "AttributeError: 'NoneType' object has no attribute '_House__ownershipCertification'\n"
     ]
    },
    {
     "name": "stdout",
     "output_type": "stream",
     "text": [
      "16\n"
     ]
    },
    {
     "name": "stderr",
     "output_type": "stream",
     "text": [
      "Exception ignored in: <function House.__del__ at 0x00000213575B1550>\n",
      "Traceback (most recent call last):\n",
      "  File \"<ipython-input-27-0e9bb8cdab4c>\", line 223, in __del__\n",
      "AttributeError: 'NoneType' object has no attribute '_House__ownershipCertification'\n"
     ]
    },
    {
     "name": "stdout",
     "output_type": "stream",
     "text": [
      "17\n"
     ]
    },
    {
     "name": "stderr",
     "output_type": "stream",
     "text": [
      "Exception ignored in: <function House.__del__ at 0x00000213575B1550>\n",
      "Traceback (most recent call last):\n",
      "  File \"<ipython-input-27-0e9bb8cdab4c>\", line 223, in __del__\n",
      "AttributeError: 'NoneType' object has no attribute '_House__ownershipCertification'\n"
     ]
    },
    {
     "name": "stdout",
     "output_type": "stream",
     "text": [
      "18\n"
     ]
    },
    {
     "name": "stderr",
     "output_type": "stream",
     "text": [
      "Exception ignored in: <function House.__del__ at 0x00000213575B1550>\n",
      "Traceback (most recent call last):\n",
      "  File \"<ipython-input-27-0e9bb8cdab4c>\", line 223, in __del__\n",
      "AttributeError: 'NoneType' object has no attribute '_House__ownershipCertification'\n"
     ]
    },
    {
     "name": "stdout",
     "output_type": "stream",
     "text": [
      "19\n"
     ]
    },
    {
     "name": "stderr",
     "output_type": "stream",
     "text": [
      "Exception ignored in: <function House.__del__ at 0x00000213575B1550>\n",
      "Traceback (most recent call last):\n",
      "  File \"<ipython-input-27-0e9bb8cdab4c>\", line 223, in __del__\n",
      "AttributeError: 'NoneType' object has no attribute '_House__ownershipCertification'\n"
     ]
    },
    {
     "name": "stdout",
     "output_type": "stream",
     "text": [
      "20\n",
      "522 \n",
      "\n"
     ]
    },
    {
     "name": "stderr",
     "output_type": "stream",
     "text": [
      "Exception ignored in: <function House.__del__ at 0x00000213575B1550>\n",
      "Traceback (most recent call last):\n",
      "  File \"<ipython-input-27-0e9bb8cdab4c>\", line 223, in __del__\n",
      "AttributeError: 'NoneType' object has no attribute '_House__ownershipCertification'\n"
     ]
    },
    {
     "name": "stdout",
     "output_type": "stream",
     "text": [
      "1\n"
     ]
    },
    {
     "name": "stderr",
     "output_type": "stream",
     "text": [
      "Exception ignored in: <function House.__del__ at 0x00000213575B1550>\n",
      "Traceback (most recent call last):\n",
      "  File \"<ipython-input-27-0e9bb8cdab4c>\", line 223, in __del__\n",
      "AttributeError: 'NoneType' object has no attribute '_House__ownershipCertification'\n"
     ]
    },
    {
     "name": "stdout",
     "output_type": "stream",
     "text": [
      "2\n"
     ]
    },
    {
     "name": "stderr",
     "output_type": "stream",
     "text": [
      "Exception ignored in: <function House.__del__ at 0x00000213575B1550>\n",
      "Traceback (most recent call last):\n",
      "  File \"<ipython-input-27-0e9bb8cdab4c>\", line 223, in __del__\n",
      "AttributeError: 'NoneType' object has no attribute '_House__ownershipCertification'\n"
     ]
    },
    {
     "name": "stdout",
     "output_type": "stream",
     "text": [
      "3\n"
     ]
    },
    {
     "name": "stderr",
     "output_type": "stream",
     "text": [
      "Exception ignored in: <function House.__del__ at 0x00000213575B1550>\n",
      "Traceback (most recent call last):\n",
      "  File \"<ipython-input-27-0e9bb8cdab4c>\", line 223, in __del__\n",
      "AttributeError: 'NoneType' object has no attribute '_House__ownershipCertification'\n"
     ]
    },
    {
     "name": "stdout",
     "output_type": "stream",
     "text": [
      "4\n"
     ]
    },
    {
     "name": "stderr",
     "output_type": "stream",
     "text": [
      "Exception ignored in: <function House.__del__ at 0x00000213575B1550>\n",
      "Traceback (most recent call last):\n",
      "  File \"<ipython-input-27-0e9bb8cdab4c>\", line 223, in __del__\n",
      "AttributeError: 'NoneType' object has no attribute '_House__ownershipCertification'\n"
     ]
    },
    {
     "name": "stdout",
     "output_type": "stream",
     "text": [
      "5\n"
     ]
    },
    {
     "name": "stderr",
     "output_type": "stream",
     "text": [
      "Exception ignored in: <function House.__del__ at 0x00000213575B1550>\n",
      "Traceback (most recent call last):\n",
      "  File \"<ipython-input-27-0e9bb8cdab4c>\", line 223, in __del__\n",
      "AttributeError: 'NoneType' object has no attribute '_House__ownershipCertification'\n"
     ]
    },
    {
     "name": "stdout",
     "output_type": "stream",
     "text": [
      "6\n"
     ]
    },
    {
     "name": "stderr",
     "output_type": "stream",
     "text": [
      "Exception ignored in: <function House.__del__ at 0x00000213575B1550>\n",
      "Traceback (most recent call last):\n",
      "  File \"<ipython-input-27-0e9bb8cdab4c>\", line 223, in __del__\n",
      "AttributeError: 'NoneType' object has no attribute '_House__ownershipCertification'\n"
     ]
    },
    {
     "name": "stdout",
     "output_type": "stream",
     "text": [
      "7\n"
     ]
    },
    {
     "name": "stderr",
     "output_type": "stream",
     "text": [
      "Exception ignored in: <function House.__del__ at 0x00000213575B1550>\n",
      "Traceback (most recent call last):\n",
      "  File \"<ipython-input-27-0e9bb8cdab4c>\", line 223, in __del__\n",
      "AttributeError: 'NoneType' object has no attribute '_House__ownershipCertification'\n"
     ]
    },
    {
     "name": "stdout",
     "output_type": "stream",
     "text": [
      "8\n"
     ]
    },
    {
     "name": "stderr",
     "output_type": "stream",
     "text": [
      "Exception ignored in: <function House.__del__ at 0x00000213575B1550>\n",
      "Traceback (most recent call last):\n",
      "  File \"<ipython-input-27-0e9bb8cdab4c>\", line 223, in __del__\n",
      "AttributeError: 'NoneType' object has no attribute '_House__ownershipCertification'\n"
     ]
    },
    {
     "name": "stdout",
     "output_type": "stream",
     "text": [
      "9\n"
     ]
    },
    {
     "name": "stderr",
     "output_type": "stream",
     "text": [
      "Exception ignored in: <function House.__del__ at 0x00000213575B1550>\n",
      "Traceback (most recent call last):\n",
      "  File \"<ipython-input-27-0e9bb8cdab4c>\", line 223, in __del__\n",
      "AttributeError: 'NoneType' object has no attribute '_House__ownershipCertification'\n"
     ]
    },
    {
     "name": "stdout",
     "output_type": "stream",
     "text": [
      "10\n"
     ]
    },
    {
     "name": "stderr",
     "output_type": "stream",
     "text": [
      "Exception ignored in: <function House.__del__ at 0x00000213575B1550>\n",
      "Traceback (most recent call last):\n",
      "  File \"<ipython-input-27-0e9bb8cdab4c>\", line 223, in __del__\n",
      "AttributeError: 'NoneType' object has no attribute '_House__ownershipCertification'\n"
     ]
    },
    {
     "name": "stdout",
     "output_type": "stream",
     "text": [
      "11\n"
     ]
    },
    {
     "name": "stderr",
     "output_type": "stream",
     "text": [
      "Exception ignored in: <function House.__del__ at 0x00000213575B1550>\n",
      "Traceback (most recent call last):\n",
      "  File \"<ipython-input-27-0e9bb8cdab4c>\", line 223, in __del__\n",
      "AttributeError: 'NoneType' object has no attribute '_House__ownershipCertification'\n"
     ]
    },
    {
     "name": "stdout",
     "output_type": "stream",
     "text": [
      "12\n"
     ]
    },
    {
     "name": "stderr",
     "output_type": "stream",
     "text": [
      "Exception ignored in: <function House.__del__ at 0x00000213575B1550>\n",
      "Traceback (most recent call last):\n",
      "  File \"<ipython-input-27-0e9bb8cdab4c>\", line 223, in __del__\n",
      "AttributeError: 'NoneType' object has no attribute '_House__ownershipCertification'\n"
     ]
    },
    {
     "name": "stdout",
     "output_type": "stream",
     "text": [
      "13\n"
     ]
    },
    {
     "name": "stderr",
     "output_type": "stream",
     "text": [
      "Exception ignored in: <function House.__del__ at 0x00000213575B1550>\n",
      "Traceback (most recent call last):\n",
      "  File \"<ipython-input-27-0e9bb8cdab4c>\", line 223, in __del__\n",
      "AttributeError: 'NoneType' object has no attribute '_House__ownershipCertification'\n"
     ]
    },
    {
     "name": "stdout",
     "output_type": "stream",
     "text": [
      "14\n"
     ]
    },
    {
     "name": "stderr",
     "output_type": "stream",
     "text": [
      "Exception ignored in: <function House.__del__ at 0x00000213575B1550>\n",
      "Traceback (most recent call last):\n",
      "  File \"<ipython-input-27-0e9bb8cdab4c>\", line 223, in __del__\n",
      "AttributeError: 'NoneType' object has no attribute '_House__ownershipCertification'\n"
     ]
    },
    {
     "name": "stdout",
     "output_type": "stream",
     "text": [
      "15\n"
     ]
    },
    {
     "name": "stderr",
     "output_type": "stream",
     "text": [
      "Exception ignored in: <function House.__del__ at 0x00000213575B1550>\n",
      "Traceback (most recent call last):\n",
      "  File \"<ipython-input-27-0e9bb8cdab4c>\", line 223, in __del__\n",
      "AttributeError: 'NoneType' object has no attribute '_House__ownershipCertification'\n"
     ]
    },
    {
     "name": "stdout",
     "output_type": "stream",
     "text": [
      "16\n"
     ]
    },
    {
     "name": "stderr",
     "output_type": "stream",
     "text": [
      "Exception ignored in: <function House.__del__ at 0x00000213575B1550>\n",
      "Traceback (most recent call last):\n",
      "  File \"<ipython-input-27-0e9bb8cdab4c>\", line 223, in __del__\n",
      "AttributeError: 'NoneType' object has no attribute '_House__ownershipCertification'\n"
     ]
    },
    {
     "name": "stdout",
     "output_type": "stream",
     "text": [
      "17\n"
     ]
    },
    {
     "name": "stderr",
     "output_type": "stream",
     "text": [
      "Exception ignored in: <function House.__del__ at 0x00000213575B1550>\n",
      "Traceback (most recent call last):\n",
      "  File \"<ipython-input-27-0e9bb8cdab4c>\", line 223, in __del__\n",
      "AttributeError: 'NoneType' object has no attribute '_House__ownershipCertification'\n"
     ]
    },
    {
     "name": "stdout",
     "output_type": "stream",
     "text": [
      "18\n"
     ]
    },
    {
     "name": "stderr",
     "output_type": "stream",
     "text": [
      "Exception ignored in: <function House.__del__ at 0x00000213575B1550>\n",
      "Traceback (most recent call last):\n",
      "  File \"<ipython-input-27-0e9bb8cdab4c>\", line 223, in __del__\n",
      "AttributeError: 'NoneType' object has no attribute '_House__ownershipCertification'\n"
     ]
    },
    {
     "name": "stdout",
     "output_type": "stream",
     "text": [
      "19\n"
     ]
    },
    {
     "name": "stderr",
     "output_type": "stream",
     "text": [
      "Exception ignored in: <function House.__del__ at 0x00000213575B1550>\n",
      "Traceback (most recent call last):\n",
      "  File \"<ipython-input-27-0e9bb8cdab4c>\", line 223, in __del__\n",
      "AttributeError: 'NoneType' object has no attribute '_House__ownershipCertification'\n"
     ]
    },
    {
     "name": "stdout",
     "output_type": "stream",
     "text": [
      "20\n",
      "523 \n",
      "\n"
     ]
    },
    {
     "name": "stderr",
     "output_type": "stream",
     "text": [
      "Exception ignored in: <function House.__del__ at 0x00000213575B1550>\n",
      "Traceback (most recent call last):\n",
      "  File \"<ipython-input-27-0e9bb8cdab4c>\", line 223, in __del__\n",
      "AttributeError: 'NoneType' object has no attribute '_House__ownershipCertification'\n"
     ]
    },
    {
     "name": "stdout",
     "output_type": "stream",
     "text": [
      "1\n"
     ]
    },
    {
     "name": "stderr",
     "output_type": "stream",
     "text": [
      "Exception ignored in: <function House.__del__ at 0x00000213575B1550>\n",
      "Traceback (most recent call last):\n",
      "  File \"<ipython-input-27-0e9bb8cdab4c>\", line 223, in __del__\n",
      "AttributeError: 'NoneType' object has no attribute '_House__ownershipCertification'\n"
     ]
    },
    {
     "name": "stdout",
     "output_type": "stream",
     "text": [
      "2\n"
     ]
    },
    {
     "name": "stderr",
     "output_type": "stream",
     "text": [
      "Exception ignored in: <function House.__del__ at 0x00000213575B1550>\n",
      "Traceback (most recent call last):\n",
      "  File \"<ipython-input-27-0e9bb8cdab4c>\", line 223, in __del__\n",
      "AttributeError: 'NoneType' object has no attribute '_House__ownershipCertification'\n"
     ]
    },
    {
     "name": "stdout",
     "output_type": "stream",
     "text": [
      "3\n"
     ]
    },
    {
     "name": "stderr",
     "output_type": "stream",
     "text": [
      "Exception ignored in: <function House.__del__ at 0x00000213575B1550>\n",
      "Traceback (most recent call last):\n",
      "  File \"<ipython-input-27-0e9bb8cdab4c>\", line 223, in __del__\n",
      "AttributeError: 'NoneType' object has no attribute '_House__ownershipCertification'\n"
     ]
    },
    {
     "name": "stdout",
     "output_type": "stream",
     "text": [
      "4\n"
     ]
    },
    {
     "name": "stderr",
     "output_type": "stream",
     "text": [
      "Exception ignored in: <function House.__del__ at 0x00000213575B1550>\n",
      "Traceback (most recent call last):\n",
      "  File \"<ipython-input-27-0e9bb8cdab4c>\", line 223, in __del__\n",
      "AttributeError: 'NoneType' object has no attribute '_House__ownershipCertification'\n"
     ]
    },
    {
     "name": "stdout",
     "output_type": "stream",
     "text": [
      "5\n"
     ]
    },
    {
     "name": "stderr",
     "output_type": "stream",
     "text": [
      "Exception ignored in: <function House.__del__ at 0x00000213575B1550>\n",
      "Traceback (most recent call last):\n",
      "  File \"<ipython-input-27-0e9bb8cdab4c>\", line 223, in __del__\n",
      "AttributeError: 'NoneType' object has no attribute '_House__ownershipCertification'\n"
     ]
    },
    {
     "name": "stdout",
     "output_type": "stream",
     "text": [
      "6\n"
     ]
    },
    {
     "name": "stderr",
     "output_type": "stream",
     "text": [
      "Exception ignored in: <function House.__del__ at 0x00000213575B1550>\n",
      "Traceback (most recent call last):\n",
      "  File \"<ipython-input-27-0e9bb8cdab4c>\", line 223, in __del__\n",
      "AttributeError: 'NoneType' object has no attribute '_House__ownershipCertification'\n"
     ]
    },
    {
     "name": "stdout",
     "output_type": "stream",
     "text": [
      "7\n"
     ]
    },
    {
     "name": "stderr",
     "output_type": "stream",
     "text": [
      "Exception ignored in: <function House.__del__ at 0x00000213575B1550>\n",
      "Traceback (most recent call last):\n",
      "  File \"<ipython-input-27-0e9bb8cdab4c>\", line 223, in __del__\n",
      "AttributeError: 'NoneType' object has no attribute '_House__ownershipCertification'\n"
     ]
    },
    {
     "name": "stdout",
     "output_type": "stream",
     "text": [
      "8\n"
     ]
    },
    {
     "name": "stderr",
     "output_type": "stream",
     "text": [
      "Exception ignored in: <function House.__del__ at 0x00000213575B1550>\n",
      "Traceback (most recent call last):\n",
      "  File \"<ipython-input-27-0e9bb8cdab4c>\", line 223, in __del__\n",
      "AttributeError: 'NoneType' object has no attribute '_House__ownershipCertification'\n"
     ]
    },
    {
     "name": "stdout",
     "output_type": "stream",
     "text": [
      "9\n"
     ]
    },
    {
     "name": "stderr",
     "output_type": "stream",
     "text": [
      "Exception ignored in: <function House.__del__ at 0x00000213575B1550>\n",
      "Traceback (most recent call last):\n",
      "  File \"<ipython-input-27-0e9bb8cdab4c>\", line 223, in __del__\n",
      "AttributeError: 'NoneType' object has no attribute '_House__ownershipCertification'\n"
     ]
    },
    {
     "name": "stdout",
     "output_type": "stream",
     "text": [
      "10\n"
     ]
    },
    {
     "name": "stderr",
     "output_type": "stream",
     "text": [
      "Exception ignored in: <function House.__del__ at 0x00000213575B1550>\n",
      "Traceback (most recent call last):\n",
      "  File \"<ipython-input-27-0e9bb8cdab4c>\", line 223, in __del__\n",
      "AttributeError: 'NoneType' object has no attribute '_House__ownershipCertification'\n"
     ]
    },
    {
     "name": "stdout",
     "output_type": "stream",
     "text": [
      "11\n"
     ]
    },
    {
     "name": "stderr",
     "output_type": "stream",
     "text": [
      "Exception ignored in: <function House.__del__ at 0x00000213575B1550>\n",
      "Traceback (most recent call last):\n",
      "  File \"<ipython-input-27-0e9bb8cdab4c>\", line 223, in __del__\n",
      "AttributeError: 'NoneType' object has no attribute '_House__ownershipCertification'\n"
     ]
    },
    {
     "name": "stdout",
     "output_type": "stream",
     "text": [
      "12\n"
     ]
    },
    {
     "name": "stderr",
     "output_type": "stream",
     "text": [
      "Exception ignored in: <function House.__del__ at 0x00000213575B1550>\n",
      "Traceback (most recent call last):\n",
      "  File \"<ipython-input-27-0e9bb8cdab4c>\", line 223, in __del__\n",
      "AttributeError: 'NoneType' object has no attribute '_House__ownershipCertification'\n"
     ]
    },
    {
     "name": "stdout",
     "output_type": "stream",
     "text": [
      "13\n"
     ]
    },
    {
     "name": "stderr",
     "output_type": "stream",
     "text": [
      "Exception ignored in: <function House.__del__ at 0x00000213575B1550>\n",
      "Traceback (most recent call last):\n",
      "  File \"<ipython-input-27-0e9bb8cdab4c>\", line 223, in __del__\n",
      "AttributeError: 'NoneType' object has no attribute '_House__ownershipCertification'\n"
     ]
    },
    {
     "name": "stdout",
     "output_type": "stream",
     "text": [
      "14\n"
     ]
    },
    {
     "name": "stderr",
     "output_type": "stream",
     "text": [
      "Exception ignored in: <function House.__del__ at 0x00000213575B1550>\n",
      "Traceback (most recent call last):\n",
      "  File \"<ipython-input-27-0e9bb8cdab4c>\", line 223, in __del__\n",
      "AttributeError: 'NoneType' object has no attribute '_House__ownershipCertification'\n"
     ]
    },
    {
     "name": "stdout",
     "output_type": "stream",
     "text": [
      "15\n"
     ]
    },
    {
     "name": "stderr",
     "output_type": "stream",
     "text": [
      "Exception ignored in: <function House.__del__ at 0x00000213575B1550>\n",
      "Traceback (most recent call last):\n",
      "  File \"<ipython-input-27-0e9bb8cdab4c>\", line 223, in __del__\n",
      "AttributeError: 'NoneType' object has no attribute '_House__ownershipCertification'\n"
     ]
    },
    {
     "name": "stdout",
     "output_type": "stream",
     "text": [
      "16\n"
     ]
    },
    {
     "name": "stderr",
     "output_type": "stream",
     "text": [
      "Exception ignored in: <function House.__del__ at 0x00000213575B1550>\n",
      "Traceback (most recent call last):\n",
      "  File \"<ipython-input-27-0e9bb8cdab4c>\", line 223, in __del__\n",
      "AttributeError: 'NoneType' object has no attribute '_House__ownershipCertification'\n"
     ]
    },
    {
     "name": "stdout",
     "output_type": "stream",
     "text": [
      "17\n"
     ]
    },
    {
     "name": "stderr",
     "output_type": "stream",
     "text": [
      "Exception ignored in: <function House.__del__ at 0x00000213575B1550>\n",
      "Traceback (most recent call last):\n",
      "  File \"<ipython-input-27-0e9bb8cdab4c>\", line 223, in __del__\n",
      "AttributeError: 'NoneType' object has no attribute '_House__ownershipCertification'\n"
     ]
    },
    {
     "name": "stdout",
     "output_type": "stream",
     "text": [
      "18\n"
     ]
    },
    {
     "name": "stderr",
     "output_type": "stream",
     "text": [
      "Exception ignored in: <function House.__del__ at 0x00000213575B1550>\n",
      "Traceback (most recent call last):\n",
      "  File \"<ipython-input-27-0e9bb8cdab4c>\", line 223, in __del__\n",
      "AttributeError: 'NoneType' object has no attribute '_House__ownershipCertification'\n"
     ]
    },
    {
     "name": "stdout",
     "output_type": "stream",
     "text": [
      "19\n"
     ]
    },
    {
     "name": "stderr",
     "output_type": "stream",
     "text": [
      "Exception ignored in: <function House.__del__ at 0x00000213575B1550>\n",
      "Traceback (most recent call last):\n",
      "  File \"<ipython-input-27-0e9bb8cdab4c>\", line 223, in __del__\n",
      "AttributeError: 'NoneType' object has no attribute '_House__ownershipCertification'\n"
     ]
    },
    {
     "name": "stdout",
     "output_type": "stream",
     "text": [
      "20\n",
      "524 \n",
      "\n"
     ]
    },
    {
     "name": "stderr",
     "output_type": "stream",
     "text": [
      "Exception ignored in: <function House.__del__ at 0x00000213575B1550>\n",
      "Traceback (most recent call last):\n",
      "  File \"<ipython-input-27-0e9bb8cdab4c>\", line 223, in __del__\n",
      "AttributeError: 'NoneType' object has no attribute '_House__ownershipCertification'\n"
     ]
    },
    {
     "name": "stdout",
     "output_type": "stream",
     "text": [
      "1\n"
     ]
    },
    {
     "ename": "KeyboardInterrupt",
     "evalue": "",
     "output_type": "error",
     "traceback": [
      "\u001b[1;31m---------------------------------------------------------------------------\u001b[0m",
      "\u001b[1;31mKeyboardInterrupt\u001b[0m                         Traceback (most recent call last)",
      "\u001b[1;32m<ipython-input-32-d835f9440325>\u001b[0m in \u001b[0;36m<module>\u001b[1;34m\u001b[0m\n\u001b[0;32m      1\u001b[0m \u001b[0mbrowser\u001b[0m \u001b[1;33m=\u001b[0m \u001b[0mwebdriver\u001b[0m\u001b[1;33m.\u001b[0m\u001b[0mChrome\u001b[0m\u001b[1;33m(\u001b[0m\u001b[0mexecutable_path\u001b[0m\u001b[1;33m=\u001b[0m\u001b[1;34m'chromedriver.exe'\u001b[0m\u001b[1;33m)\u001b[0m\u001b[1;33m\u001b[0m\u001b[1;33m\u001b[0m\u001b[0m\n\u001b[1;32m----> 2\u001b[1;33m \u001b[0mget_all_house_information\u001b[0m\u001b[1;33m(\u001b[0m\u001b[1;36m1000\u001b[0m\u001b[1;33m,\u001b[0m \u001b[1;34m'Data\\house_information.csv'\u001b[0m\u001b[1;33m)\u001b[0m\u001b[1;33m\u001b[0m\u001b[1;33m\u001b[0m\u001b[0m\n\u001b[0m",
      "\u001b[1;32m<ipython-input-31-8e77e4cf497a>\u001b[0m in \u001b[0;36mget_all_house_information\u001b[1;34m(n, outFilePath)\u001b[0m\n\u001b[0;32m     21\u001b[0m                 \u001b[0mstt\u001b[0m \u001b[1;33m+=\u001b[0m \u001b[1;36m1\u001b[0m\u001b[1;33m\u001b[0m\u001b[1;33m\u001b[0m\u001b[0m\n\u001b[0;32m     22\u001b[0m                 \u001b[0murl\u001b[0m \u001b[1;33m=\u001b[0m \u001b[0mline\u001b[0m\u001b[1;33m\u001b[0m\u001b[1;33m\u001b[0m\u001b[0m\n\u001b[1;32m---> 23\u001b[1;33m                 \u001b[0mbrowser\u001b[0m\u001b[1;33m.\u001b[0m\u001b[0mget\u001b[0m\u001b[1;33m(\u001b[0m\u001b[0murl\u001b[0m\u001b[1;33m)\u001b[0m\u001b[1;33m\u001b[0m\u001b[1;33m\u001b[0m\u001b[0m\n\u001b[0m\u001b[0;32m     24\u001b[0m                 \u001b[1;31m#FID: file id\u001b[0m\u001b[1;33m\u001b[0m\u001b[1;33m\u001b[0m\u001b[1;33m\u001b[0m\u001b[0m\n\u001b[0;32m     25\u001b[0m                 \u001b[1;31m#STTIF: stt in file\u001b[0m\u001b[1;33m\u001b[0m\u001b[1;33m\u001b[0m\u001b[1;33m\u001b[0m\u001b[0m\n",
      "\u001b[1;32m~\\anaconda\\lib\\site-packages\\selenium\\webdriver\\remote\\webdriver.py\u001b[0m in \u001b[0;36mget\u001b[1;34m(self, url)\u001b[0m\n\u001b[0;32m    331\u001b[0m         \u001b[0mLoads\u001b[0m \u001b[0ma\u001b[0m \u001b[0mweb\u001b[0m \u001b[0mpage\u001b[0m \u001b[1;32min\u001b[0m \u001b[0mthe\u001b[0m \u001b[0mcurrent\u001b[0m \u001b[0mbrowser\u001b[0m \u001b[0msession\u001b[0m\u001b[1;33m.\u001b[0m\u001b[1;33m\u001b[0m\u001b[1;33m\u001b[0m\u001b[0m\n\u001b[0;32m    332\u001b[0m         \"\"\"\n\u001b[1;32m--> 333\u001b[1;33m         \u001b[0mself\u001b[0m\u001b[1;33m.\u001b[0m\u001b[0mexecute\u001b[0m\u001b[1;33m(\u001b[0m\u001b[0mCommand\u001b[0m\u001b[1;33m.\u001b[0m\u001b[0mGET\u001b[0m\u001b[1;33m,\u001b[0m \u001b[1;33m{\u001b[0m\u001b[1;34m'url'\u001b[0m\u001b[1;33m:\u001b[0m \u001b[0murl\u001b[0m\u001b[1;33m}\u001b[0m\u001b[1;33m)\u001b[0m\u001b[1;33m\u001b[0m\u001b[1;33m\u001b[0m\u001b[0m\n\u001b[0m\u001b[0;32m    334\u001b[0m \u001b[1;33m\u001b[0m\u001b[0m\n\u001b[0;32m    335\u001b[0m     \u001b[1;33m@\u001b[0m\u001b[0mproperty\u001b[0m\u001b[1;33m\u001b[0m\u001b[1;33m\u001b[0m\u001b[0m\n",
      "\u001b[1;32m~\\anaconda\\lib\\site-packages\\selenium\\webdriver\\remote\\webdriver.py\u001b[0m in \u001b[0;36mexecute\u001b[1;34m(self, driver_command, params)\u001b[0m\n\u001b[0;32m    317\u001b[0m \u001b[1;33m\u001b[0m\u001b[0m\n\u001b[0;32m    318\u001b[0m         \u001b[0mparams\u001b[0m \u001b[1;33m=\u001b[0m \u001b[0mself\u001b[0m\u001b[1;33m.\u001b[0m\u001b[0m_wrap_value\u001b[0m\u001b[1;33m(\u001b[0m\u001b[0mparams\u001b[0m\u001b[1;33m)\u001b[0m\u001b[1;33m\u001b[0m\u001b[1;33m\u001b[0m\u001b[0m\n\u001b[1;32m--> 319\u001b[1;33m         \u001b[0mresponse\u001b[0m \u001b[1;33m=\u001b[0m \u001b[0mself\u001b[0m\u001b[1;33m.\u001b[0m\u001b[0mcommand_executor\u001b[0m\u001b[1;33m.\u001b[0m\u001b[0mexecute\u001b[0m\u001b[1;33m(\u001b[0m\u001b[0mdriver_command\u001b[0m\u001b[1;33m,\u001b[0m \u001b[0mparams\u001b[0m\u001b[1;33m)\u001b[0m\u001b[1;33m\u001b[0m\u001b[1;33m\u001b[0m\u001b[0m\n\u001b[0m\u001b[0;32m    320\u001b[0m         \u001b[1;32mif\u001b[0m \u001b[0mresponse\u001b[0m\u001b[1;33m:\u001b[0m\u001b[1;33m\u001b[0m\u001b[1;33m\u001b[0m\u001b[0m\n\u001b[0;32m    321\u001b[0m             \u001b[0mself\u001b[0m\u001b[1;33m.\u001b[0m\u001b[0merror_handler\u001b[0m\u001b[1;33m.\u001b[0m\u001b[0mcheck_response\u001b[0m\u001b[1;33m(\u001b[0m\u001b[0mresponse\u001b[0m\u001b[1;33m)\u001b[0m\u001b[1;33m\u001b[0m\u001b[1;33m\u001b[0m\u001b[0m\n",
      "\u001b[1;32m~\\anaconda\\lib\\site-packages\\selenium\\webdriver\\remote\\remote_connection.py\u001b[0m in \u001b[0;36mexecute\u001b[1;34m(self, command, params)\u001b[0m\n\u001b[0;32m    372\u001b[0m         \u001b[0mdata\u001b[0m \u001b[1;33m=\u001b[0m \u001b[0mutils\u001b[0m\u001b[1;33m.\u001b[0m\u001b[0mdump_json\u001b[0m\u001b[1;33m(\u001b[0m\u001b[0mparams\u001b[0m\u001b[1;33m)\u001b[0m\u001b[1;33m\u001b[0m\u001b[1;33m\u001b[0m\u001b[0m\n\u001b[0;32m    373\u001b[0m         \u001b[0murl\u001b[0m \u001b[1;33m=\u001b[0m \u001b[1;34m'%s%s'\u001b[0m \u001b[1;33m%\u001b[0m \u001b[1;33m(\u001b[0m\u001b[0mself\u001b[0m\u001b[1;33m.\u001b[0m\u001b[0m_url\u001b[0m\u001b[1;33m,\u001b[0m \u001b[0mpath\u001b[0m\u001b[1;33m)\u001b[0m\u001b[1;33m\u001b[0m\u001b[1;33m\u001b[0m\u001b[0m\n\u001b[1;32m--> 374\u001b[1;33m         \u001b[1;32mreturn\u001b[0m \u001b[0mself\u001b[0m\u001b[1;33m.\u001b[0m\u001b[0m_request\u001b[0m\u001b[1;33m(\u001b[0m\u001b[0mcommand_info\u001b[0m\u001b[1;33m[\u001b[0m\u001b[1;36m0\u001b[0m\u001b[1;33m]\u001b[0m\u001b[1;33m,\u001b[0m \u001b[0murl\u001b[0m\u001b[1;33m,\u001b[0m \u001b[0mbody\u001b[0m\u001b[1;33m=\u001b[0m\u001b[0mdata\u001b[0m\u001b[1;33m)\u001b[0m\u001b[1;33m\u001b[0m\u001b[1;33m\u001b[0m\u001b[0m\n\u001b[0m\u001b[0;32m    375\u001b[0m \u001b[1;33m\u001b[0m\u001b[0m\n\u001b[0;32m    376\u001b[0m     \u001b[1;32mdef\u001b[0m \u001b[0m_request\u001b[0m\u001b[1;33m(\u001b[0m\u001b[0mself\u001b[0m\u001b[1;33m,\u001b[0m \u001b[0mmethod\u001b[0m\u001b[1;33m,\u001b[0m \u001b[0murl\u001b[0m\u001b[1;33m,\u001b[0m \u001b[0mbody\u001b[0m\u001b[1;33m=\u001b[0m\u001b[1;32mNone\u001b[0m\u001b[1;33m)\u001b[0m\u001b[1;33m:\u001b[0m\u001b[1;33m\u001b[0m\u001b[1;33m\u001b[0m\u001b[0m\n",
      "\u001b[1;32m~\\anaconda\\lib\\site-packages\\selenium\\webdriver\\remote\\remote_connection.py\u001b[0m in \u001b[0;36m_request\u001b[1;34m(self, method, url, body)\u001b[0m\n\u001b[0;32m    395\u001b[0m \u001b[1;33m\u001b[0m\u001b[0m\n\u001b[0;32m    396\u001b[0m         \u001b[1;32mif\u001b[0m \u001b[0mself\u001b[0m\u001b[1;33m.\u001b[0m\u001b[0mkeep_alive\u001b[0m\u001b[1;33m:\u001b[0m\u001b[1;33m\u001b[0m\u001b[1;33m\u001b[0m\u001b[0m\n\u001b[1;32m--> 397\u001b[1;33m             \u001b[0mresp\u001b[0m \u001b[1;33m=\u001b[0m \u001b[0mself\u001b[0m\u001b[1;33m.\u001b[0m\u001b[0m_conn\u001b[0m\u001b[1;33m.\u001b[0m\u001b[0mrequest\u001b[0m\u001b[1;33m(\u001b[0m\u001b[0mmethod\u001b[0m\u001b[1;33m,\u001b[0m \u001b[0murl\u001b[0m\u001b[1;33m,\u001b[0m \u001b[0mbody\u001b[0m\u001b[1;33m=\u001b[0m\u001b[0mbody\u001b[0m\u001b[1;33m,\u001b[0m \u001b[0mheaders\u001b[0m\u001b[1;33m=\u001b[0m\u001b[0mheaders\u001b[0m\u001b[1;33m)\u001b[0m\u001b[1;33m\u001b[0m\u001b[1;33m\u001b[0m\u001b[0m\n\u001b[0m\u001b[0;32m    398\u001b[0m \u001b[1;33m\u001b[0m\u001b[0m\n\u001b[0;32m    399\u001b[0m             \u001b[0mstatuscode\u001b[0m \u001b[1;33m=\u001b[0m \u001b[0mresp\u001b[0m\u001b[1;33m.\u001b[0m\u001b[0mstatus\u001b[0m\u001b[1;33m\u001b[0m\u001b[1;33m\u001b[0m\u001b[0m\n",
      "\u001b[1;32m~\\anaconda\\lib\\site-packages\\urllib3\\request.py\u001b[0m in \u001b[0;36mrequest\u001b[1;34m(self, method, url, fields, headers, **urlopen_kw)\u001b[0m\n\u001b[0;32m     77\u001b[0m             )\n\u001b[0;32m     78\u001b[0m         \u001b[1;32melse\u001b[0m\u001b[1;33m:\u001b[0m\u001b[1;33m\u001b[0m\u001b[1;33m\u001b[0m\u001b[0m\n\u001b[1;32m---> 79\u001b[1;33m             return self.request_encode_body(\n\u001b[0m\u001b[0;32m     80\u001b[0m                 \u001b[0mmethod\u001b[0m\u001b[1;33m,\u001b[0m \u001b[0murl\u001b[0m\u001b[1;33m,\u001b[0m \u001b[0mfields\u001b[0m\u001b[1;33m=\u001b[0m\u001b[0mfields\u001b[0m\u001b[1;33m,\u001b[0m \u001b[0mheaders\u001b[0m\u001b[1;33m=\u001b[0m\u001b[0mheaders\u001b[0m\u001b[1;33m,\u001b[0m \u001b[1;33m**\u001b[0m\u001b[0murlopen_kw\u001b[0m\u001b[1;33m\u001b[0m\u001b[1;33m\u001b[0m\u001b[0m\n\u001b[0;32m     81\u001b[0m             )\n",
      "\u001b[1;32m~\\anaconda\\lib\\site-packages\\urllib3\\request.py\u001b[0m in \u001b[0;36mrequest_encode_body\u001b[1;34m(self, method, url, fields, headers, encode_multipart, multipart_boundary, **urlopen_kw)\u001b[0m\n\u001b[0;32m    169\u001b[0m         \u001b[0mextra_kw\u001b[0m\u001b[1;33m.\u001b[0m\u001b[0mupdate\u001b[0m\u001b[1;33m(\u001b[0m\u001b[0murlopen_kw\u001b[0m\u001b[1;33m)\u001b[0m\u001b[1;33m\u001b[0m\u001b[1;33m\u001b[0m\u001b[0m\n\u001b[0;32m    170\u001b[0m \u001b[1;33m\u001b[0m\u001b[0m\n\u001b[1;32m--> 171\u001b[1;33m         \u001b[1;32mreturn\u001b[0m \u001b[0mself\u001b[0m\u001b[1;33m.\u001b[0m\u001b[0murlopen\u001b[0m\u001b[1;33m(\u001b[0m\u001b[0mmethod\u001b[0m\u001b[1;33m,\u001b[0m \u001b[0murl\u001b[0m\u001b[1;33m,\u001b[0m \u001b[1;33m**\u001b[0m\u001b[0mextra_kw\u001b[0m\u001b[1;33m)\u001b[0m\u001b[1;33m\u001b[0m\u001b[1;33m\u001b[0m\u001b[0m\n\u001b[0m",
      "\u001b[1;32m~\\anaconda\\lib\\site-packages\\urllib3\\poolmanager.py\u001b[0m in \u001b[0;36murlopen\u001b[1;34m(self, method, url, redirect, **kw)\u001b[0m\n\u001b[0;32m    334\u001b[0m             \u001b[0mresponse\u001b[0m \u001b[1;33m=\u001b[0m \u001b[0mconn\u001b[0m\u001b[1;33m.\u001b[0m\u001b[0murlopen\u001b[0m\u001b[1;33m(\u001b[0m\u001b[0mmethod\u001b[0m\u001b[1;33m,\u001b[0m \u001b[0murl\u001b[0m\u001b[1;33m,\u001b[0m \u001b[1;33m**\u001b[0m\u001b[0mkw\u001b[0m\u001b[1;33m)\u001b[0m\u001b[1;33m\u001b[0m\u001b[1;33m\u001b[0m\u001b[0m\n\u001b[0;32m    335\u001b[0m         \u001b[1;32melse\u001b[0m\u001b[1;33m:\u001b[0m\u001b[1;33m\u001b[0m\u001b[1;33m\u001b[0m\u001b[0m\n\u001b[1;32m--> 336\u001b[1;33m             \u001b[0mresponse\u001b[0m \u001b[1;33m=\u001b[0m \u001b[0mconn\u001b[0m\u001b[1;33m.\u001b[0m\u001b[0murlopen\u001b[0m\u001b[1;33m(\u001b[0m\u001b[0mmethod\u001b[0m\u001b[1;33m,\u001b[0m \u001b[0mu\u001b[0m\u001b[1;33m.\u001b[0m\u001b[0mrequest_uri\u001b[0m\u001b[1;33m,\u001b[0m \u001b[1;33m**\u001b[0m\u001b[0mkw\u001b[0m\u001b[1;33m)\u001b[0m\u001b[1;33m\u001b[0m\u001b[1;33m\u001b[0m\u001b[0m\n\u001b[0m\u001b[0;32m    337\u001b[0m \u001b[1;33m\u001b[0m\u001b[0m\n\u001b[0;32m    338\u001b[0m         \u001b[0mredirect_location\u001b[0m \u001b[1;33m=\u001b[0m \u001b[0mredirect\u001b[0m \u001b[1;32mand\u001b[0m \u001b[0mresponse\u001b[0m\u001b[1;33m.\u001b[0m\u001b[0mget_redirect_location\u001b[0m\u001b[1;33m(\u001b[0m\u001b[1;33m)\u001b[0m\u001b[1;33m\u001b[0m\u001b[1;33m\u001b[0m\u001b[0m\n",
      "\u001b[1;32m~\\anaconda\\lib\\site-packages\\urllib3\\connectionpool.py\u001b[0m in \u001b[0;36murlopen\u001b[1;34m(self, method, url, body, headers, retries, redirect, assert_same_host, timeout, pool_timeout, release_conn, chunked, body_pos, **response_kw)\u001b[0m\n\u001b[0;32m    668\u001b[0m \u001b[1;33m\u001b[0m\u001b[0m\n\u001b[0;32m    669\u001b[0m             \u001b[1;31m# Make the request on the httplib connection object.\u001b[0m\u001b[1;33m\u001b[0m\u001b[1;33m\u001b[0m\u001b[1;33m\u001b[0m\u001b[0m\n\u001b[1;32m--> 670\u001b[1;33m             httplib_response = self._make_request(\n\u001b[0m\u001b[0;32m    671\u001b[0m                 \u001b[0mconn\u001b[0m\u001b[1;33m,\u001b[0m\u001b[1;33m\u001b[0m\u001b[1;33m\u001b[0m\u001b[0m\n\u001b[0;32m    672\u001b[0m                 \u001b[0mmethod\u001b[0m\u001b[1;33m,\u001b[0m\u001b[1;33m\u001b[0m\u001b[1;33m\u001b[0m\u001b[0m\n",
      "\u001b[1;32m~\\anaconda\\lib\\site-packages\\urllib3\\connectionpool.py\u001b[0m in \u001b[0;36m_make_request\u001b[1;34m(self, conn, method, url, timeout, chunked, **httplib_request_kw)\u001b[0m\n\u001b[0;32m    424\u001b[0m                     \u001b[1;31m# Python 3 (including for exceptions like SystemExit).\u001b[0m\u001b[1;33m\u001b[0m\u001b[1;33m\u001b[0m\u001b[1;33m\u001b[0m\u001b[0m\n\u001b[0;32m    425\u001b[0m                     \u001b[1;31m# Otherwise it looks like a bug in the code.\u001b[0m\u001b[1;33m\u001b[0m\u001b[1;33m\u001b[0m\u001b[1;33m\u001b[0m\u001b[0m\n\u001b[1;32m--> 426\u001b[1;33m                     \u001b[0msix\u001b[0m\u001b[1;33m.\u001b[0m\u001b[0mraise_from\u001b[0m\u001b[1;33m(\u001b[0m\u001b[0me\u001b[0m\u001b[1;33m,\u001b[0m \u001b[1;32mNone\u001b[0m\u001b[1;33m)\u001b[0m\u001b[1;33m\u001b[0m\u001b[1;33m\u001b[0m\u001b[0m\n\u001b[0m\u001b[0;32m    427\u001b[0m         \u001b[1;32mexcept\u001b[0m \u001b[1;33m(\u001b[0m\u001b[0mSocketTimeout\u001b[0m\u001b[1;33m,\u001b[0m \u001b[0mBaseSSLError\u001b[0m\u001b[1;33m,\u001b[0m \u001b[0mSocketError\u001b[0m\u001b[1;33m)\u001b[0m \u001b[1;32mas\u001b[0m \u001b[0me\u001b[0m\u001b[1;33m:\u001b[0m\u001b[1;33m\u001b[0m\u001b[1;33m\u001b[0m\u001b[0m\n\u001b[0;32m    428\u001b[0m             \u001b[0mself\u001b[0m\u001b[1;33m.\u001b[0m\u001b[0m_raise_timeout\u001b[0m\u001b[1;33m(\u001b[0m\u001b[0merr\u001b[0m\u001b[1;33m=\u001b[0m\u001b[0me\u001b[0m\u001b[1;33m,\u001b[0m \u001b[0murl\u001b[0m\u001b[1;33m=\u001b[0m\u001b[0murl\u001b[0m\u001b[1;33m,\u001b[0m \u001b[0mtimeout_value\u001b[0m\u001b[1;33m=\u001b[0m\u001b[0mread_timeout\u001b[0m\u001b[1;33m)\u001b[0m\u001b[1;33m\u001b[0m\u001b[1;33m\u001b[0m\u001b[0m\n",
      "\u001b[1;32m~\\anaconda\\lib\\site-packages\\urllib3\\packages\\six.py\u001b[0m in \u001b[0;36mraise_from\u001b[1;34m(value, from_value)\u001b[0m\n",
      "\u001b[1;32m~\\anaconda\\lib\\site-packages\\urllib3\\connectionpool.py\u001b[0m in \u001b[0;36m_make_request\u001b[1;34m(self, conn, method, url, timeout, chunked, **httplib_request_kw)\u001b[0m\n\u001b[0;32m    419\u001b[0m                 \u001b[1;31m# Python 3\u001b[0m\u001b[1;33m\u001b[0m\u001b[1;33m\u001b[0m\u001b[1;33m\u001b[0m\u001b[0m\n\u001b[0;32m    420\u001b[0m                 \u001b[1;32mtry\u001b[0m\u001b[1;33m:\u001b[0m\u001b[1;33m\u001b[0m\u001b[1;33m\u001b[0m\u001b[0m\n\u001b[1;32m--> 421\u001b[1;33m                     \u001b[0mhttplib_response\u001b[0m \u001b[1;33m=\u001b[0m \u001b[0mconn\u001b[0m\u001b[1;33m.\u001b[0m\u001b[0mgetresponse\u001b[0m\u001b[1;33m(\u001b[0m\u001b[1;33m)\u001b[0m\u001b[1;33m\u001b[0m\u001b[1;33m\u001b[0m\u001b[0m\n\u001b[0m\u001b[0;32m    422\u001b[0m                 \u001b[1;32mexcept\u001b[0m \u001b[0mBaseException\u001b[0m \u001b[1;32mas\u001b[0m \u001b[0me\u001b[0m\u001b[1;33m:\u001b[0m\u001b[1;33m\u001b[0m\u001b[1;33m\u001b[0m\u001b[0m\n\u001b[0;32m    423\u001b[0m                     \u001b[1;31m# Remove the TypeError from the exception chain in\u001b[0m\u001b[1;33m\u001b[0m\u001b[1;33m\u001b[0m\u001b[1;33m\u001b[0m\u001b[0m\n",
      "\u001b[1;32m~\\anaconda\\lib\\http\\client.py\u001b[0m in \u001b[0;36mgetresponse\u001b[1;34m(self)\u001b[0m\n\u001b[0;32m   1345\u001b[0m         \u001b[1;32mtry\u001b[0m\u001b[1;33m:\u001b[0m\u001b[1;33m\u001b[0m\u001b[1;33m\u001b[0m\u001b[0m\n\u001b[0;32m   1346\u001b[0m             \u001b[1;32mtry\u001b[0m\u001b[1;33m:\u001b[0m\u001b[1;33m\u001b[0m\u001b[1;33m\u001b[0m\u001b[0m\n\u001b[1;32m-> 1347\u001b[1;33m                 \u001b[0mresponse\u001b[0m\u001b[1;33m.\u001b[0m\u001b[0mbegin\u001b[0m\u001b[1;33m(\u001b[0m\u001b[1;33m)\u001b[0m\u001b[1;33m\u001b[0m\u001b[1;33m\u001b[0m\u001b[0m\n\u001b[0m\u001b[0;32m   1348\u001b[0m             \u001b[1;32mexcept\u001b[0m \u001b[0mConnectionError\u001b[0m\u001b[1;33m:\u001b[0m\u001b[1;33m\u001b[0m\u001b[1;33m\u001b[0m\u001b[0m\n\u001b[0;32m   1349\u001b[0m                 \u001b[0mself\u001b[0m\u001b[1;33m.\u001b[0m\u001b[0mclose\u001b[0m\u001b[1;33m(\u001b[0m\u001b[1;33m)\u001b[0m\u001b[1;33m\u001b[0m\u001b[1;33m\u001b[0m\u001b[0m\n",
      "\u001b[1;32m~\\anaconda\\lib\\http\\client.py\u001b[0m in \u001b[0;36mbegin\u001b[1;34m(self)\u001b[0m\n\u001b[0;32m    305\u001b[0m         \u001b[1;31m# read until we get a non-100 response\u001b[0m\u001b[1;33m\u001b[0m\u001b[1;33m\u001b[0m\u001b[1;33m\u001b[0m\u001b[0m\n\u001b[0;32m    306\u001b[0m         \u001b[1;32mwhile\u001b[0m \u001b[1;32mTrue\u001b[0m\u001b[1;33m:\u001b[0m\u001b[1;33m\u001b[0m\u001b[1;33m\u001b[0m\u001b[0m\n\u001b[1;32m--> 307\u001b[1;33m             \u001b[0mversion\u001b[0m\u001b[1;33m,\u001b[0m \u001b[0mstatus\u001b[0m\u001b[1;33m,\u001b[0m \u001b[0mreason\u001b[0m \u001b[1;33m=\u001b[0m \u001b[0mself\u001b[0m\u001b[1;33m.\u001b[0m\u001b[0m_read_status\u001b[0m\u001b[1;33m(\u001b[0m\u001b[1;33m)\u001b[0m\u001b[1;33m\u001b[0m\u001b[1;33m\u001b[0m\u001b[0m\n\u001b[0m\u001b[0;32m    308\u001b[0m             \u001b[1;32mif\u001b[0m \u001b[0mstatus\u001b[0m \u001b[1;33m!=\u001b[0m \u001b[0mCONTINUE\u001b[0m\u001b[1;33m:\u001b[0m\u001b[1;33m\u001b[0m\u001b[1;33m\u001b[0m\u001b[0m\n\u001b[0;32m    309\u001b[0m                 \u001b[1;32mbreak\u001b[0m\u001b[1;33m\u001b[0m\u001b[1;33m\u001b[0m\u001b[0m\n",
      "\u001b[1;32m~\\anaconda\\lib\\http\\client.py\u001b[0m in \u001b[0;36m_read_status\u001b[1;34m(self)\u001b[0m\n\u001b[0;32m    266\u001b[0m \u001b[1;33m\u001b[0m\u001b[0m\n\u001b[0;32m    267\u001b[0m     \u001b[1;32mdef\u001b[0m \u001b[0m_read_status\u001b[0m\u001b[1;33m(\u001b[0m\u001b[0mself\u001b[0m\u001b[1;33m)\u001b[0m\u001b[1;33m:\u001b[0m\u001b[1;33m\u001b[0m\u001b[1;33m\u001b[0m\u001b[0m\n\u001b[1;32m--> 268\u001b[1;33m         \u001b[0mline\u001b[0m \u001b[1;33m=\u001b[0m \u001b[0mstr\u001b[0m\u001b[1;33m(\u001b[0m\u001b[0mself\u001b[0m\u001b[1;33m.\u001b[0m\u001b[0mfp\u001b[0m\u001b[1;33m.\u001b[0m\u001b[0mreadline\u001b[0m\u001b[1;33m(\u001b[0m\u001b[0m_MAXLINE\u001b[0m \u001b[1;33m+\u001b[0m \u001b[1;36m1\u001b[0m\u001b[1;33m)\u001b[0m\u001b[1;33m,\u001b[0m \u001b[1;34m\"iso-8859-1\"\u001b[0m\u001b[1;33m)\u001b[0m\u001b[1;33m\u001b[0m\u001b[1;33m\u001b[0m\u001b[0m\n\u001b[0m\u001b[0;32m    269\u001b[0m         \u001b[1;32mif\u001b[0m \u001b[0mlen\u001b[0m\u001b[1;33m(\u001b[0m\u001b[0mline\u001b[0m\u001b[1;33m)\u001b[0m \u001b[1;33m>\u001b[0m \u001b[0m_MAXLINE\u001b[0m\u001b[1;33m:\u001b[0m\u001b[1;33m\u001b[0m\u001b[1;33m\u001b[0m\u001b[0m\n\u001b[0;32m    270\u001b[0m             \u001b[1;32mraise\u001b[0m \u001b[0mLineTooLong\u001b[0m\u001b[1;33m(\u001b[0m\u001b[1;34m\"status line\"\u001b[0m\u001b[1;33m)\u001b[0m\u001b[1;33m\u001b[0m\u001b[1;33m\u001b[0m\u001b[0m\n",
      "\u001b[1;32m~\\anaconda\\lib\\socket.py\u001b[0m in \u001b[0;36mreadinto\u001b[1;34m(self, b)\u001b[0m\n\u001b[0;32m    667\u001b[0m         \u001b[1;32mwhile\u001b[0m \u001b[1;32mTrue\u001b[0m\u001b[1;33m:\u001b[0m\u001b[1;33m\u001b[0m\u001b[1;33m\u001b[0m\u001b[0m\n\u001b[0;32m    668\u001b[0m             \u001b[1;32mtry\u001b[0m\u001b[1;33m:\u001b[0m\u001b[1;33m\u001b[0m\u001b[1;33m\u001b[0m\u001b[0m\n\u001b[1;32m--> 669\u001b[1;33m                 \u001b[1;32mreturn\u001b[0m \u001b[0mself\u001b[0m\u001b[1;33m.\u001b[0m\u001b[0m_sock\u001b[0m\u001b[1;33m.\u001b[0m\u001b[0mrecv_into\u001b[0m\u001b[1;33m(\u001b[0m\u001b[0mb\u001b[0m\u001b[1;33m)\u001b[0m\u001b[1;33m\u001b[0m\u001b[1;33m\u001b[0m\u001b[0m\n\u001b[0m\u001b[0;32m    670\u001b[0m             \u001b[1;32mexcept\u001b[0m \u001b[0mtimeout\u001b[0m\u001b[1;33m:\u001b[0m\u001b[1;33m\u001b[0m\u001b[1;33m\u001b[0m\u001b[0m\n\u001b[0;32m    671\u001b[0m                 \u001b[0mself\u001b[0m\u001b[1;33m.\u001b[0m\u001b[0m_timeout_occurred\u001b[0m \u001b[1;33m=\u001b[0m \u001b[1;32mTrue\u001b[0m\u001b[1;33m\u001b[0m\u001b[1;33m\u001b[0m\u001b[0m\n",
      "\u001b[1;31mKeyboardInterrupt\u001b[0m: "
     ]
    }
   ],
   "source": [
    "browser = webdriver.Chrome(executable_path='chromedriver.exe')\n",
    "get_all_house_information(1000, 'Data\\house_information.csv')\n"
   ]
  }
 ],
 "metadata": {
  "kernelspec": {
   "display_name": "Python 3",
   "language": "python",
   "name": "python3"
  },
  "language_info": {
   "codemirror_mode": {
    "name": "ipython",
    "version": 3
   },
   "file_extension": ".py",
   "mimetype": "text/x-python",
   "name": "python",
   "nbconvert_exporter": "python",
   "pygments_lexer": "ipython3",
   "version": "3.8.5"
  }
 },
 "nbformat": 4,
 "nbformat_minor": 4
}
